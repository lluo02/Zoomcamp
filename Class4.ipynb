{
 "cells": [
  {
   "cell_type": "code",
   "execution_count": 1,
   "id": "585a6431-32fe-4c9a-b178-39a7bc53b8ba",
   "metadata": {},
   "outputs": [],
   "source": [
    "import numpy as np\n",
    "import pandas as pd"
   ]
  },
  {
   "cell_type": "code",
   "execution_count": 2,
   "id": "169aab65-df43-4199-8f2d-56cbc2561346",
   "metadata": {},
   "outputs": [
    {
     "data": {
      "text/html": [
       "<div>\n",
       "<style scoped>\n",
       "    .dataframe tbody tr th:only-of-type {\n",
       "        vertical-align: middle;\n",
       "    }\n",
       "\n",
       "    .dataframe tbody tr th {\n",
       "        vertical-align: top;\n",
       "    }\n",
       "\n",
       "    .dataframe thead th {\n",
       "        text-align: right;\n",
       "    }\n",
       "</style>\n",
       "<table border=\"1\" class=\"dataframe\">\n",
       "  <thead>\n",
       "    <tr style=\"text-align: right;\">\n",
       "      <th></th>\n",
       "      <th>customerID</th>\n",
       "      <th>gender</th>\n",
       "      <th>SeniorCitizen</th>\n",
       "      <th>Partner</th>\n",
       "      <th>Dependents</th>\n",
       "      <th>tenure</th>\n",
       "      <th>PhoneService</th>\n",
       "      <th>MultipleLines</th>\n",
       "      <th>InternetService</th>\n",
       "      <th>OnlineSecurity</th>\n",
       "      <th>...</th>\n",
       "      <th>DeviceProtection</th>\n",
       "      <th>TechSupport</th>\n",
       "      <th>StreamingTV</th>\n",
       "      <th>StreamingMovies</th>\n",
       "      <th>Contract</th>\n",
       "      <th>PaperlessBilling</th>\n",
       "      <th>PaymentMethod</th>\n",
       "      <th>MonthlyCharges</th>\n",
       "      <th>TotalCharges</th>\n",
       "      <th>Churn</th>\n",
       "    </tr>\n",
       "  </thead>\n",
       "  <tbody>\n",
       "    <tr>\n",
       "      <th>0</th>\n",
       "      <td>7590-VHVEG</td>\n",
       "      <td>Female</td>\n",
       "      <td>0</td>\n",
       "      <td>Yes</td>\n",
       "      <td>No</td>\n",
       "      <td>1</td>\n",
       "      <td>No</td>\n",
       "      <td>No phone service</td>\n",
       "      <td>DSL</td>\n",
       "      <td>No</td>\n",
       "      <td>...</td>\n",
       "      <td>No</td>\n",
       "      <td>No</td>\n",
       "      <td>No</td>\n",
       "      <td>No</td>\n",
       "      <td>Month-to-month</td>\n",
       "      <td>Yes</td>\n",
       "      <td>Electronic check</td>\n",
       "      <td>29.85</td>\n",
       "      <td>29.85</td>\n",
       "      <td>No</td>\n",
       "    </tr>\n",
       "    <tr>\n",
       "      <th>1</th>\n",
       "      <td>5575-GNVDE</td>\n",
       "      <td>Male</td>\n",
       "      <td>0</td>\n",
       "      <td>No</td>\n",
       "      <td>No</td>\n",
       "      <td>34</td>\n",
       "      <td>Yes</td>\n",
       "      <td>No</td>\n",
       "      <td>DSL</td>\n",
       "      <td>Yes</td>\n",
       "      <td>...</td>\n",
       "      <td>Yes</td>\n",
       "      <td>No</td>\n",
       "      <td>No</td>\n",
       "      <td>No</td>\n",
       "      <td>One year</td>\n",
       "      <td>No</td>\n",
       "      <td>Mailed check</td>\n",
       "      <td>56.95</td>\n",
       "      <td>1889.5</td>\n",
       "      <td>No</td>\n",
       "    </tr>\n",
       "    <tr>\n",
       "      <th>2</th>\n",
       "      <td>3668-QPYBK</td>\n",
       "      <td>Male</td>\n",
       "      <td>0</td>\n",
       "      <td>No</td>\n",
       "      <td>No</td>\n",
       "      <td>2</td>\n",
       "      <td>Yes</td>\n",
       "      <td>No</td>\n",
       "      <td>DSL</td>\n",
       "      <td>Yes</td>\n",
       "      <td>...</td>\n",
       "      <td>No</td>\n",
       "      <td>No</td>\n",
       "      <td>No</td>\n",
       "      <td>No</td>\n",
       "      <td>Month-to-month</td>\n",
       "      <td>Yes</td>\n",
       "      <td>Mailed check</td>\n",
       "      <td>53.85</td>\n",
       "      <td>108.15</td>\n",
       "      <td>Yes</td>\n",
       "    </tr>\n",
       "    <tr>\n",
       "      <th>3</th>\n",
       "      <td>7795-CFOCW</td>\n",
       "      <td>Male</td>\n",
       "      <td>0</td>\n",
       "      <td>No</td>\n",
       "      <td>No</td>\n",
       "      <td>45</td>\n",
       "      <td>No</td>\n",
       "      <td>No phone service</td>\n",
       "      <td>DSL</td>\n",
       "      <td>Yes</td>\n",
       "      <td>...</td>\n",
       "      <td>Yes</td>\n",
       "      <td>Yes</td>\n",
       "      <td>No</td>\n",
       "      <td>No</td>\n",
       "      <td>One year</td>\n",
       "      <td>No</td>\n",
       "      <td>Bank transfer (automatic)</td>\n",
       "      <td>42.30</td>\n",
       "      <td>1840.75</td>\n",
       "      <td>No</td>\n",
       "    </tr>\n",
       "    <tr>\n",
       "      <th>4</th>\n",
       "      <td>9237-HQITU</td>\n",
       "      <td>Female</td>\n",
       "      <td>0</td>\n",
       "      <td>No</td>\n",
       "      <td>No</td>\n",
       "      <td>2</td>\n",
       "      <td>Yes</td>\n",
       "      <td>No</td>\n",
       "      <td>Fiber optic</td>\n",
       "      <td>No</td>\n",
       "      <td>...</td>\n",
       "      <td>No</td>\n",
       "      <td>No</td>\n",
       "      <td>No</td>\n",
       "      <td>No</td>\n",
       "      <td>Month-to-month</td>\n",
       "      <td>Yes</td>\n",
       "      <td>Electronic check</td>\n",
       "      <td>70.70</td>\n",
       "      <td>151.65</td>\n",
       "      <td>Yes</td>\n",
       "    </tr>\n",
       "  </tbody>\n",
       "</table>\n",
       "<p>5 rows × 21 columns</p>\n",
       "</div>"
      ],
      "text/plain": [
       "   customerID  gender  SeniorCitizen Partner Dependents  tenure PhoneService  \\\n",
       "0  7590-VHVEG  Female              0     Yes         No       1           No   \n",
       "1  5575-GNVDE    Male              0      No         No      34          Yes   \n",
       "2  3668-QPYBK    Male              0      No         No       2          Yes   \n",
       "3  7795-CFOCW    Male              0      No         No      45           No   \n",
       "4  9237-HQITU  Female              0      No         No       2          Yes   \n",
       "\n",
       "      MultipleLines InternetService OnlineSecurity  ... DeviceProtection  \\\n",
       "0  No phone service             DSL             No  ...               No   \n",
       "1                No             DSL            Yes  ...              Yes   \n",
       "2                No             DSL            Yes  ...               No   \n",
       "3  No phone service             DSL            Yes  ...              Yes   \n",
       "4                No     Fiber optic             No  ...               No   \n",
       "\n",
       "  TechSupport StreamingTV StreamingMovies        Contract PaperlessBilling  \\\n",
       "0          No          No              No  Month-to-month              Yes   \n",
       "1          No          No              No        One year               No   \n",
       "2          No          No              No  Month-to-month              Yes   \n",
       "3         Yes          No              No        One year               No   \n",
       "4          No          No              No  Month-to-month              Yes   \n",
       "\n",
       "               PaymentMethod MonthlyCharges  TotalCharges Churn  \n",
       "0           Electronic check          29.85         29.85    No  \n",
       "1               Mailed check          56.95        1889.5    No  \n",
       "2               Mailed check          53.85        108.15   Yes  \n",
       "3  Bank transfer (automatic)          42.30       1840.75    No  \n",
       "4           Electronic check          70.70        151.65   Yes  \n",
       "\n",
       "[5 rows x 21 columns]"
      ]
     },
     "execution_count": 2,
     "metadata": {},
     "output_type": "execute_result"
    }
   ],
   "source": [
    "df = pd.read_csv('churn-data.csv')\n",
    "df.head()"
   ]
  },
  {
   "cell_type": "code",
   "execution_count": 3,
   "id": "1a4d2d8d-4e40-47e0-9e94-9f290adbb094",
   "metadata": {},
   "outputs": [],
   "source": [
    "df.columns = df.columns.str.lower().str.replace(' ', '_')\n",
    "categorical_columns = list(df.dtypes[df.dtypes == 'object'].index)\n",
    "\n",
    "for c in categorical_columns:\n",
    "    df[c] = df[c].str.lower().str.replace(' ', '_')"
   ]
  },
  {
   "cell_type": "code",
   "execution_count": 4,
   "id": "dab10cac-23a0-4746-b0ae-824ce91f81c4",
   "metadata": {},
   "outputs": [],
   "source": [
    "df.totalcharges = pd.to_numeric(df.totalcharges, errors='coerce')"
   ]
  },
  {
   "cell_type": "code",
   "execution_count": 5,
   "id": "62071a91-260e-4148-9ffe-1042af5307c2",
   "metadata": {},
   "outputs": [],
   "source": [
    "df.totalcharges = df.totalcharges.fillna(0)"
   ]
  },
  {
   "cell_type": "code",
   "execution_count": 6,
   "id": "e2bc5236-68fd-450f-a572-2ea253b9beb5",
   "metadata": {},
   "outputs": [],
   "source": [
    "df.churn = (df.churn == 'yes').astype(int)"
   ]
  },
  {
   "cell_type": "code",
   "execution_count": 7,
   "id": "fec7607c-b4f1-46d5-968c-27bc17e1b845",
   "metadata": {},
   "outputs": [],
   "source": [
    "from sklearn.model_selection import train_test_split"
   ]
  },
  {
   "cell_type": "code",
   "execution_count": 8,
   "id": "e5d05e3d-f32e-435c-a760-520592efbd83",
   "metadata": {},
   "outputs": [],
   "source": [
    "df_full_train, df_test = train_test_split(df, test_size = 0.2, random_state = 1)"
   ]
  },
  {
   "cell_type": "code",
   "execution_count": 10,
   "id": "8bcdfe0d-70c7-4ece-9500-f0272dade154",
   "metadata": {},
   "outputs": [],
   "source": [
    "df_train, df_val = train_test_split(df_full_train, test_size = 0.25, random_state = 1)"
   ]
  },
  {
   "cell_type": "code",
   "execution_count": 11,
   "id": "b3c74bc2-07d0-44ee-beed-b6988ad9b6c7",
   "metadata": {},
   "outputs": [
    {
     "data": {
      "text/html": [
       "<div>\n",
       "<style scoped>\n",
       "    .dataframe tbody tr th:only-of-type {\n",
       "        vertical-align: middle;\n",
       "    }\n",
       "\n",
       "    .dataframe tbody tr th {\n",
       "        vertical-align: top;\n",
       "    }\n",
       "\n",
       "    .dataframe thead th {\n",
       "        text-align: right;\n",
       "    }\n",
       "</style>\n",
       "<table border=\"1\" class=\"dataframe\">\n",
       "  <thead>\n",
       "    <tr style=\"text-align: right;\">\n",
       "      <th></th>\n",
       "      <th>customerid</th>\n",
       "      <th>gender</th>\n",
       "      <th>seniorcitizen</th>\n",
       "      <th>partner</th>\n",
       "      <th>dependents</th>\n",
       "      <th>tenure</th>\n",
       "      <th>phoneservice</th>\n",
       "      <th>multiplelines</th>\n",
       "      <th>internetservice</th>\n",
       "      <th>onlinesecurity</th>\n",
       "      <th>...</th>\n",
       "      <th>deviceprotection</th>\n",
       "      <th>techsupport</th>\n",
       "      <th>streamingtv</th>\n",
       "      <th>streamingmovies</th>\n",
       "      <th>contract</th>\n",
       "      <th>paperlessbilling</th>\n",
       "      <th>paymentmethod</th>\n",
       "      <th>monthlycharges</th>\n",
       "      <th>totalcharges</th>\n",
       "      <th>churn</th>\n",
       "    </tr>\n",
       "  </thead>\n",
       "  <tbody>\n",
       "    <tr>\n",
       "      <th>0</th>\n",
       "      <td>8879-zkjof</td>\n",
       "      <td>female</td>\n",
       "      <td>0</td>\n",
       "      <td>no</td>\n",
       "      <td>no</td>\n",
       "      <td>41</td>\n",
       "      <td>yes</td>\n",
       "      <td>no</td>\n",
       "      <td>dsl</td>\n",
       "      <td>yes</td>\n",
       "      <td>...</td>\n",
       "      <td>yes</td>\n",
       "      <td>yes</td>\n",
       "      <td>yes</td>\n",
       "      <td>yes</td>\n",
       "      <td>one_year</td>\n",
       "      <td>yes</td>\n",
       "      <td>bank_transfer_(automatic)</td>\n",
       "      <td>79.85</td>\n",
       "      <td>3320.75</td>\n",
       "      <td>0</td>\n",
       "    </tr>\n",
       "    <tr>\n",
       "      <th>1</th>\n",
       "      <td>0201-mibol</td>\n",
       "      <td>female</td>\n",
       "      <td>1</td>\n",
       "      <td>no</td>\n",
       "      <td>no</td>\n",
       "      <td>66</td>\n",
       "      <td>yes</td>\n",
       "      <td>yes</td>\n",
       "      <td>fiber_optic</td>\n",
       "      <td>yes</td>\n",
       "      <td>...</td>\n",
       "      <td>no</td>\n",
       "      <td>no</td>\n",
       "      <td>yes</td>\n",
       "      <td>yes</td>\n",
       "      <td>two_year</td>\n",
       "      <td>yes</td>\n",
       "      <td>bank_transfer_(automatic)</td>\n",
       "      <td>102.40</td>\n",
       "      <td>6471.85</td>\n",
       "      <td>0</td>\n",
       "    </tr>\n",
       "    <tr>\n",
       "      <th>2</th>\n",
       "      <td>1600-dilpe</td>\n",
       "      <td>female</td>\n",
       "      <td>0</td>\n",
       "      <td>no</td>\n",
       "      <td>no</td>\n",
       "      <td>12</td>\n",
       "      <td>yes</td>\n",
       "      <td>no</td>\n",
       "      <td>dsl</td>\n",
       "      <td>no</td>\n",
       "      <td>...</td>\n",
       "      <td>no</td>\n",
       "      <td>no</td>\n",
       "      <td>no</td>\n",
       "      <td>no</td>\n",
       "      <td>month-to-month</td>\n",
       "      <td>yes</td>\n",
       "      <td>bank_transfer_(automatic)</td>\n",
       "      <td>45.00</td>\n",
       "      <td>524.35</td>\n",
       "      <td>0</td>\n",
       "    </tr>\n",
       "    <tr>\n",
       "      <th>3</th>\n",
       "      <td>8601-qacrs</td>\n",
       "      <td>female</td>\n",
       "      <td>0</td>\n",
       "      <td>no</td>\n",
       "      <td>no</td>\n",
       "      <td>5</td>\n",
       "      <td>yes</td>\n",
       "      <td>yes</td>\n",
       "      <td>dsl</td>\n",
       "      <td>no</td>\n",
       "      <td>...</td>\n",
       "      <td>no</td>\n",
       "      <td>no</td>\n",
       "      <td>no</td>\n",
       "      <td>no</td>\n",
       "      <td>month-to-month</td>\n",
       "      <td>yes</td>\n",
       "      <td>mailed_check</td>\n",
       "      <td>50.60</td>\n",
       "      <td>249.95</td>\n",
       "      <td>1</td>\n",
       "    </tr>\n",
       "    <tr>\n",
       "      <th>4</th>\n",
       "      <td>7919-zodzz</td>\n",
       "      <td>female</td>\n",
       "      <td>0</td>\n",
       "      <td>yes</td>\n",
       "      <td>yes</td>\n",
       "      <td>10</td>\n",
       "      <td>yes</td>\n",
       "      <td>no</td>\n",
       "      <td>dsl</td>\n",
       "      <td>no</td>\n",
       "      <td>...</td>\n",
       "      <td>yes</td>\n",
       "      <td>no</td>\n",
       "      <td>no</td>\n",
       "      <td>yes</td>\n",
       "      <td>one_year</td>\n",
       "      <td>yes</td>\n",
       "      <td>mailed_check</td>\n",
       "      <td>65.90</td>\n",
       "      <td>660.05</td>\n",
       "      <td>0</td>\n",
       "    </tr>\n",
       "    <tr>\n",
       "      <th>...</th>\n",
       "      <td>...</td>\n",
       "      <td>...</td>\n",
       "      <td>...</td>\n",
       "      <td>...</td>\n",
       "      <td>...</td>\n",
       "      <td>...</td>\n",
       "      <td>...</td>\n",
       "      <td>...</td>\n",
       "      <td>...</td>\n",
       "      <td>...</td>\n",
       "      <td>...</td>\n",
       "      <td>...</td>\n",
       "      <td>...</td>\n",
       "      <td>...</td>\n",
       "      <td>...</td>\n",
       "      <td>...</td>\n",
       "      <td>...</td>\n",
       "      <td>...</td>\n",
       "      <td>...</td>\n",
       "      <td>...</td>\n",
       "      <td>...</td>\n",
       "    </tr>\n",
       "    <tr>\n",
       "      <th>1404</th>\n",
       "      <td>5130-iekqt</td>\n",
       "      <td>male</td>\n",
       "      <td>1</td>\n",
       "      <td>no</td>\n",
       "      <td>no</td>\n",
       "      <td>25</td>\n",
       "      <td>yes</td>\n",
       "      <td>yes</td>\n",
       "      <td>fiber_optic</td>\n",
       "      <td>no</td>\n",
       "      <td>...</td>\n",
       "      <td>yes</td>\n",
       "      <td>no</td>\n",
       "      <td>yes</td>\n",
       "      <td>yes</td>\n",
       "      <td>month-to-month</td>\n",
       "      <td>no</td>\n",
       "      <td>mailed_check</td>\n",
       "      <td>105.95</td>\n",
       "      <td>2655.25</td>\n",
       "      <td>1</td>\n",
       "    </tr>\n",
       "    <tr>\n",
       "      <th>1405</th>\n",
       "      <td>4452-rohmo</td>\n",
       "      <td>female</td>\n",
       "      <td>0</td>\n",
       "      <td>no</td>\n",
       "      <td>no</td>\n",
       "      <td>15</td>\n",
       "      <td>yes</td>\n",
       "      <td>no</td>\n",
       "      <td>no</td>\n",
       "      <td>no_internet_service</td>\n",
       "      <td>...</td>\n",
       "      <td>no_internet_service</td>\n",
       "      <td>no_internet_service</td>\n",
       "      <td>no_internet_service</td>\n",
       "      <td>no_internet_service</td>\n",
       "      <td>two_year</td>\n",
       "      <td>no</td>\n",
       "      <td>mailed_check</td>\n",
       "      <td>19.60</td>\n",
       "      <td>331.60</td>\n",
       "      <td>0</td>\n",
       "    </tr>\n",
       "    <tr>\n",
       "      <th>1406</th>\n",
       "      <td>6164-haqtx</td>\n",
       "      <td>male</td>\n",
       "      <td>0</td>\n",
       "      <td>no</td>\n",
       "      <td>no</td>\n",
       "      <td>71</td>\n",
       "      <td>no</td>\n",
       "      <td>no_phone_service</td>\n",
       "      <td>dsl</td>\n",
       "      <td>yes</td>\n",
       "      <td>...</td>\n",
       "      <td>yes</td>\n",
       "      <td>yes</td>\n",
       "      <td>yes</td>\n",
       "      <td>no</td>\n",
       "      <td>two_year</td>\n",
       "      <td>no</td>\n",
       "      <td>bank_transfer_(automatic)</td>\n",
       "      <td>53.95</td>\n",
       "      <td>3888.65</td>\n",
       "      <td>0</td>\n",
       "    </tr>\n",
       "    <tr>\n",
       "      <th>1407</th>\n",
       "      <td>3982-dqlus</td>\n",
       "      <td>male</td>\n",
       "      <td>1</td>\n",
       "      <td>yes</td>\n",
       "      <td>yes</td>\n",
       "      <td>65</td>\n",
       "      <td>yes</td>\n",
       "      <td>yes</td>\n",
       "      <td>fiber_optic</td>\n",
       "      <td>yes</td>\n",
       "      <td>...</td>\n",
       "      <td>no</td>\n",
       "      <td>no</td>\n",
       "      <td>no</td>\n",
       "      <td>no</td>\n",
       "      <td>month-to-month</td>\n",
       "      <td>yes</td>\n",
       "      <td>electronic_check</td>\n",
       "      <td>85.75</td>\n",
       "      <td>5688.45</td>\n",
       "      <td>0</td>\n",
       "    </tr>\n",
       "    <tr>\n",
       "      <th>1408</th>\n",
       "      <td>9874-qlclh</td>\n",
       "      <td>female</td>\n",
       "      <td>0</td>\n",
       "      <td>yes</td>\n",
       "      <td>yes</td>\n",
       "      <td>17</td>\n",
       "      <td>yes</td>\n",
       "      <td>yes</td>\n",
       "      <td>fiber_optic</td>\n",
       "      <td>yes</td>\n",
       "      <td>...</td>\n",
       "      <td>yes</td>\n",
       "      <td>no</td>\n",
       "      <td>yes</td>\n",
       "      <td>yes</td>\n",
       "      <td>month-to-month</td>\n",
       "      <td>yes</td>\n",
       "      <td>electronic_check</td>\n",
       "      <td>104.20</td>\n",
       "      <td>1743.50</td>\n",
       "      <td>1</td>\n",
       "    </tr>\n",
       "  </tbody>\n",
       "</table>\n",
       "<p>1409 rows × 21 columns</p>\n",
       "</div>"
      ],
      "text/plain": [
       "      customerid  gender  seniorcitizen partner dependents  tenure  \\\n",
       "0     8879-zkjof  female              0      no         no      41   \n",
       "1     0201-mibol  female              1      no         no      66   \n",
       "2     1600-dilpe  female              0      no         no      12   \n",
       "3     8601-qacrs  female              0      no         no       5   \n",
       "4     7919-zodzz  female              0     yes        yes      10   \n",
       "...          ...     ...            ...     ...        ...     ...   \n",
       "1404  5130-iekqt    male              1      no         no      25   \n",
       "1405  4452-rohmo  female              0      no         no      15   \n",
       "1406  6164-haqtx    male              0      no         no      71   \n",
       "1407  3982-dqlus    male              1     yes        yes      65   \n",
       "1408  9874-qlclh  female              0     yes        yes      17   \n",
       "\n",
       "     phoneservice     multiplelines internetservice       onlinesecurity  ...  \\\n",
       "0             yes                no             dsl                  yes  ...   \n",
       "1             yes               yes     fiber_optic                  yes  ...   \n",
       "2             yes                no             dsl                   no  ...   \n",
       "3             yes               yes             dsl                   no  ...   \n",
       "4             yes                no             dsl                   no  ...   \n",
       "...           ...               ...             ...                  ...  ...   \n",
       "1404          yes               yes     fiber_optic                   no  ...   \n",
       "1405          yes                no              no  no_internet_service  ...   \n",
       "1406           no  no_phone_service             dsl                  yes  ...   \n",
       "1407          yes               yes     fiber_optic                  yes  ...   \n",
       "1408          yes               yes     fiber_optic                  yes  ...   \n",
       "\n",
       "         deviceprotection          techsupport          streamingtv  \\\n",
       "0                     yes                  yes                  yes   \n",
       "1                      no                   no                  yes   \n",
       "2                      no                   no                   no   \n",
       "3                      no                   no                   no   \n",
       "4                     yes                   no                   no   \n",
       "...                   ...                  ...                  ...   \n",
       "1404                  yes                   no                  yes   \n",
       "1405  no_internet_service  no_internet_service  no_internet_service   \n",
       "1406                  yes                  yes                  yes   \n",
       "1407                   no                   no                   no   \n",
       "1408                  yes                   no                  yes   \n",
       "\n",
       "          streamingmovies        contract paperlessbilling  \\\n",
       "0                     yes        one_year              yes   \n",
       "1                     yes        two_year              yes   \n",
       "2                      no  month-to-month              yes   \n",
       "3                      no  month-to-month              yes   \n",
       "4                     yes        one_year              yes   \n",
       "...                   ...             ...              ...   \n",
       "1404                  yes  month-to-month               no   \n",
       "1405  no_internet_service        two_year               no   \n",
       "1406                   no        two_year               no   \n",
       "1407                   no  month-to-month              yes   \n",
       "1408                  yes  month-to-month              yes   \n",
       "\n",
       "                  paymentmethod monthlycharges  totalcharges  churn  \n",
       "0     bank_transfer_(automatic)          79.85       3320.75      0  \n",
       "1     bank_transfer_(automatic)         102.40       6471.85      0  \n",
       "2     bank_transfer_(automatic)          45.00        524.35      0  \n",
       "3                  mailed_check          50.60        249.95      1  \n",
       "4                  mailed_check          65.90        660.05      0  \n",
       "...                         ...            ...           ...    ...  \n",
       "1404               mailed_check         105.95       2655.25      1  \n",
       "1405               mailed_check          19.60        331.60      0  \n",
       "1406  bank_transfer_(automatic)          53.95       3888.65      0  \n",
       "1407           electronic_check          85.75       5688.45      0  \n",
       "1408           electronic_check         104.20       1743.50      1  \n",
       "\n",
       "[1409 rows x 21 columns]"
      ]
     },
     "execution_count": 11,
     "metadata": {},
     "output_type": "execute_result"
    }
   ],
   "source": [
    "df_train.reset_index(drop = True)\n",
    "df_val.reset_index(drop = True)\n",
    "df_test.reset_index(drop = True)"
   ]
  },
  {
   "cell_type": "code",
   "execution_count": 12,
   "id": "3f014c49-e77d-4aac-9716-d0c385a884e4",
   "metadata": {},
   "outputs": [],
   "source": [
    "y_train = df_train.churn.values\n",
    "y_val = df_val.churn.values\n",
    "y_test = df_test.churn.values"
   ]
  },
  {
   "cell_type": "code",
   "execution_count": 13,
   "id": "1f5411b8-3f44-4ee5-9678-daad59aa1c94",
   "metadata": {},
   "outputs": [],
   "source": [
    "del df_train['churn']\n",
    "del df_val['churn']\n",
    "del df_test['churn']"
   ]
  },
  {
   "cell_type": "code",
   "execution_count": 14,
   "id": "9513434d-9e30-4f39-ada4-dc163a3b82e1",
   "metadata": {},
   "outputs": [],
   "source": [
    "global_churn_rate = df_full_train.churn.mean()\n"
   ]
  },
  {
   "cell_type": "code",
   "execution_count": 1,
   "id": "69334826-5e39-4c23-aaab-7239f0eca45a",
   "metadata": {},
   "outputs": [],
   "source": [
    "numerical = ['tenure', 'monthlycharges', 'totalcharges'] # 3 numerical\n",
    "categorical = ['gender', 'seniorcitizen', 'partner', 'dependents',\n",
    "       'phoneservice', 'multiplelines', 'internetservice',\n",
    "       'onlinesecurity', 'onlinebackup', 'deviceprotection', 'techsupport',\n",
    "       'streamingtv', 'streamingmovies', 'contract', 'paperlessbilling',\n",
    "       'paymentmethod']"
   ]
  },
  {
   "cell_type": "code",
   "execution_count": 16,
   "id": "24a749ac-d1a6-4cd9-85f2-450e0118d718",
   "metadata": {},
   "outputs": [],
   "source": [
    "from sklearn.feature_extraction import DictVectorizer"
   ]
  },
  {
   "cell_type": "code",
   "execution_count": 22,
   "id": "94aa3e1a-347a-4f88-b940-91423bf021f3",
   "metadata": {},
   "outputs": [],
   "source": [
    "train_dicts = df_train[categorical + numerical].to_dict(orient='records')\n",
    "\n",
    "dv = DictVectorizer(sparse=False)\n",
    "X_train = dv.fit_transform(train_dicts)\n",
    "\n",
    "val_dicts = df_val[categorical + numerical].to_dict(orient='records')\n",
    "X_val = dv.transform(val_dicts)"
   ]
  },
  {
   "cell_type": "code",
   "execution_count": 17,
   "id": "e35e860b-cf27-4a27-a5b9-7d4638616824",
   "metadata": {},
   "outputs": [],
   "source": [
    "def sigmoid(z):\n",
    "    return 1 / (1+np.exp(-z))"
   ]
  },
  {
   "cell_type": "code",
   "execution_count": 18,
   "id": "74e77e50-daa0-422e-9718-d05f3ac8a8bb",
   "metadata": {},
   "outputs": [],
   "source": [
    "from sklearn.linear_model import LogisticRegression"
   ]
  },
  {
   "cell_type": "code",
   "execution_count": 23,
   "id": "37efa672-cfac-43a5-9a7f-845eb090d66c",
   "metadata": {},
   "outputs": [
    {
     "name": "stderr",
     "output_type": "stream",
     "text": [
      "C:\\Users\\Luke Luo\\anaconda3\\lib\\site-packages\\sklearn\\linear_model\\_logistic.py:763: ConvergenceWarning: lbfgs failed to converge (status=1):\n",
      "STOP: TOTAL NO. of ITERATIONS REACHED LIMIT.\n",
      "\n",
      "Increase the number of iterations (max_iter) or scale the data as shown in:\n",
      "    https://scikit-learn.org/stable/modules/preprocessing.html\n",
      "Please also refer to the documentation for alternative solver options:\n",
      "    https://scikit-learn.org/stable/modules/linear_model.html#logistic-regression\n",
      "  n_iter_i = _check_optimize_result(\n"
     ]
    },
    {
     "data": {
      "text/plain": [
       "0.8034066713981547"
      ]
     },
     "execution_count": 23,
     "metadata": {},
     "output_type": "execute_result"
    }
   ],
   "source": [
    "model = LogisticRegression()\n",
    "model.fit(X_train, y_train)\n",
    "\n",
    "y_pred = model.predict_proba(X_val)[:, 1]\n",
    "y_pred\n",
    "\n",
    "churn_decision = y_pred >= .5\n",
    "churn_decision.astype(int)\n",
    "\n",
    "df_pred = pd.DataFrame()\n",
    "df_pred['probability'] = y_pred\n",
    "df_pred['prediction'] = churn_decision.astype(int)\n",
    "df_pred['actual'] = y_val\n",
    "\n",
    "df_pred['correct'] = df_pred.prediction == df_pred.actual\n",
    "df_pred.correct.mean()\n"
   ]
  },
  {
   "cell_type": "markdown",
   "id": "8573a98d-7b88-4860-8e2b-4410250b7856",
   "metadata": {},
   "source": [
    "## **Accuracy and Dummy Model**"
   ]
  },
  {
   "cell_type": "code",
   "execution_count": 24,
   "id": "21cf24d7-3a83-4e7b-adcb-a16d4e4f3307",
   "metadata": {},
   "outputs": [
    {
     "data": {
      "text/plain": [
       "1409"
      ]
     },
     "execution_count": 24,
     "metadata": {},
     "output_type": "execute_result"
    }
   ],
   "source": [
    "len(y_val)"
   ]
  },
  {
   "cell_type": "code",
   "execution_count": 25,
   "id": "186dbd6a-a6c5-4470-aeca-b9720de38613",
   "metadata": {},
   "outputs": [
    {
     "data": {
      "text/plain": [
       "0.8034066713981547"
      ]
     },
     "execution_count": 25,
     "metadata": {},
     "output_type": "execute_result"
    }
   ],
   "source": [
    "(y_val == churn_decision).mean()"
   ]
  },
  {
   "cell_type": "code",
   "execution_count": 26,
   "id": "296224e7-9529-4837-83f8-e6931c53a4ad",
   "metadata": {},
   "outputs": [
    {
     "data": {
      "text/plain": [
       "0.8034066713981547"
      ]
     },
     "execution_count": 26,
     "metadata": {},
     "output_type": "execute_result"
    }
   ],
   "source": [
    "1132/1409"
   ]
  },
  {
   "cell_type": "code",
   "execution_count": 34,
   "id": "39727df2-4264-4c60-91d8-ba38c0c6c38f",
   "metadata": {},
   "outputs": [],
   "source": [
    "from sklearn.metrics import accuracy_score"
   ]
  },
  {
   "cell_type": "code",
   "execution_count": 35,
   "id": "e3d2bee8-dc34-4974-be2a-5df0a73344dc",
   "metadata": {},
   "outputs": [
    {
     "data": {
      "text/plain": [
       "0.8034066713981547"
      ]
     },
     "execution_count": 35,
     "metadata": {},
     "output_type": "execute_result"
    }
   ],
   "source": [
    "accuracy_score(y_val, y_pred >= .5)"
   ]
  },
  {
   "cell_type": "code",
   "execution_count": 36,
   "id": "eef7d9cb-d278-4d67-83a0-1a1a511a0c76",
   "metadata": {},
   "outputs": [
    {
     "name": "stdout",
     "output_type": "stream",
     "text": [
      "0.00 0.274\n",
      "0.05 0.509\n",
      "0.10 0.591\n",
      "0.15 0.666\n",
      "0.20 0.710\n",
      "0.25 0.739\n",
      "0.30 0.760\n",
      "0.35 0.772\n",
      "0.40 0.785\n",
      "0.45 0.793\n",
      "0.50 0.803\n",
      "0.55 0.801\n",
      "0.60 0.795\n",
      "0.65 0.786\n",
      "0.70 0.765\n",
      "0.75 0.744\n",
      "0.80 0.735\n",
      "0.85 0.726\n",
      "0.90 0.726\n",
      "0.95 0.726\n",
      "1.00 0.726\n"
     ]
    }
   ],
   "source": [
    "thresholds = np.linspace(0, 1, 21)\n",
    "\n",
    "scores = []\n",
    "\n",
    "for t in thresholds:\n",
    "    score = accuracy_score(y_val, y_pred >= t)\n",
    "    print('%.2f %.3f' % (t, score))\n",
    "    scores.append(score)"
   ]
  },
  {
   "cell_type": "code",
   "execution_count": 30,
   "id": "309ddfb4-c85d-44da-95f8-5bef96505516",
   "metadata": {},
   "outputs": [],
   "source": [
    "from matplotlib import pyplot as plt"
   ]
  },
  {
   "cell_type": "code",
   "execution_count": 31,
   "id": "d449673f-8912-47ee-8569-e93c0d785bce",
   "metadata": {},
   "outputs": [
    {
     "data": {
      "text/plain": [
       "[<matplotlib.lines.Line2D at 0x282665d9af0>]"
      ]
     },
     "execution_count": 31,
     "metadata": {},
     "output_type": "execute_result"
    },
    {
     "data": {
      "image/png": "[encoded data removed]",
      "text/plain": [
       "<Figure size 432x288 with 1 Axes>"
      ]
     },
     "metadata": {
      "needs_background": "light"
     },
     "output_type": "display_data"
    }
   ],
   "source": [
    "plt.plot(thresholds, scores)"
   ]
  },
  {
   "cell_type": "code",
   "execution_count": 37,
   "id": "d753b372-1a8a-4699-94fa-1b7e1b7e2196",
   "metadata": {},
   "outputs": [],
   "source": [
    "from collections import Counter"
   ]
  },
  {
   "cell_type": "code",
   "execution_count": 38,
   "id": "60af09cc-1657-4667-a3ef-e186753a7d8b",
   "metadata": {},
   "outputs": [
    {
     "data": {
      "text/plain": [
       "Counter({False: 1409})"
      ]
     },
     "execution_count": 38,
     "metadata": {},
     "output_type": "execute_result"
    }
   ],
   "source": [
    "Counter(y_pred >= 1.0)"
   ]
  },
  {
   "cell_type": "code",
   "execution_count": 39,
   "id": "0141d093-223e-4a6c-8061-783b5753afd4",
   "metadata": {},
   "outputs": [
    {
     "data": {
      "text/plain": [
       "Counter({0: 1023, 1: 386})"
      ]
     },
     "execution_count": 39,
     "metadata": {},
     "output_type": "execute_result"
    }
   ],
   "source": [
    "Counter(y_val)"
   ]
  },
  {
   "cell_type": "code",
   "execution_count": 40,
   "id": "ee3f14c3-faf3-4c26-b659-56b37223ca45",
   "metadata": {},
   "outputs": [
    {
     "data": {
      "text/plain": [
       "0.2739531582682754"
      ]
     },
     "execution_count": 40,
     "metadata": {},
     "output_type": "execute_result"
    }
   ],
   "source": [
    "y_val.mean()"
   ]
  },
  {
   "cell_type": "markdown",
   "id": "46177ca1-2d7f-4f80-bee4-5dc994839bf5",
   "metadata": {},
   "source": [
    "## **Confusion table**"
   ]
  },
  {
   "cell_type": "code",
   "execution_count": 41,
   "id": "506e74af-8350-4b70-90c2-b0d4ae49e1a0",
   "metadata": {},
   "outputs": [],
   "source": [
    "actual_positive = (y_val == 1)\n",
    "actual_negative = (y_val == 0)"
   ]
  },
  {
   "cell_type": "code",
   "execution_count": 43,
   "id": "39de5181-745e-442a-b6d0-4d1e9adee5b0",
   "metadata": {},
   "outputs": [],
   "source": [
    "t = .5\n",
    "predict_positive = (y_pred >= t)\n",
    "predict_negative = (y_pred < t)"
   ]
  },
  {
   "cell_type": "code",
   "execution_count": 45,
   "id": "0f9ce94c-e6a2-40eb-be1b-7fb188e087cc",
   "metadata": {},
   "outputs": [],
   "source": [
    "tp = (predict_positive & actual_positive).sum()\n",
    "tn = (predict_negative & actual_negative).sum()\n",
    "fp = (predict_positive & actual_negative).sum()\n",
    "fn = (predict_negative & actual_positive).sum()"
   ]
  },
  {
   "cell_type": "code",
   "execution_count": 46,
   "id": "55429d92-6b37-4efe-8777-1a9131d1b437",
   "metadata": {},
   "outputs": [
    {
     "data": {
      "text/plain": [
       "array([[922, 101],\n",
       "       [176, 210]])"
      ]
     },
     "execution_count": 46,
     "metadata": {},
     "output_type": "execute_result"
    }
   ],
   "source": [
    "confusion_matrix = np.array([\n",
    "    [tn, fp],\n",
    "    [fn, tp]\n",
    "])\n",
    "confusion_matrix"
   ]
  },
  {
   "cell_type": "code",
   "execution_count": 47,
   "id": "19310f24-90e7-4ca7-8a63-a98f4c2525b6",
   "metadata": {},
   "outputs": [
    {
     "data": {
      "text/plain": [
       "array([[0.65, 0.07],\n",
       "       [0.12, 0.15]])"
      ]
     },
     "execution_count": 47,
     "metadata": {},
     "output_type": "execute_result"
    }
   ],
   "source": [
    "(confusion_matrix/confusion_matrix.sum()).round(2)"
   ]
  },
  {
   "cell_type": "markdown",
   "id": "78eed473-1859-4cdf-b583-696ff555121f",
   "metadata": {},
   "source": [
    "## **Precision and Recall**"
   ]
  },
  {
   "cell_type": "code",
   "execution_count": 48,
   "id": "d7ac89e2-2c5b-470a-815e-53ca412aeafb",
   "metadata": {},
   "outputs": [
    {
     "data": {
      "text/plain": [
       "0.8034066713981547"
      ]
     },
     "execution_count": 48,
     "metadata": {},
     "output_type": "execute_result"
    }
   ],
   "source": [
    "(tp+tn)/(tp+tn+fp+fn)"
   ]
  },
  {
   "cell_type": "code",
   "execution_count": 50,
   "id": "2b7b2496-1fa5-4cb9-a71a-bdb5c972e4a1",
   "metadata": {},
   "outputs": [
    {
     "data": {
      "text/plain": [
       "0.6752411575562701"
      ]
     },
     "execution_count": 50,
     "metadata": {},
     "output_type": "execute_result"
    }
   ],
   "source": [
    "precision = tp/(tp+fp)\n",
    "precision"
   ]
  },
  {
   "cell_type": "code",
   "execution_count": 51,
   "id": "6a11fc6f-e67e-4a7c-bc6d-baa5289b172c",
   "metadata": {},
   "outputs": [
    {
     "data": {
      "text/plain": [
       "0.5440414507772021"
      ]
     },
     "execution_count": 51,
     "metadata": {},
     "output_type": "execute_result"
    }
   ],
   "source": [
    "recall = tp/(tp+fn)\n",
    "recall"
   ]
  },
  {
   "cell_type": "markdown",
   "id": "ae060605-a687-4376-b605-11cdc86c468e",
   "metadata": {},
   "source": [
    "## **ROC Curves**"
   ]
  },
  {
   "cell_type": "code",
   "execution_count": 54,
   "id": "d6489f2e-60db-4b73-85f3-e9fbda3c928c",
   "metadata": {},
   "outputs": [
    {
     "data": {
      "text/plain": [
       "0.5440414507772021"
      ]
     },
     "execution_count": 54,
     "metadata": {},
     "output_type": "execute_result"
    }
   ],
   "source": [
    "tpr = tp/(tp+fn)\n",
    "tpr"
   ]
  },
  {
   "cell_type": "code",
   "execution_count": 53,
   "id": "d02abd92-7de7-445a-bbe7-1c819e46ac18",
   "metadata": {},
   "outputs": [
    {
     "data": {
      "text/plain": [
       "0.09872922776148582"
      ]
     },
     "execution_count": 53,
     "metadata": {},
     "output_type": "execute_result"
    }
   ],
   "source": [
    "fpr = fp/(fp+tn)\n",
    "fpr"
   ]
  },
  {
   "cell_type": "code",
   "execution_count": 56,
   "id": "d105e4e5-2d29-490b-a588-e41282082498",
   "metadata": {},
   "outputs": [],
   "source": [
    "thresholds = np.linspace(0, 1, 101)\n",
    "scores = []\n",
    "\n",
    "for t in thresholds:\n",
    "    actual_positive = (y_val == 1)\n",
    "    actual_negative = (y_val == 0)\n",
    "    \n",
    "    predict_positive = (y_pred >= t)\n",
    "    predict_negative = (y_pred < t)\n",
    "    \n",
    "    tp = (predict_positive & actual_positive).sum()\n",
    "    tn = (predict_negative & actual_negative).sum()\n",
    "    fp = (predict_positive & actual_negative).sum()\n",
    "    fn = (predict_negative & actual_positive).sum()\n",
    "    scores.append((t, tp, fp, fn, tn))"
   ]
  },
  {
   "cell_type": "code",
   "execution_count": 58,
   "id": "f25be699-9e20-411b-ad48-ffb3ac4007dd",
   "metadata": {},
   "outputs": [],
   "source": [
    "columns = ['threshold', 'tp', 'fp', 'fn', 'tn']\n",
    "df_scores = pd.DataFrame(scores, columns=columns)"
   ]
  },
  {
   "cell_type": "code",
   "execution_count": 67,
   "id": "bf14a657-45fb-424d-a980-b1fecc264948",
   "metadata": {},
   "outputs": [],
   "source": [
    "df_scores['tpr'] = (df_scores.tp/ (df_scores.tp + df_scores.fn))\n",
    "df_scores['fpr'] = (df_scores.fp/ (df_scores.fp + df_scores.tn))"
   ]
  },
  {
   "cell_type": "code",
   "execution_count": 68,
   "id": "da7da647-057f-4d94-8e7d-b9d286c0615c",
   "metadata": {},
   "outputs": [
    {
     "data": {
      "text/plain": [
       "<matplotlib.legend.Legend at 0x28264398be0>"
      ]
     },
     "execution_count": 68,
     "metadata": {},
     "output_type": "execute_result"
    },
    {
     "data": {
      "image/png": "[encoded data removed]",
      "text/plain": [
       "<Figure size 432x288 with 1 Axes>"
      ]
     },
     "metadata": {
      "needs_background": "light"
     },
     "output_type": "display_data"
    }
   ],
   "source": [
    "plt.plot(thresholds, df_scores.tpr, label='TPR')\n",
    "plt.plot(thresholds, df_scores.fpr, label='FPR')\n",
    "plt.legend()"
   ]
  },
  {
   "cell_type": "code",
   "execution_count": 69,
   "id": "d86ef0a6-e68c-4801-96da-01880944e3da",
   "metadata": {},
   "outputs": [],
   "source": [
    "np.random.seed(1)\n",
    "y_rand = np.random.uniform(0, 1, size=len(y_val))"
   ]
  },
  {
   "cell_type": "code",
   "execution_count": 70,
   "id": "31acd373-9796-4d38-ad7c-a0af42c02689",
   "metadata": {},
   "outputs": [
    {
     "data": {
      "text/plain": [
       "0.5017743080198722"
      ]
     },
     "execution_count": 70,
     "metadata": {},
     "output_type": "execute_result"
    }
   ],
   "source": [
    "((y_rand >= 0.5) == y_val).mean()"
   ]
  },
  {
   "cell_type": "code",
   "execution_count": 86,
   "id": "28f87861-b865-4d7c-8340-97293080702a",
   "metadata": {},
   "outputs": [],
   "source": [
    "def tpr_fpr_dataframe(y_val, y_pred):\n",
    "    thresholds = np.linspace(0, 1, 101)\n",
    "    scores = []\n",
    "\n",
    "    for t in thresholds:\n",
    "        actual_positive = (y_val == 1)\n",
    "        actual_negative = (y_val == 0)\n",
    "    \n",
    "        predict_positive = (y_pred >= t)\n",
    "        predict_negative = (y_pred < t)\n",
    "    \n",
    "        tp = (predict_positive & actual_positive).sum()\n",
    "        tn = (predict_negative & actual_negative).sum()\n",
    "        fp = (predict_positive & actual_negative).sum()\n",
    "        fn = (predict_negative & actual_positive).sum()\n",
    "        scores.append((t, tp, fp, fn, tn))\n",
    "        \n",
    "    columns = ['threshold', 'tp', 'fp', 'fn', 'tn']\n",
    "    df_scores = pd.DataFrame(scores, columns=columns)\n",
    "    \n",
    "    df_scores['tpr'] = (df_scores.tp/ (df_scores.tp + df_scores.fn))\n",
    "    df_scores['fpr'] = (df_scores.fp/ (df_scores.fp + df_scores.tn))\n",
    "    \n",
    "    return df_scores"
   ]
  },
  {
   "cell_type": "code",
   "execution_count": 87,
   "id": "d3fc27da-a9e2-4025-9e3e-e1d07fecd244",
   "metadata": {},
   "outputs": [],
   "source": [
    "df_rand = tpr_fpr_dataframe(y_val, y_rand)"
   ]
  },
  {
   "cell_type": "code",
   "execution_count": 88,
   "id": "6a5eddb9-33ef-4dee-875a-64f709da638d",
   "metadata": {},
   "outputs": [
    {
     "data": {
      "text/plain": [
       "<matplotlib.legend.Legend at 0x282678f8880>"
      ]
     },
     "execution_count": 88,
     "metadata": {},
     "output_type": "execute_result"
    },
    {
     "data": {
      "image/png": "[encoded data removed]",
      "text/plain": [
       "<Figure size 432x288 with 1 Axes>"
      ]
     },
     "metadata": {
      "needs_background": "light"
     },
     "output_type": "display_data"
    }
   ],
   "source": [
    "plt.plot(df_rand.threshold, df_rand.tpr, label='TPR')\n",
    "plt.plot(df_rand.threshold, df_rand.fpr, label='FPR')\n",
    "plt.legend()"
   ]
  },
  {
   "cell_type": "code",
   "execution_count": 79,
   "id": "b9221e41-ab8a-4dd6-9fd6-7b86ff9c474d",
   "metadata": {},
   "outputs": [
    {
     "data": {
      "text/plain": [
       "(1023, 386)"
      ]
     },
     "execution_count": 79,
     "metadata": {},
     "output_type": "execute_result"
    }
   ],
   "source": [
    "num_neg = (y_val == 0).sum()\n",
    "num_pos = (y_val == 1).sum()\n",
    "num_neg, num_pos"
   ]
  },
  {
   "cell_type": "code",
   "execution_count": 80,
   "id": "f7d9604b-a466-4ebc-8b8e-303baa3f164e",
   "metadata": {},
   "outputs": [
    {
     "data": {
      "text/plain": [
       "array([0, 0, 0, ..., 1, 1, 1])"
      ]
     },
     "execution_count": 80,
     "metadata": {},
     "output_type": "execute_result"
    }
   ],
   "source": [
    "# Ideal model\n",
    "y_ideal = np.repeat([0, 1], [num_neg, num_pos])\n",
    "y_ideal"
   ]
  },
  {
   "cell_type": "code",
   "execution_count": 81,
   "id": "7c6e5ac9-8fbb-4adf-9324-3cfcbbbd6540",
   "metadata": {},
   "outputs": [],
   "source": [
    "y_ideal_pred = np.linspace(0, 1, len(y_val))"
   ]
  },
  {
   "cell_type": "code",
   "execution_count": 82,
   "id": "a3f1017b-c493-4dbe-bd0b-461cf2fbb324",
   "metadata": {},
   "outputs": [
    {
     "data": {
      "text/plain": [
       "0.7260468417317246"
      ]
     },
     "execution_count": 82,
     "metadata": {},
     "output_type": "execute_result"
    }
   ],
   "source": [
    "(1-y_val).mean()"
   ]
  },
  {
   "cell_type": "code",
   "execution_count": 84,
   "id": "6efc27ef-819c-423d-832a-60cc58309b6c",
   "metadata": {},
   "outputs": [
    {
     "data": {
      "text/plain": [
       "1.0"
      ]
     },
     "execution_count": 84,
     "metadata": {},
     "output_type": "execute_result"
    }
   ],
   "source": [
    "((y_ideal_pred >= .726) == y_ideal).mean()"
   ]
  },
  {
   "cell_type": "code",
   "execution_count": 90,
   "id": "f3c9485a-3fa3-432d-b737-1da266c2aa75",
   "metadata": {},
   "outputs": [],
   "source": [
    "df_ideal = tpr_fpr_dataframe(y_ideal, y_ideal_pred)"
   ]
  },
  {
   "cell_type": "code",
   "execution_count": 91,
   "id": "4bf377ba-e8a9-4176-b209-7c5846659344",
   "metadata": {},
   "outputs": [
    {
     "data": {
      "text/plain": [
       "<matplotlib.legend.Legend at 0x28267a0d250>"
      ]
     },
     "execution_count": 91,
     "metadata": {},
     "output_type": "execute_result"
    },
    {
     "data": {
      "image/png": "[encoded data removed]",
      "text/plain": [
       "<Figure size 432x288 with 1 Axes>"
      ]
     },
     "metadata": {
      "needs_background": "light"
     },
     "output_type": "display_data"
    }
   ],
   "source": [
    "plt.plot(df_ideal.threshold, df_ideal.tpr, label='TPR')\n",
    "plt.plot(df_ideal.threshold, df_ideal.fpr, label='FPR')\n",
    "plt.legend()"
   ]
  },
  {
   "cell_type": "code",
   "execution_count": 96,
   "id": "da6e2b97-cd56-4448-a41d-4270f71701fa",
   "metadata": {},
   "outputs": [
    {
     "data": {
      "text/plain": [
       "<matplotlib.legend.Legend at 0x28268155460>"
      ]
     },
     "execution_count": 96,
     "metadata": {},
     "output_type": "execute_result"
    },
    {
     "data": {
      "image/png": "[encoded data removed]",
      "text/plain": [
       "<Figure size 432x288 with 1 Axes>"
      ]
     },
     "metadata": {
      "needs_background": "light"
     },
     "output_type": "display_data"
    }
   ],
   "source": [
    "plt.plot(thresholds, df_scores.tpr, label='TPR')\n",
    "plt.plot(thresholds, df_scores.fpr, label='FPR')\n",
    "\n",
    "#plt.plot(df_rand.threshold, df_rand.tpr, label='TPR')\n",
    "#plt.plot(df_rand.threshold, df_rand.fpr, label='FPR')\n",
    "\n",
    "plt.plot(df_ideal.threshold, df_ideal.tpr, label='TPR', color='black')\n",
    "plt.plot(df_ideal.threshold, df_ideal.fpr, label='FPR', color='black')\n",
    "\n",
    "plt.legend()"
   ]
  },
  {
   "cell_type": "code",
   "execution_count": 104,
   "id": "da704c96-399a-49ef-8bd3-b4512d38fbc2",
   "metadata": {},
   "outputs": [
    {
     "data": {
      "text/plain": [
       "<matplotlib.legend.Legend at 0x28267f555b0>"
      ]
     },
     "execution_count": 104,
     "metadata": {},
     "output_type": "execute_result"
    },
    {
     "data": {
      "image/png": "[encoded data removed]",
      "text/plain": [
       "<Figure size 432x432 with 1 Axes>"
      ]
     },
     "metadata": {
      "needs_background": "light"
     },
     "output_type": "display_data"
    }
   ],
   "source": [
    "plt.figure(figsize=(6, 6))\n",
    "\n",
    "plt.plot(df_scores.fpr, df_scores.tpr, label='Model')\n",
    "\n",
    "plt.plot([0, 1], label='Random')\n",
    "\n",
    "#plt.plot(df_rand.fpr, df_rand.tpr, label='Random')\n",
    "#plt.plot(df_ideal.fpr, df_ideal.tpr, label='Ideal')\n",
    "\n",
    "plt.xlabel('FPR')\n",
    "plt.ylabel('TPR')\n",
    "\n",
    "plt.legend()"
   ]
  },
  {
   "cell_type": "code",
   "execution_count": 105,
   "id": "c20b1920-d9bf-4f4d-b217-be6935091d1d",
   "metadata": {},
   "outputs": [],
   "source": [
    "from sklearn.metrics import roc_curve"
   ]
  },
  {
   "cell_type": "code",
   "execution_count": 107,
   "id": "59915485-2dc5-4004-9536-5b6b3e92612f",
   "metadata": {},
   "outputs": [
    {
     "data": {
      "text/plain": [
       "<matplotlib.legend.Legend at 0x28267e84280>"
      ]
     },
     "execution_count": 107,
     "metadata": {},
     "output_type": "execute_result"
    },
    {
     "data": {
      "image/png": "[encoded data removed]",
      "text/plain": [
       "<Figure size 432x432 with 1 Axes>"
      ]
     },
     "metadata": {
      "needs_background": "light"
     },
     "output_type": "display_data"
    }
   ],
   "source": [
    "plt.figure(figsize=(6, 6))\n",
    "fpr, tpr, thresholds = roc_curve(y_val, y_pred)\n",
    "\n",
    "plt.plot(fpr, tpr, label='Model')\n",
    "\n",
    "plt.plot([0, 1], label='Random')\n",
    "plt.xlabel('FPR')\n",
    "plt.ylabel('TPR')\n",
    "\n",
    "plt.legend()"
   ]
  },
  {
   "cell_type": "markdown",
   "id": "d5544593-7ded-4704-a1a3-916c916dd2e6",
   "metadata": {},
   "source": [
    "## **ROC AUC**\n",
    "### (Area Under the roc Curve)"
   ]
  },
  {
   "cell_type": "code",
   "execution_count": 108,
   "id": "c76d0fa4-811a-47d4-bdc2-163ec5feeb3a",
   "metadata": {},
   "outputs": [],
   "source": [
    "from sklearn.metrics import auc"
   ]
  },
  {
   "cell_type": "code",
   "execution_count": 109,
   "id": "c245a7a6-8d65-4892-9cb2-13742342ba9f",
   "metadata": {},
   "outputs": [
    {
     "data": {
      "text/plain": [
       "0.8438682327199793"
      ]
     },
     "execution_count": 109,
     "metadata": {},
     "output_type": "execute_result"
    }
   ],
   "source": [
    "auc(fpr, tpr)"
   ]
  },
  {
   "cell_type": "code",
   "execution_count": 112,
   "id": "97296c26-6c6e-442e-a03f-02aa475704d2",
   "metadata": {},
   "outputs": [
    {
     "data": {
      "text/plain": [
       "0.9999430203759136"
      ]
     },
     "execution_count": 112,
     "metadata": {},
     "output_type": "execute_result"
    }
   ],
   "source": [
    "fpr, tpr, thresholds = roc_curve(y_val, y_pred)\n",
    "auc(fpr, tpr)"
   ]
  },
  {
   "cell_type": "code",
   "execution_count": 113,
   "id": "5ed969c6-f622-4597-82f8-7833bdd221a8",
   "metadata": {},
   "outputs": [],
   "source": [
    "from sklearn.metrics import roc_auc_score"
   ]
  },
  {
   "cell_type": "code",
   "execution_count": 114,
   "id": "c2aafa43-28b2-4a21-96fd-4545e1a18139",
   "metadata": {},
   "outputs": [
    {
     "data": {
      "text/plain": [
       "0.8438682327199793"
      ]
     },
     "execution_count": 114,
     "metadata": {},
     "output_type": "execute_result"
    }
   ],
   "source": [
    "roc_auc_score(y_val, y_pred)"
   ]
  },
  {
   "cell_type": "code",
   "execution_count": 115,
   "id": "fd8bb75d-bf45-4cd1-82f2-cfef0b0a9994",
   "metadata": {},
   "outputs": [],
   "source": [
    "neg = y_pred[y_val == 0]\n",
    "pos = y_pred[y_val == 1]"
   ]
  },
  {
   "cell_type": "code",
   "execution_count": 115,
   "id": "5f587545-5191-4d6c-99f8-cc5e425fffb1",
   "metadata": {},
   "outputs": [],
   "source": [
    "import random"
   ]
  },
  {
   "cell_type": "code",
   "execution_count": 119,
   "id": "78727db4-b96e-4b46-9dfe-3b875b2421a4",
   "metadata": {},
   "outputs": [
    {
     "data": {
      "text/plain": [
       "0.8382"
      ]
     },
     "execution_count": 119,
     "metadata": {},
     "output_type": "execute_result"
    }
   ],
   "source": [
    "n = 10000\n",
    "successes = 0\n",
    "\n",
    "for i in range(n):\n",
    "    pos_ind = random.randint(0, len(pos)-1)\n",
    "    neg_ind = random.randint(0, len(neg)-1)\n",
    "    \n",
    "    if (pos[pos_ind] > neg[neg_ind]):\n",
    "        successes = successes + 1\n",
    "        \n",
    "successes / n"
   ]
  },
  {
   "cell_type": "code",
   "execution_count": 126,
   "id": "ae18d441-ba56-4a78-a503-5e6c7e8e6623",
   "metadata": {},
   "outputs": [],
   "source": [
    "n = 50000\n",
    "np.random.seed(1)\n",
    "pos_ind = np.random.randint(0, len(pos), size=n)\n",
    "neg_ind = np.random.randint(0, len(neg), size=n)"
   ]
  },
  {
   "cell_type": "code",
   "execution_count": 127,
   "id": "674344b8-c550-4d8b-b2e1-481247479151",
   "metadata": {},
   "outputs": [
    {
     "data": {
      "text/plain": [
       "0.84654"
      ]
     },
     "execution_count": 127,
     "metadata": {},
     "output_type": "execute_result"
    }
   ],
   "source": [
    "(pos[pos_ind] > neg[neg_ind]).mean()"
   ]
  },
  {
   "cell_type": "markdown",
   "id": "17040b02-dae0-448b-84aa-42c484504eb6",
   "metadata": {},
   "source": [
    "## **Cross Validation**"
   ]
  },
  {
   "cell_type": "code",
   "execution_count": 152,
   "id": "4535079a-b3b7-4546-afec-02dbc39e6fc2",
   "metadata": {},
   "outputs": [],
   "source": [
    "def train(df_train, y_train, C=1.0):\n",
    "    dicts = df_train[categorical + numerical].to_dict(orient='records')\n",
    "    dv = DictVectorizer(sparse=False)\n",
    "    X_train = dv.fit_transform(dicts)\n",
    "    \n",
    "    model = LogisticRegression(C=C, max_iter=1000)\n",
    "    model.fit(X_train, y_train)\n",
    "    \n",
    "    return dv, model"
   ]
  },
  {
   "cell_type": "code",
   "execution_count": 153,
   "id": "51468079-620c-4dff-a4d9-d48d3013ce27",
   "metadata": {},
   "outputs": [],
   "source": [
    "dv, model = train(df_train, y_train, C=0.001)"
   ]
  },
  {
   "cell_type": "code",
   "execution_count": 154,
   "id": "970737a2-3aca-4986-979f-415a4d4d1831",
   "metadata": {},
   "outputs": [],
   "source": [
    "def predict(df, dv, model):\n",
    "    dicts = df[categorical + numerical].to_dict(orient='records')\n",
    "    \n",
    "    X = dv.transform(dicts)\n",
    "    y_pred = model.predict_proba(X)[:, 1]\n",
    "    \n",
    "    return y_pred"
   ]
  },
  {
   "cell_type": "code",
   "execution_count": 155,
   "id": "72dad76e-2b46-4863-b630-fbb99d394c12",
   "metadata": {
    "collapsed": true,
    "jupyter": {
     "outputs_hidden": true
    },
    "tags": []
   },
   "outputs": [
    {
     "data": {
      "text/plain": [
       "array([0.17300479, 0.01156179, 0.6660405 , 0.14145727, 0.56402903,\n",
       "       0.44582222, 0.31992153, 0.35552906, 0.00569753, 0.09182   ,\n",
       "       0.04423489, 0.02191388, 0.39280375, 0.71474188, 0.44401241,\n",
       "       0.17644587, 0.46901761, 0.28189229, 0.3425314 , 0.07436954,\n",
       "       0.71231845, 0.06266745, 0.0057283 , 0.69107417, 0.71901914,\n",
       "       0.10682377, 0.67169698, 0.10436778, 0.60299973, 0.00913703,\n",
       "       0.06164475, 0.01676424, 0.27507368, 0.53172285, 0.29836229,\n",
       "       0.15105945, 0.47493275, 0.27450965, 0.77489937, 0.76761032,\n",
       "       0.27361925, 0.31712996, 0.62969987, 0.03442926, 0.00465985,\n",
       "       0.54559392, 0.48845875, 0.44099222, 0.08376139, 0.51797538,\n",
       "       0.01740844, 0.03237379, 0.45252865, 0.40902847, 0.21394695,\n",
       "       0.12354893, 0.01116875, 0.4137111 , 0.037475  , 0.00802513,\n",
       "       0.03953107, 0.73783056, 0.40502411, 0.08822611, 0.62981897,\n",
       "       0.08260475, 0.73487229, 0.09958164, 0.19766941, 0.03788468,\n",
       "       0.32556791, 0.43236989, 0.30389346, 0.32922706, 0.66394449,\n",
       "       0.25401019, 0.00733581, 0.60649566, 0.05801102, 0.52739149,\n",
       "       0.42694985, 0.0937469 , 0.33635699, 0.03161294, 0.40774804,\n",
       "       0.709449  , 0.14840653, 0.03426081, 0.46509525, 0.4499515 ,\n",
       "       0.64969822, 0.00606582, 0.19922438, 0.36220294, 0.70661254,\n",
       "       0.2867425 , 0.43601392, 0.13375713, 0.15785567, 0.37006422,\n",
       "       0.12526684, 0.20087524, 0.5666627 , 0.32454424, 0.00432524,\n",
       "       0.67736022, 0.43394512, 0.07137923, 0.3976131 , 0.1145266 ,\n",
       "       0.62774548, 0.03278813, 0.48125789, 0.30378901, 0.60055617,\n",
       "       0.07139972, 0.12819286, 0.14039035, 0.55365735, 0.28808927,\n",
       "       0.22394971, 0.0574232 , 0.14791583, 0.30995295, 0.14320796,\n",
       "       0.1077117 , 0.66068074, 0.14159564, 0.11319535, 0.21422076,\n",
       "       0.72595541, 0.14020276, 0.19211771, 0.03822844, 0.40083092,\n",
       "       0.09140763, 0.03209799, 0.08942659, 0.40724983, 0.34351247,\n",
       "       0.20413858, 0.1659548 , 0.46799216, 0.05905397, 0.38257639,\n",
       "       0.20030558, 0.79943552, 0.42198807, 0.00782118, 0.0096276 ,\n",
       "       0.12329101, 0.00531645, 0.17770198, 0.13722386, 0.66281936,\n",
       "       0.72553416, 0.23850693, 0.06142503, 0.45719932, 0.00824693,\n",
       "       0.27625836, 0.06419118, 0.19932416, 0.12897313, 0.53257115,\n",
       "       0.11362467, 0.3597627 , 0.04826993, 0.35485679, 0.20208407,\n",
       "       0.48731435, 0.42733542, 0.29656686, 0.57911737, 0.20941762,\n",
       "       0.47013554, 0.30063243, 0.14335323, 0.48740531, 0.34727358,\n",
       "       0.0698581 , 0.09571185, 0.09676966, 0.04218249, 0.02284436,\n",
       "       0.02267827, 0.06422374, 0.33790632, 0.43332072, 0.01927885,\n",
       "       0.03249505, 0.05140139, 0.40712761, 0.26071537, 0.49363739,\n",
       "       0.24029753, 0.74830185, 0.02065469, 0.12847185, 0.09926937,\n",
       "       0.03100113, 0.01060065, 0.47646335, 0.12298875, 0.38545294,\n",
       "       0.66048703, 0.6893826 , 0.2431263 , 0.08221816, 0.08549951,\n",
       "       0.06944819, 0.06104937, 0.1161563 , 0.6608347 , 0.31331559,\n",
       "       0.22633893, 0.24026373, 0.00659905, 0.19643265, 0.07103741,\n",
       "       0.02640308, 0.2453468 , 0.43336087, 0.02541222, 0.50143066,\n",
       "       0.23753339, 0.25918397, 0.52688821, 0.77045041, 0.05039345,\n",
       "       0.13927711, 0.2723253 , 0.65223641, 0.32396066, 0.046011  ,\n",
       "       0.0710787 , 0.04510521, 0.06750703, 0.19391231, 0.0236699 ,\n",
       "       0.62293368, 0.16618782, 0.00862659, 0.05411326, 0.08521993,\n",
       "       0.37866133, 0.25491557, 0.38701217, 0.51445067, 0.43278918,\n",
       "       0.6382391 , 0.03815674, 0.24828559, 0.51337582, 0.41174755,\n",
       "       0.45872589, 0.44906666, 0.08083189, 0.47274919, 0.15644648,\n",
       "       0.42329013, 0.56506825, 0.04397867, 0.05670885, 0.39166633,\n",
       "       0.55013633, 0.1791646 , 0.35731411, 0.7290363 , 0.64016643,\n",
       "       0.51703704, 0.16456348, 0.0063296 , 0.25760964, 0.0692482 ,\n",
       "       0.34355954, 0.00705185, 0.6542386 , 0.00884441, 0.31456255,\n",
       "       0.66838207, 0.16232322, 0.01887483, 0.3807377 , 0.2697038 ,\n",
       "       0.39101109, 0.41495241, 0.12458942, 0.04732857, 0.18734071,\n",
       "       0.26805538, 0.00626585, 0.13105392, 0.02605325, 0.20336642,\n",
       "       0.53504388, 0.2149053 , 0.22458676, 0.14543259, 0.64972707,\n",
       "       0.45850075, 0.06030123, 0.18668947, 0.00351396, 0.69827642,\n",
       "       0.11002085, 0.21743672, 0.14801766, 0.21284374, 0.66492913,\n",
       "       0.50562647, 0.01806944, 0.1911312 , 0.15757671, 0.51731263,\n",
       "       0.18651161, 0.04267868, 0.08241656, 0.21593161, 0.30449181,\n",
       "       0.20642808, 0.23414279, 0.0590173 , 0.17884356, 0.18522386,\n",
       "       0.68859502, 0.17139013, 0.00454347, 0.05536669, 0.07520441,\n",
       "       0.14913799, 0.0280925 , 0.13240924, 0.02306383, 0.04039178,\n",
       "       0.32833902, 0.09506316, 0.05405239, 0.196994  , 0.61032356,\n",
       "       0.31654527, 0.00629651, 0.21608508, 0.43003089, 0.12269291,\n",
       "       0.49439683, 0.13862262, 0.14472705, 0.12012697, 0.08663518,\n",
       "       0.04453818, 0.62961113, 0.4678811 , 0.6390395 , 0.09813642,\n",
       "       0.27607122, 0.75608816, 0.67689853, 0.68766236, 0.23501507,\n",
       "       0.06101726, 0.44003388, 0.52790509, 0.00362576, 0.22230477,\n",
       "       0.20346222, 0.32466668, 0.03409726, 0.07723687, 0.13836377,\n",
       "       0.08081648, 0.08263007, 0.38528806, 0.01246863, 0.00684083,\n",
       "       0.64049925, 0.20295361, 0.63694145, 0.66085889, 0.3482547 ,\n",
       "       0.12010059, 0.29979971, 0.49871734, 0.18747201, 0.53158265,\n",
       "       0.3011457 , 0.19946597, 0.35448607, 0.63980796, 0.02009329,\n",
       "       0.04049859, 0.39913048, 0.17496217, 0.65503714, 0.17871818,\n",
       "       0.14305239, 0.0538412 , 0.40876382, 0.00374686, 0.2712095 ,\n",
       "       0.23084292, 0.30297391, 0.41440255, 0.78348668, 0.15988297,\n",
       "       0.09522011, 0.70307308, 0.08444602, 0.09339825, 0.02856606,\n",
       "       0.18926187, 0.2824311 , 0.10793239, 0.41104752, 0.08145012,\n",
       "       0.17890575, 0.00558258, 0.05404595, 0.13185876, 0.75356263,\n",
       "       0.50378999, 0.11593991, 0.3193134 , 0.28759113, 0.02299175,\n",
       "       0.06416582, 0.13180852, 0.21209609, 0.44921654, 0.16705461,\n",
       "       0.17340916, 0.22933641, 0.30573054, 0.01080451, 0.03582702,\n",
       "       0.11922469, 0.63897441, 0.02877304, 0.11201517, 0.55374218,\n",
       "       0.32010031, 0.65814442, 0.11782049, 0.29365812, 0.09796686,\n",
       "       0.27928711, 0.11448509, 0.29994911, 0.6030593 , 0.12746426,\n",
       "       0.40757429, 0.54357556, 0.65792193, 0.03056854, 0.46976969,\n",
       "       0.05224716, 0.03719397, 0.10663823, 0.0864768 , 0.08584779,\n",
       "       0.10530793, 0.19346627, 0.04767074, 0.06439262, 0.32480186,\n",
       "       0.10146019, 0.60542915, 0.02457331, 0.07531517, 0.05507576,\n",
       "       0.65518685, 0.56178403, 0.07722697, 0.46221041, 0.08438132,\n",
       "       0.02582436, 0.53262299, 0.34036982, 0.14407431, 0.2345637 ,\n",
       "       0.26707072, 0.01947134, 0.17114341, 0.28744748, 0.1431852 ,\n",
       "       0.56880647, 0.1094418 , 0.65073646, 0.43156557, 0.36942544,\n",
       "       0.01462912, 0.0106881 , 0.00866664, 0.41911501, 0.27398678,\n",
       "       0.60610563, 0.6659658 , 0.65345642, 0.71931871, 0.28805193,\n",
       "       0.02163496, 0.06984562, 0.50351618, 0.03157345, 0.62589018,\n",
       "       0.63529292, 0.20222539, 0.16672694, 0.18743301, 0.04914505,\n",
       "       0.1617346 , 0.00862427, 0.16031336, 0.46839413, 0.62162374,\n",
       "       0.00496126, 0.00602051, 0.02875675, 0.64693101, 0.44610235,\n",
       "       0.64350129, 0.41565519, 0.46508977, 0.31599013, 0.28849072,\n",
       "       0.17784912, 0.3688899 , 0.08495388, 0.00494302, 0.19022711,\n",
       "       0.3448515 , 0.36516265, 0.44581474, 0.44825251, 0.00358512,\n",
       "       0.02244434, 0.48384803, 0.19731542, 0.00396205, 0.0591292 ,\n",
       "       0.3174128 , 0.04798849, 0.31934054, 0.20852258, 0.44308622,\n",
       "       0.03040332, 0.06344281, 0.2916313 , 0.51326303, 0.22543924,\n",
       "       0.00478738, 0.01261983, 0.00414505, 0.00540128, 0.2966919 ,\n",
       "       0.05424123, 0.33373323, 0.25312645, 0.003585  , 0.21382884,\n",
       "       0.43295426, 0.71724162, 0.0051562 ])"
      ]
     },
     "execution_count": 155,
     "metadata": {},
     "output_type": "execute_result"
    }
   ],
   "source": [
    "predict(df_val, dv, model)"
   ]
  },
  {
   "cell_type": "code",
   "execution_count": 135,
   "id": "7f590d54-e32b-4d58-b275-1846e25b4cac",
   "metadata": {},
   "outputs": [],
   "source": [
    "from sklearn.model_selection import KFold"
   ]
  },
  {
   "cell_type": "code",
   "execution_count": 136,
   "id": "273d6aea-027c-4350-af3c-97ae4441e95d",
   "metadata": {},
   "outputs": [],
   "source": [
    "kfold = KFold(n_splits=10, shuffle=True, random_state=1)"
   ]
  },
  {
   "cell_type": "code",
   "execution_count": 144,
   "id": "b58cb0d3-8df1-469a-93ee-b74c8cd4cdd8",
   "metadata": {},
   "outputs": [
    {
     "name": "stdout",
     "output_type": "stream",
     "text": [
      "Collecting tqdm\n",
      "  Downloading tqdm-4.62.3-py2.py3-none-any.whl (76 kB)\n",
      "Requirement already satisfied: colorama in c:\\users\\luke luo\\appdata\\roaming\\python\\python38\\site-packages (from tqdm) (0.4.4)\n",
      "Installing collected packages: tqdm\n",
      "Successfully installed tqdm-4.62.3\n"
     ]
    },
    {
     "name": "stderr",
     "output_type": "stream",
     "text": [
      "WARNING: You are using pip version 20.3.3; however, version 21.2.4 is available.\n",
      "You should consider upgrading via the 'c:\\users\\luke luo\\appdata\\local\\programs\\python\\python38\\python.exe -m pip install --upgrade pip' command.\n"
     ]
    }
   ],
   "source": [
    "!pip install tqdm"
   ]
  },
  {
   "cell_type": "code",
   "execution_count": 146,
   "id": "6e2f953b-c4cf-4e8d-a8d1-ce0a6284f637",
   "metadata": {},
   "outputs": [],
   "source": [
    "from tqdm.auto import tqdm"
   ]
  },
  {
   "cell_type": "code",
   "execution_count": 157,
   "id": "3e6973c6-a855-460a-8095-f386f5a108bc",
   "metadata": {
    "tags": []
   },
   "outputs": [
    {
     "data": {
      "application/vnd.jupyter.widget-view+json": {
       "model_id": "b47333ca1c3c4bb69d6fd335fedd2613",
       "version_major": 2,
       "version_minor": 0
      },
      "text/plain": [
       "  0%|          | 0/7 [00:00<?, ?it/s]"
      ]
     },
     "metadata": {},
     "output_type": "display_data"
    },
    {
     "name": "stdout",
     "output_type": "stream",
     "text": [
      "C=0.001 0.826 +- 0.012\n",
      "C=0.01 0.841 +- 0.012\n",
      "C=0.1 0.841 +- 0.012\n",
      "C=0.5 0.841 +- 0.011\n",
      "C=1 0.840 +- 0.012\n",
      "C=5 0.841 +- 0.012\n",
      "C=10 0.841 +- 0.012\n"
     ]
    }
   ],
   "source": [
    "n_splits = 5\n",
    "\n",
    "for C in tqdm([.001, .01, .1, .5, 1, 5, 10]):\n",
    "\n",
    "    scores = []\n",
    "\n",
    "    for train_idx, val_idx in kfold.split(df_full_train):\n",
    "        df_train = df_full_train.iloc[train_idx]\n",
    "        df_val = df_full_train.iloc[val_idx]\n",
    "    \n",
    "        y_train = df_train.churn.values\n",
    "        y_val = df_val.churn.values\n",
    "    \n",
    "        dv, model = train(df_train, y_train, C=C)\n",
    "        y_pred = predict(df_val, dv, model)\n",
    "    \n",
    "        auc = roc_auc_score(y_val, y_pred)\n",
    "    \n",
    "        scores.append(auc)\n",
    "    \n",
    "    print('C=%s %.3f +- %.3f' % (C, np.mean(scores), np.std(scores)))"
   ]
  },
  {
   "cell_type": "code",
   "execution_count": 159,
   "id": "b6d4bba6-574c-46e8-90db-f603d74bb523",
   "metadata": {},
   "outputs": [
    {
     "data": {
      "text/plain": [
       "0.8572386167896259"
      ]
     },
     "execution_count": 159,
     "metadata": {},
     "output_type": "execute_result"
    }
   ],
   "source": [
    "dv, model = train(df_full_train, df_full_train.churn.values, C=1)\n",
    "y_pred = predict(df_test, dv, model)\n",
    "    \n",
    "auc = roc_auc_score(y_test, y_pred)\n",
    "auc"
   ]
  },
  {
   "cell_type": "code",
   "execution_count": null,
   "id": "ff43a05e-222e-4dfa-9ce2-22aec2cc55ee",
   "metadata": {
    "tags": []
   },
   "outputs": [],
   "source": []
  }
 ],
 "metadata": {
  "kernelspec": {
   "display_name": "Python 3",
   "language": "python",
   "name": "python3"
  },
  "language_info": {
   "codemirror_mode": {
    "name": "ipython",
    "version": 3
   },
   "file_extension": ".py",
   "mimetype": "text/x-python",
   "name": "python",
   "nbconvert_exporter": "python",
   "pygments_lexer": "ipython3",
   "version": "3.8.8"
  }
 },
 "nbformat": 4,
 "nbformat_minor": 5
}

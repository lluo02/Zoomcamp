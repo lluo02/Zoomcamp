{
 "cells": [
  {
   "cell_type": "code",
   "execution_count": 2,
   "id": "8b92a066-34af-4827-9fc0-21faf4da8a02",
   "metadata": {},
   "outputs": [],
   "source": [
    "import numpy as np\n",
    "import matplotlib.pyplot as plt\n",
    "\n",
    "%matplotlib inline"
   ]
  },
  {
   "cell_type": "code",
   "execution_count": 5,
   "id": "9849c2b0-ac4f-40a4-b12f-fa6f7c776163",
   "metadata": {},
   "outputs": [],
   "source": [
    "import tensorflow as tf\n",
    "from tensorflow import keras"
   ]
  },
  {
   "cell_type": "code",
   "execution_count": 6,
   "id": "718233b3-3195-403c-be52-6cce87e66389",
   "metadata": {},
   "outputs": [],
   "source": [
    "from tensorflow.keras.preprocessing.image import load_img "
   ]
  },
  {
   "cell_type": "code",
   "execution_count": 12,
   "id": "b5e36ed6-a6a7-424a-a621-78076ef78493",
   "metadata": {},
   "outputs": [],
   "source": [
    "path = 'clothing-dataset-small/train/t-shirt'\n",
    "name = '5f0a3fa0-6a3d-4b68-b213-72766a643de7.jpg'\n",
    "fullname = f'{path}/{name}'\n",
    "load_img(fullname, target_size=(150,150))"
   ]
  },
  {
   "cell_type": "code",
   "execution_count": 16,
   "id": "f3c41f38-fb4d-4bbc-a84d-6372b1ff2e7a",
   "metadata": {},
   "outputs": [],
   "source": [
    "img = load_img(fullname, target_size=(299,299))"
   ]
  },
  {
   "cell_type": "code",
   "execution_count": 17,
   "id": "263a13f7-4fe6-4bde-a391-9d49f74201af",
   "metadata": {},
   "outputs": [],
   "source": [
    "x = np.array(img)"
   ]
  },
  {
   "cell_type": "markdown",
   "id": "75f1d89b-2f23-44cf-ac99-bb8949693ef9",
   "metadata": {},
   "source": [
    "## **Pretrained CNN**"
   ]
  },
  {
   "cell_type": "code",
   "execution_count": 27,
   "id": "79236679-46b1-4b51-84fc-44ee1dafdecf",
   "metadata": {},
   "outputs": [],
   "source": [
    "from tensorflow.keras.applications.xception import Xception, preprocess_input, decode_predictions"
   ]
  },
  {
   "cell_type": "code",
   "execution_count": 15,
   "id": "afd320ef-069b-4568-ac1b-ff7673590022",
   "metadata": {},
   "outputs": [
    {
     "name": "stdout",
     "output_type": "stream",
     "text": [
      "Downloading data from https://storage.googleapis.com/tensorflow/keras-applications/xception/xception_weights_tf_dim_ordering_tf_kernels.h5\n",
      "91889664/91884032 [==============================] - 7s 0us/step\n"
     ]
    }
   ],
   "source": [
    "model = Xception(weights='imagenet', input_shape=(299,299,3))"
   ]
  },
  {
   "cell_type": "code",
   "execution_count": 18,
   "id": "7a9009c0-2ed4-4a3d-8564-726648378465",
   "metadata": {},
   "outputs": [],
   "source": [
    "X = np.array([x])"
   ]
  },
  {
   "cell_type": "code",
   "execution_count": 24,
   "id": "4a2de9fa-ccca-4ce1-a7d3-dffdae1aa600",
   "metadata": {},
   "outputs": [],
   "source": [
    "X = preprocess_input(X)"
   ]
  },
  {
   "cell_type": "code",
   "execution_count": 26,
   "id": "2cbe2f5f-3a06-4382-831a-75409b564839",
   "metadata": {},
   "outputs": [
    {
     "data": {
      "text/plain": [
       "(1, 1000)"
      ]
     },
     "execution_count": 26,
     "metadata": {},
     "output_type": "execute_result"
    }
   ],
   "source": [
    "pred = model.predict(X)\n",
    "pred.shape"
   ]
  },
  {
   "cell_type": "code",
   "execution_count": 28,
   "id": "f4b8363c-85c4-4e2c-a152-c22e542fbf45",
   "metadata": {},
   "outputs": [
    {
     "name": "stdout",
     "output_type": "stream",
     "text": [
      "Downloading data from https://storage.googleapis.com/download.tensorflow.org/data/imagenet_class_index.json\n",
      "40960/35363 [==================================] - 0s 1us/step\n"
     ]
    },
    {
     "data": {
      "text/plain": [
       "[[('n03595614', 'jersey', 0.67924494),\n",
       "  ('n02916936', 'bulletproof_vest', 0.03960036),\n",
       "  ('n04370456', 'sweatshirt', 0.035299625),\n",
       "  ('n03710637', 'maillot', 0.010884151),\n",
       "  ('n04525038', 'velvet', 0.0018057632)]]"
      ]
     },
     "execution_count": 28,
     "metadata": {},
     "output_type": "execute_result"
    }
   ],
   "source": [
    "decode_predictions(pred)"
   ]
  },
  {
   "cell_type": "markdown",
   "id": "fd2900de-91ff-47d4-9437-2d88984d3fd0",
   "metadata": {},
   "source": [
    "## **Convolutional Neural Networks**"
   ]
  },
  {
   "cell_type": "markdown",
   "id": "c5e89417-9904-4490-8b11-628b2046d6ea",
   "metadata": {},
   "source": [
    "## **Transfer Learning**"
   ]
  },
  {
   "cell_type": "code",
   "execution_count": 29,
   "id": "89b14ca7-74c7-41d1-a508-b7d0701e3bbe",
   "metadata": {},
   "outputs": [],
   "source": [
    "from tensorflow.keras.preprocessing.image import ImageDataGenerator"
   ]
  },
  {
   "cell_type": "code",
   "execution_count": 33,
   "id": "7fd7c758-de72-4e9e-ad95-d7c192af5478",
   "metadata": {},
   "outputs": [
    {
     "name": "stdout",
     "output_type": "stream",
     "text": [
      "Found 3068 images belonging to 10 classes.\n"
     ]
    }
   ],
   "source": [
    "train_gen = ImageDataGenerator(preprocessing_function=preprocess_input)\n",
    "\n",
    "train_ds = train_gen.flow_from_directory('./clothing-dataset-small/train', \n",
    "                              target_size=(150,150), \n",
    "                              batch_size=32)"
   ]
  },
  {
   "cell_type": "code",
   "execution_count": 34,
   "id": "1e8f1af9-71f6-4a1d-9d4a-928b0315ad76",
   "metadata": {},
   "outputs": [
    {
     "data": {
      "text/plain": [
       "{'dress': 0,\n",
       " 'hat': 1,\n",
       " 'longsleeve': 2,\n",
       " 'outwear': 3,\n",
       " 'pants': 4,\n",
       " 'shirt': 5,\n",
       " 'shoes': 6,\n",
       " 'shorts': 7,\n",
       " 'skirt': 8,\n",
       " 't-shirt': 9}"
      ]
     },
     "execution_count": 34,
     "metadata": {},
     "output_type": "execute_result"
    }
   ],
   "source": [
    "train_ds.class_indices"
   ]
  },
  {
   "cell_type": "code",
   "execution_count": 39,
   "id": "af134124-455d-4cc0-809b-e2a65afc11db",
   "metadata": {},
   "outputs": [],
   "source": [
    "X, y = next(train_ds)"
   ]
  },
  {
   "cell_type": "code",
   "execution_count": 40,
   "id": "0b4280cd-005b-4eca-a86a-20230c0c7c92",
   "metadata": {},
   "outputs": [
    {
     "data": {
      "text/plain": [
       "array([[0., 0., 0., 1., 0., 0., 0., 0., 0., 0.],\n",
       "       [0., 0., 0., 0., 0., 0., 0., 1., 0., 0.],\n",
       "       [0., 0., 0., 0., 0., 0., 0., 0., 0., 1.],\n",
       "       [0., 0., 0., 0., 0., 0., 0., 0., 1., 0.],\n",
       "       [0., 0., 1., 0., 0., 0., 0., 0., 0., 0.]], dtype=float32)"
      ]
     },
     "execution_count": 40,
     "metadata": {},
     "output_type": "execute_result"
    }
   ],
   "source": [
    "y[:5]"
   ]
  },
  {
   "cell_type": "code",
   "execution_count": 41,
   "id": "19118d83-f670-488b-a777-6d4624e926bb",
   "metadata": {},
   "outputs": [
    {
     "name": "stdout",
     "output_type": "stream",
     "text": [
      "Found 341 images belonging to 10 classes.\n"
     ]
    }
   ],
   "source": [
    "val_gen = ImageDataGenerator(preprocessing_function=preprocess_input)\n",
    "\n",
    "val_ds = val_gen.flow_from_directory('./clothing-dataset-small/validation/', \n",
    "                              target_size=(150,150), \n",
    "                              batch_size=32,\n",
    "                                    shuffle=False)"
   ]
  },
  {
   "cell_type": "code",
   "execution_count": 42,
   "id": "7e0d2e59-9152-4571-aa4e-6731273b8d66",
   "metadata": {},
   "outputs": [
    {
     "name": "stdout",
     "output_type": "stream",
     "text": [
      "Downloading data from https://storage.googleapis.com/tensorflow/keras-applications/xception/xception_weights_tf_dim_ordering_tf_kernels_notop.h5\n",
      "83689472/83683744 [==============================] - 6s 0us/step\n"
     ]
    }
   ],
   "source": [
    "base_model = Xception(\n",
    "    weights='imagenet',\n",
    "    include_top=False,\n",
    "    input_shape=(150,150,3)\n",
    ")\n",
    "\n",
    "base_model.trainable=False"
   ]
  },
  {
   "cell_type": "code",
   "execution_count": 57,
   "id": "7be95346-d53d-4665-a1cd-dbe3ab9eec08",
   "metadata": {},
   "outputs": [],
   "source": [
    "inputs = keras.Input(shape=(150, 150, 3))\n",
    "\n",
    "base = base_model(inputs, training=False)\n",
    "\n",
    "vectors = keras.layers.GlobalAveragePooling2D()(base)\n",
    "\n",
    "outputs = keras.layers.Dense(10)(vectors)\n",
    "\n",
    "model = keras.Model(inputs, outputs)"
   ]
  },
  {
   "cell_type": "code",
   "execution_count": 58,
   "id": "689f6334-68bf-4e18-874b-a77ba1cfe211",
   "metadata": {},
   "outputs": [
    {
     "name": "stdout",
     "output_type": "stream",
     "text": [
      "WARNING:tensorflow:6 out of the last 7 calls to <function Model.make_predict_function.<locals>.predict_function at 0x000001ECA6B4DC10> triggered tf.function retracing. Tracing is expensive and the excessive number of tracings could be due to (1) creating @tf.function repeatedly in a loop, (2) passing tensors with different shapes, (3) passing Python objects instead of tensors. For (1), please define your @tf.function outside of the loop. For (2), @tf.function has experimental_relax_shapes=True option that relaxes argument shapes that can avoid unnecessary retracing. For (3), please refer to https://www.tensorflow.org/guide/function#controlling_retracing and https://www.tensorflow.org/api_docs/python/tf/function for  more details.\n"
     ]
    }
   ],
   "source": [
    "preds = model.predict(X)"
   ]
  },
  {
   "cell_type": "code",
   "execution_count": 59,
   "id": "8cb082be-b258-4978-8b3e-555e04ee71c2",
   "metadata": {},
   "outputs": [
    {
     "data": {
      "text/plain": [
       "(32, 10)"
      ]
     },
     "execution_count": 59,
     "metadata": {},
     "output_type": "execute_result"
    }
   ],
   "source": [
    "preds.shape"
   ]
  },
  {
   "cell_type": "code",
   "execution_count": 60,
   "id": "e43a5021-83b9-40d3-a86c-7f08696d693e",
   "metadata": {},
   "outputs": [],
   "source": [
    "learning_rate = .01\n",
    "optimizer = keras.optimizers.Adam(learning_rate=learning_rate)\n",
    "\n",
    "loss = keras.losses.CategoricalCrossentropy(from_logits=True)"
   ]
  },
  {
   "cell_type": "code",
   "execution_count": 61,
   "id": "06661d90-ba8b-4ec8-97bf-8e5ad1414f94",
   "metadata": {},
   "outputs": [],
   "source": [
    "model.compile(optimizer=optimizer, loss=loss, metrics=['accuracy'])"
   ]
  },
  {
   "cell_type": "code",
   "execution_count": 62,
   "id": "c36fda23-e6ed-4e7c-abcf-56037d5f922d",
   "metadata": {},
   "outputs": [
    {
     "name": "stdout",
     "output_type": "stream",
     "text": [
      "Epoch 1/10\n",
      "96/96 [==============================] - 89s 903ms/step - loss: 1.6948 - accuracy: 0.5875 - val_loss: 0.8253 - val_accuracy: 0.7566\n",
      "Epoch 2/10\n",
      "96/96 [==============================] - 79s 827ms/step - loss: 0.5912 - accuracy: 0.8159 - val_loss: 0.8215 - val_accuracy: 0.7771\n",
      "Epoch 3/10\n",
      "96/96 [==============================] - 78s 809ms/step - loss: 0.3511 - accuracy: 0.8809 - val_loss: 0.7594 - val_accuracy: 0.8211\n",
      "Epoch 4/10\n",
      "96/96 [==============================] - 78s 816ms/step - loss: 0.2270 - accuracy: 0.9183 - val_loss: 0.8722 - val_accuracy: 0.8182\n",
      "Epoch 5/10\n",
      "96/96 [==============================] - 79s 822ms/step - loss: 0.1589 - accuracy: 0.9352 - val_loss: 0.8480 - val_accuracy: 0.7977\n",
      "Epoch 6/10\n",
      "96/96 [==============================] - 78s 811ms/step - loss: 0.0859 - accuracy: 0.9704 - val_loss: 0.8130 - val_accuracy: 0.8270\n",
      "Epoch 7/10\n",
      "96/96 [==============================] - 78s 809ms/step - loss: 0.0542 - accuracy: 0.9837 - val_loss: 0.8192 - val_accuracy: 0.8211\n",
      "Epoch 8/10\n",
      "96/96 [==============================] - 78s 811ms/step - loss: 0.0426 - accuracy: 0.9903 - val_loss: 0.9585 - val_accuracy: 0.8065\n",
      "Epoch 9/10\n",
      "96/96 [==============================] - 78s 812ms/step - loss: 0.0442 - accuracy: 0.9892 - val_loss: 0.8301 - val_accuracy: 0.8123\n",
      "Epoch 10/10\n",
      "96/96 [==============================] - 79s 828ms/step - loss: 0.0212 - accuracy: 0.9968 - val_loss: 0.8154 - val_accuracy: 0.8299\n"
     ]
    }
   ],
   "source": [
    "history = model.fit(train_ds, epochs=10, validation_data=val_ds)"
   ]
  },
  {
   "cell_type": "code",
   "execution_count": 65,
   "id": "f126a2b7-c278-45d9-a5c7-aa82e0a1af51",
   "metadata": {},
   "outputs": [
    {
     "data": {
      "text/plain": [
       "<matplotlib.legend.Legend at 0x1ecb1f69130>"
      ]
     },
     "execution_count": 65,
     "metadata": {},
     "output_type": "execute_result"
    },
    {
     "data": {
      "image/png": "[encoded data removed]",
      "text/plain": [
       "<Figure size 432x288 with 1 Axes>"
      ]
     },
     "metadata": {
      "needs_background": "light"
     },
     "output_type": "display_data"
    }
   ],
   "source": [
    "#plt.plot(history.history['accuracy'], label='train')\n",
    "plt.plot(history.history['val_accuracy'], label='val')\n",
    "plt.xticks(np.arange(10))\n",
    "plt.legend()"
   ]
  },
  {
   "cell_type": "markdown",
   "id": "a005a07e-ed76-4bca-82f6-a4ab426411d7",
   "metadata": {},
   "source": [
    "## **Adjusting the learning rate**"
   ]
  },
  {
   "cell_type": "code",
   "execution_count": 67,
   "id": "7e7e0800-990e-4d00-88fd-cc1aaf8d44b8",
   "metadata": {},
   "outputs": [],
   "source": [
    "def make_model(learning_rate=.01):\n",
    "    base_model = Xception(\n",
    "        weights='imagenet',\n",
    "        include_top=False,\n",
    "        input_shape=(150,150,3)\n",
    "    )\n",
    "\n",
    "    base_model.trainable=False\n",
    "##################################################    \n",
    "    inputs = keras.Input(shape=(150, 150, 3))\n",
    "\n",
    "    base = base_model(inputs, training=False)\n",
    "\n",
    "    vectors = keras.layers.GlobalAveragePooling2D()(base)\n",
    "\n",
    "    outputs = keras.layers.Dense(10)(vectors)\n",
    "\n",
    "    model = keras.Model(inputs, outputs)\n",
    "##################################################    \n",
    "    optimizer = keras.optimizers.Adam(learning_rate=learning_rate)\n",
    "\n",
    "    loss = keras.losses.CategoricalCrossentropy(from_logits=True)\n",
    "    \n",
    "    model.compile(\n",
    "        optimizer=optimizer, \n",
    "         loss=loss, \n",
    "         metrics=['accuracy'])\n",
    "    \n",
    "    return model"
   ]
  },
  {
   "cell_type": "code",
   "execution_count": 68,
   "id": "2cd640b6-024f-4984-8016-26379d7b5590",
   "metadata": {},
   "outputs": [
    {
     "name": "stdout",
     "output_type": "stream",
     "text": [
      "0.0001\n",
      "Epoch 1/10\n",
      "96/96 [==============================] - 80s 809ms/step - loss: 2.1254 - accuracy: 0.2799 - val_loss: 1.6118 - val_accuracy: 0.5279\n",
      "Epoch 2/10\n",
      "96/96 [==============================] - 77s 801ms/step - loss: 1.4690 - accuracy: 0.5542 - val_loss: 1.2561 - val_accuracy: 0.6393\n",
      "Epoch 3/10\n",
      "96/96 [==============================] - 77s 802ms/step - loss: 1.1663 - accuracy: 0.6304 - val_loss: 1.0756 - val_accuracy: 0.6950\n",
      "Epoch 4/10\n",
      "96/96 [==============================] - 77s 806ms/step - loss: 0.9988 - accuracy: 0.6880 - val_loss: 0.9622 - val_accuracy: 0.7273\n",
      "Epoch 5/10\n",
      "96/96 [==============================] - 78s 810ms/step - loss: 0.9137 - accuracy: 0.7184 - val_loss: 0.8891 - val_accuracy: 0.7449\n",
      "Epoch 6/10\n",
      "96/96 [==============================] - 78s 809ms/step - loss: 0.8537 - accuracy: 0.7194 - val_loss: 0.8372 - val_accuracy: 0.7507\n",
      "Epoch 7/10\n",
      "96/96 [==============================] - 77s 802ms/step - loss: 0.7919 - accuracy: 0.7474 - val_loss: 0.8010 - val_accuracy: 0.7537\n",
      "Epoch 8/10\n",
      "96/96 [==============================] - 77s 806ms/step - loss: 0.7227 - accuracy: 0.7668 - val_loss: 0.7674 - val_accuracy: 0.7625\n",
      "Epoch 9/10\n",
      "96/96 [==============================] - 77s 803ms/step - loss: 0.7020 - accuracy: 0.7691 - val_loss: 0.7414 - val_accuracy: 0.7713\n",
      "Epoch 10/10\n",
      "96/96 [==============================] - 77s 806ms/step - loss: 0.6737 - accuracy: 0.7824 - val_loss: 0.7227 - val_accuracy: 0.7742\n",
      "\n",
      "\n",
      "0.001\n",
      "Epoch 1/10\n",
      "96/96 [==============================] - 81s 809ms/step - loss: 1.4463 - accuracy: 0.5124 - val_loss: 0.6774 - val_accuracy: 0.7742\n",
      "Epoch 2/10\n",
      "96/96 [==============================] - 77s 799ms/step - loss: 0.6679 - accuracy: 0.7754 - val_loss: 0.6207 - val_accuracy: 0.8006\n",
      "Epoch 3/10\n",
      "96/96 [==============================] - 77s 805ms/step - loss: 0.5112 - accuracy: 0.8275 - val_loss: 0.5743 - val_accuracy: 0.8035\n",
      "Epoch 4/10\n",
      "96/96 [==============================] - 78s 808ms/step - loss: 0.4487 - accuracy: 0.8573 - val_loss: 0.5411 - val_accuracy: 0.8152\n",
      "Epoch 5/10\n",
      "96/96 [==============================] - 77s 805ms/step - loss: 0.3571 - accuracy: 0.8943 - val_loss: 0.5179 - val_accuracy: 0.8182\n",
      "Epoch 6/10\n",
      "96/96 [==============================] - 77s 805ms/step - loss: 0.3107 - accuracy: 0.9163 - val_loss: 0.5309 - val_accuracy: 0.8035\n",
      "Epoch 7/10\n",
      "96/96 [==============================] - 77s 800ms/step - loss: 0.2860 - accuracy: 0.9270 - val_loss: 0.5363 - val_accuracy: 0.8240\n",
      "Epoch 8/10\n",
      "96/96 [==============================] - 77s 804ms/step - loss: 0.2605 - accuracy: 0.9324 - val_loss: 0.5387 - val_accuracy: 0.8035\n",
      "Epoch 9/10\n",
      "96/96 [==============================] - 77s 806ms/step - loss: 0.2257 - accuracy: 0.9503 - val_loss: 0.5082 - val_accuracy: 0.8328\n",
      "Epoch 10/10\n",
      "96/96 [==============================] - 77s 798ms/step - loss: 0.2044 - accuracy: 0.9541 - val_loss: 0.5034 - val_accuracy: 0.8328\n",
      "\n",
      "\n",
      "0.01\n",
      "Epoch 1/10\n",
      "96/96 [==============================] - 80s 811ms/step - loss: 1.5504 - accuracy: 0.5988 - val_loss: 0.8966 - val_accuracy: 0.7243\n",
      "Epoch 2/10\n",
      "96/96 [==============================] - 77s 803ms/step - loss: 0.5387 - accuracy: 0.8274 - val_loss: 0.9135 - val_accuracy: 0.7771\n",
      "Epoch 3/10\n",
      "96/96 [==============================] - 78s 812ms/step - loss: 0.3701 - accuracy: 0.8758 - val_loss: 0.9222 - val_accuracy: 0.7771\n",
      "Epoch 4/10\n",
      "96/96 [==============================] - 78s 812ms/step - loss: 0.2020 - accuracy: 0.9251 - val_loss: 0.9467 - val_accuracy: 0.7742\n",
      "Epoch 5/10\n",
      "96/96 [==============================] - 78s 813ms/step - loss: 0.1663 - accuracy: 0.9426 - val_loss: 0.9086 - val_accuracy: 0.8006\n",
      "Epoch 6/10\n",
      "96/96 [==============================] - 78s 814ms/step - loss: 0.1272 - accuracy: 0.9585 - val_loss: 1.2118 - val_accuracy: 0.7595\n",
      "Epoch 7/10\n",
      "96/96 [==============================] - 78s 814ms/step - loss: 0.1560 - accuracy: 0.9446 - val_loss: 1.0256 - val_accuracy: 0.7830\n",
      "Epoch 8/10\n",
      "96/96 [==============================] - 78s 816ms/step - loss: 0.0820 - accuracy: 0.9718 - val_loss: 1.0772 - val_accuracy: 0.8094\n",
      "Epoch 9/10\n",
      "96/96 [==============================] - 79s 822ms/step - loss: 0.0395 - accuracy: 0.9898 - val_loss: 1.0259 - val_accuracy: 0.7859\n",
      "Epoch 10/10\n",
      "96/96 [==============================] - 78s 812ms/step - loss: 0.0239 - accuracy: 0.9941 - val_loss: 0.9549 - val_accuracy: 0.8094\n",
      "\n",
      "\n",
      "0.1\n",
      "Epoch 1/10\n",
      "96/96 [==============================] - 79s 802ms/step - loss: 11.1608 - accuracy: 0.5758 - val_loss: 8.8733 - val_accuracy: 0.7419\n",
      "Epoch 2/10\n",
      "96/96 [==============================] - 78s 808ms/step - loss: 4.9451 - accuracy: 0.7929 - val_loss: 8.3989 - val_accuracy: 0.7273\n",
      "Epoch 3/10\n",
      "96/96 [==============================] - 79s 825ms/step - loss: 3.1076 - accuracy: 0.8435 - val_loss: 7.3851 - val_accuracy: 0.7742\n",
      "Epoch 4/10\n",
      "96/96 [==============================] - 77s 799ms/step - loss: 2.7215 - accuracy: 0.8622 - val_loss: 8.6342 - val_accuracy: 0.7566\n",
      "Epoch 5/10\n",
      "96/96 [==============================] - 77s 807ms/step - loss: 1.8884 - accuracy: 0.8986 - val_loss: 8.3168 - val_accuracy: 0.7742\n",
      "Epoch 6/10\n",
      "96/96 [==============================] - 78s 811ms/step - loss: 2.2068 - accuracy: 0.8988 - val_loss: 10.3733 - val_accuracy: 0.7713\n",
      "Epoch 7/10\n",
      "96/96 [==============================] - 79s 822ms/step - loss: 2.0099 - accuracy: 0.9025 - val_loss: 11.6871 - val_accuracy: 0.7713\n",
      "Epoch 8/10\n",
      "96/96 [==============================] - 78s 810ms/step - loss: 1.5520 - accuracy: 0.9282 - val_loss: 10.9319 - val_accuracy: 0.7566\n",
      "Epoch 9/10\n",
      "96/96 [==============================] - 78s 808ms/step - loss: 1.0645 - accuracy: 0.9434 - val_loss: 11.3997 - val_accuracy: 0.7947\n",
      "Epoch 10/10\n",
      "96/96 [==============================] - 77s 806ms/step - loss: 0.9813 - accuracy: 0.9459 - val_loss: 10.2649 - val_accuracy: 0.7595\n",
      "\n",
      "\n"
     ]
    }
   ],
   "source": [
    "scores = {}\n",
    "\n",
    "for lr in [0.0001, .001, .01, .1]:\n",
    "    print(lr)\n",
    "    model = make_model(learning_rate=lr)\n",
    "    history = model.fit(train_ds, epochs=10, validation_data=val_ds)\n",
    "    scores[lr] = history.history\n",
    "    print()\n",
    "    print()"
   ]
  },
  {
   "cell_type": "code",
   "execution_count": 69,
   "id": "850fc018-eccc-498e-b55e-4dcba906231b",
   "metadata": {},
   "outputs": [
    {
     "data": {
      "text/plain": [
       "<matplotlib.legend.Legend at 0x1ecbcfe6d90>"
      ]
     },
     "execution_count": 69,
     "metadata": {},
     "output_type": "execute_result"
    },
    {
     "data": {
      "image/png": "[encoded data removed]",
      "text/plain": [
       "<Figure size 432x288 with 1 Axes>"
      ]
     },
     "metadata": {
      "needs_background": "light"
     },
     "output_type": "display_data"
    }
   ],
   "source": [
    "for lr, hist in scores.items():\n",
    "    plt.plot(hist['val_accuracy'], label=lr)\n",
    "\n",
    "plt.xticks(np.arange(10))\n",
    "plt.legend()"
   ]
  },
  {
   "cell_type": "code",
   "execution_count": 70,
   "id": "4e5ab5b8-0306-4f1e-8272-dda62778f422",
   "metadata": {},
   "outputs": [],
   "source": [
    "learning_rate = .001"
   ]
  },
  {
   "cell_type": "markdown",
   "id": "25f02551-4e89-4cfd-b44e-864738aad5c8",
   "metadata": {},
   "source": [
    "## **Checkpointing**"
   ]
  },
  {
   "cell_type": "code",
   "execution_count": 71,
   "id": "1396d907-8330-40d3-ab79-9a30bd8311fa",
   "metadata": {},
   "outputs": [
    {
     "data": {
      "text/plain": [
       "<tensorflow.python.keras.engine.functional.Functional at 0x1ecbc0703d0>"
      ]
     },
     "execution_count": 71,
     "metadata": {},
     "output_type": "execute_result"
    }
   ],
   "source": [
    "model"
   ]
  },
  {
   "cell_type": "code",
   "execution_count": 74,
   "id": "e17720c8-819d-4e31-8e1b-2cd6783b9614",
   "metadata": {},
   "outputs": [
    {
     "name": "stdout",
     "output_type": "stream",
     "text": [
      "Epoch 1/10\n",
      "96/96 [==============================] - 92s 926ms/step - loss: 1.4261 - accuracy: 0.5184 - val_loss: 0.6961 - val_accuracy: 0.7830\n",
      "Epoch 2/10\n",
      "96/96 [==============================] - 83s 861ms/step - loss: 0.6163 - accuracy: 0.7860 - val_loss: 0.5906 - val_accuracy: 0.8152\n",
      "Epoch 3/10\n",
      "96/96 [==============================] - 82s 849ms/step - loss: 0.5121 - accuracy: 0.8342 - val_loss: 0.5692 - val_accuracy: 0.8094\n",
      "Epoch 4/10\n",
      "96/96 [==============================] - 80s 835ms/step - loss: 0.4113 - accuracy: 0.8754 - val_loss: 0.5607 - val_accuracy: 0.8035\n",
      "Epoch 5/10\n",
      "96/96 [==============================] - 79s 825ms/step - loss: 0.3570 - accuracy: 0.8878 - val_loss: 0.5399 - val_accuracy: 0.8270\n",
      "Epoch 6/10\n",
      "96/96 [==============================] - 79s 824ms/step - loss: 0.3172 - accuracy: 0.9126 - val_loss: 0.5602 - val_accuracy: 0.8182\n",
      "Epoch 7/10\n",
      "96/96 [==============================] - 79s 819ms/step - loss: 0.2799 - accuracy: 0.9303 - val_loss: 0.5418 - val_accuracy: 0.8182\n",
      "Epoch 8/10\n",
      "96/96 [==============================] - 78s 812ms/step - loss: 0.2465 - accuracy: 0.9370 - val_loss: 0.5322 - val_accuracy: 0.8182\n",
      "Epoch 9/10\n",
      "96/96 [==============================] - 78s 810ms/step - loss: 0.2248 - accuracy: 0.9496 - val_loss: 0.5246 - val_accuracy: 0.8240\n",
      "Epoch 10/10\n",
      "96/96 [==============================] - 78s 813ms/step - loss: 0.2032 - accuracy: 0.9642 - val_loss: 0.5291 - val_accuracy: 0.8240\n"
     ]
    }
   ],
   "source": [
    "checkpoint = keras.callbacks.ModelCheckpoint(\n",
    "    'xception_v1{epoch:02d}_{val_accuracy:.3f}.h5',\n",
    "    save_best_only=True,\n",
    "    monitor='val_accuracy',\n",
    "    mode='max'\n",
    "    )\n",
    "\n",
    "\n",
    "lr = .001\n",
    "model = make_model(learning_rate=lr)\n",
    "history = model.fit(\n",
    "        train_ds, \n",
    "        epochs=10, \n",
    "        validation_data=val_ds,\n",
    "        callbacks=checkpoint\n",
    "        )\n",
    "scores[lr] = history.history"
   ]
  },
  {
   "cell_type": "markdown",
   "id": "9aa6ee2c-4967-4b75-85ef-c214ab6d865f",
   "metadata": {},
   "source": [
    "## **Adding more layers**"
   ]
  },
  {
   "cell_type": "code",
   "execution_count": 80,
   "id": "d8793960-c227-47ef-ac22-f5bf6c052622",
   "metadata": {},
   "outputs": [],
   "source": [
    "def make_model(learning_rate=0.01, size_inner=100):\n",
    "    base_model = Xception(\n",
    "        weights='imagenet',\n",
    "        include_top=False,\n",
    "        input_shape=(150, 150, 3)\n",
    "    )\n",
    "\n",
    "    base_model.trainable = False\n",
    "\n",
    "    #########################################\n",
    "\n",
    "    inputs = keras.Input(shape=(150, 150, 3))\n",
    "    base = base_model(inputs, training=False)\n",
    "    vectors = keras.layers.GlobalAveragePooling2D()(base)\n",
    "    \n",
    "    inner = keras.layers.Dense(size_inner, activation='relu')(vectors)\n",
    "    \n",
    "    outputs = keras.layers.Dense(10)(inner)\n",
    "    \n",
    "    model = keras.Model(inputs, outputs)\n",
    "    \n",
    "    #########################################\n",
    "\n",
    "    optimizer = keras.optimizers.Adam(learning_rate=learning_rate)\n",
    "    loss = keras.losses.CategoricalCrossentropy(from_logits=True)\n",
    "\n",
    "    model.compile(\n",
    "        optimizer=optimizer,\n",
    "        loss=loss,\n",
    "        metrics=['accuracy']\n",
    "    )\n",
    "    \n",
    "    return model"
   ]
  },
  {
   "cell_type": "code",
   "execution_count": 81,
   "id": "0f214176-0775-4f56-bc2d-6dcab20dd7d7",
   "metadata": {},
   "outputs": [
    {
     "name": "stdout",
     "output_type": "stream",
     "text": [
      "10\n",
      "Epoch 1/10\n",
      "96/96 [==============================] - 82s 824ms/step - loss: 1.9667 - accuracy: 0.2184 - val_loss: 1.5476 - val_accuracy: 0.4897\n",
      "Epoch 2/10\n",
      "96/96 [==============================] - 78s 808ms/step - loss: 1.4124 - accuracy: 0.5062 - val_loss: 1.2682 - val_accuracy: 0.5689\n",
      "Epoch 3/10\n",
      "96/96 [==============================] - 78s 813ms/step - loss: 1.1382 - accuracy: 0.5832 - val_loss: 0.9700 - val_accuracy: 0.6686\n",
      "Epoch 4/10\n",
      "96/96 [==============================] - 82s 852ms/step - loss: 0.7801 - accuracy: 0.7520 - val_loss: 0.7676 - val_accuracy: 0.7537\n",
      "Epoch 5/10\n",
      "96/96 [==============================] - 79s 821ms/step - loss: 0.5682 - accuracy: 0.8230 - val_loss: 0.6878 - val_accuracy: 0.7830\n",
      "Epoch 6/10\n",
      "96/96 [==============================] - 77s 807ms/step - loss: 0.4827 - accuracy: 0.8518 - val_loss: 0.6606 - val_accuracy: 0.8006\n",
      "Epoch 7/10\n",
      "96/96 [==============================] - 78s 808ms/step - loss: 0.4487 - accuracy: 0.8692 - val_loss: 0.6578 - val_accuracy: 0.7889\n",
      "Epoch 8/10\n",
      "96/96 [==============================] - 78s 811ms/step - loss: 0.3739 - accuracy: 0.8852 - val_loss: 0.6433 - val_accuracy: 0.7859\n",
      "Epoch 9/10\n",
      "96/96 [==============================] - 78s 809ms/step - loss: 0.3456 - accuracy: 0.8934 - val_loss: 0.6195 - val_accuracy: 0.7889\n",
      "Epoch 10/10\n",
      "96/96 [==============================] - 78s 809ms/step - loss: 0.2919 - accuracy: 0.9247 - val_loss: 0.6085 - val_accuracy: 0.8152\n",
      "\n",
      "\n",
      "100\n",
      "Epoch 1/10\n",
      "96/96 [==============================] - 81s 818ms/step - loss: 1.2737 - accuracy: 0.5717 - val_loss: 0.5952 - val_accuracy: 0.8065\n",
      "Epoch 2/10\n",
      "96/96 [==============================] - 78s 812ms/step - loss: 0.4988 - accuracy: 0.8186 - val_loss: 0.5559 - val_accuracy: 0.8358\n",
      "Epoch 3/10\n",
      "96/96 [==============================] - 78s 812ms/step - loss: 0.3660 - accuracy: 0.8841 - val_loss: 0.5845 - val_accuracy: 0.8094\n",
      "Epoch 4/10\n",
      "96/96 [==============================] - 78s 809ms/step - loss: 0.2492 - accuracy: 0.9235 - val_loss: 0.5991 - val_accuracy: 0.8006\n",
      "Epoch 5/10\n",
      "96/96 [==============================] - 78s 814ms/step - loss: 0.1654 - accuracy: 0.9568 - val_loss: 0.6144 - val_accuracy: 0.8035\n",
      "Epoch 6/10\n",
      "96/96 [==============================] - 78s 814ms/step - loss: 0.1268 - accuracy: 0.9756 - val_loss: 0.5989 - val_accuracy: 0.8240\n",
      "Epoch 7/10\n",
      "96/96 [==============================] - 78s 811ms/step - loss: 0.0945 - accuracy: 0.9850 - val_loss: 0.6007 - val_accuracy: 0.8299\n",
      "Epoch 8/10\n",
      "96/96 [==============================] - 77s 807ms/step - loss: 0.0683 - accuracy: 0.9937 - val_loss: 0.5894 - val_accuracy: 0.8152\n",
      "Epoch 9/10\n",
      "96/96 [==============================] - 78s 811ms/step - loss: 0.0426 - accuracy: 0.9966 - val_loss: 0.6302 - val_accuracy: 0.8182\n",
      "Epoch 10/10\n",
      "96/96 [==============================] - 78s 815ms/step - loss: 0.0284 - accuracy: 0.9997 - val_loss: 0.6378 - val_accuracy: 0.8211\n",
      "\n",
      "\n",
      "1000\n",
      "Epoch 1/10\n",
      "96/96 [==============================] - 82s 829ms/step - loss: 1.1883 - accuracy: 0.6110 - val_loss: 0.6163 - val_accuracy: 0.7889\n",
      "Epoch 2/10\n",
      "96/96 [==============================] - 79s 818ms/step - loss: 0.3695 - accuracy: 0.8754 - val_loss: 0.6173 - val_accuracy: 0.8035\n",
      "Epoch 3/10\n",
      "96/96 [==============================] - 79s 823ms/step - loss: 0.2472 - accuracy: 0.9139 - val_loss: 0.5972 - val_accuracy: 0.8035\n",
      "Epoch 4/10\n",
      "96/96 [==============================] - 79s 824ms/step - loss: 0.1456 - accuracy: 0.9530 - val_loss: 0.6799 - val_accuracy: 0.7977\n",
      "Epoch 5/10\n",
      "96/96 [==============================] - 79s 826ms/step - loss: 0.0771 - accuracy: 0.9789 - val_loss: 0.6618 - val_accuracy: 0.7977\n",
      "Epoch 6/10\n",
      "96/96 [==============================] - 79s 823ms/step - loss: 0.0380 - accuracy: 0.9945 - val_loss: 0.6152 - val_accuracy: 0.8328\n",
      "Epoch 7/10\n",
      "96/96 [==============================] - 79s 827ms/step - loss: 0.0266 - accuracy: 0.9976 - val_loss: 0.7444 - val_accuracy: 0.7889\n",
      "Epoch 8/10\n",
      "96/96 [==============================] - 79s 826ms/step - loss: 0.0217 - accuracy: 0.9954 - val_loss: 0.7167 - val_accuracy: 0.8211\n",
      "Epoch 9/10\n",
      "96/96 [==============================] - 79s 822ms/step - loss: 0.0264 - accuracy: 0.9966 - val_loss: 0.7537 - val_accuracy: 0.8152\n",
      "Epoch 10/10\n",
      "96/96 [==============================] - 79s 821ms/step - loss: 0.0105 - accuracy: 0.9982 - val_loss: 0.7178 - val_accuracy: 0.8152\n",
      "\n",
      "\n"
     ]
    }
   ],
   "source": [
    "scores = {}\n",
    "\n",
    "lr = .001\n",
    "for size in [10, 100, 1000]:\n",
    "    print(size)\n",
    "    model = make_model(learning_rate=lr, size_inner=size)\n",
    "    history = model.fit(train_ds, epochs=10, validation_data=val_ds)\n",
    "    scores[size] = history.history\n",
    "    print()\n",
    "    print()"
   ]
  },
  {
   "cell_type": "code",
   "execution_count": 82,
   "id": "43fb79d1-3fd9-41c2-b6c7-7f0cb28d6c47",
   "metadata": {},
   "outputs": [
    {
     "data": {
      "text/plain": [
       "<matplotlib.legend.Legend at 0x1ecaca206a0>"
      ]
     },
     "execution_count": 82,
     "metadata": {},
     "output_type": "execute_result"
    },
    {
     "data": {
      "image/png": "[encoded data removed]",
      "text/plain": [
       "<Figure size 432x288 with 1 Axes>"
      ]
     },
     "metadata": {
      "needs_background": "light"
     },
     "output_type": "display_data"
    }
   ],
   "source": [
    "for size, hist in scores.items():\n",
    "    plt.plot(hist['val_accuracy'], label=size)\n",
    "\n",
    "plt.xticks(np.arange(10))\n",
    "plt.legend()"
   ]
  },
  {
   "cell_type": "code",
   "execution_count": 83,
   "id": "cbae9dc7-727b-40bd-bba4-9ba63884f5d1",
   "metadata": {},
   "outputs": [],
   "source": [
    "def make_model(learning_rate=0.01, size_inner=100, droprate=0.2):\n",
    "    base_model = Xception(\n",
    "        weights='imagenet',\n",
    "        include_top=False,\n",
    "        input_shape=(150, 150, 3)\n",
    "    )\n",
    "\n",
    "    base_model.trainable = False\n",
    "\n",
    "    #########################################\n",
    "\n",
    "    inputs = keras.Input(shape=(150, 150, 3))\n",
    "    base = base_model(inputs, training=False)\n",
    "    vectors = keras.layers.GlobalAveragePooling2D()(base)\n",
    "    \n",
    "    inner = keras.layers.Dense(size_inner, activation='relu')(vectors)\n",
    "    drop = keras.layers.Dropout(droprate)(inner)\n",
    "    outputs = keras.layers.Dense(10)(drop)\n",
    "    \n",
    "    model = keras.Model(inputs, outputs)\n",
    "    \n",
    "    #########################################\n",
    "\n",
    "    optimizer = keras.optimizers.Adam(learning_rate=learning_rate)\n",
    "    loss = keras.losses.CategoricalCrossentropy(from_logits=True)\n",
    "\n",
    "    model.compile(\n",
    "        optimizer=optimizer,\n",
    "        loss=loss,\n",
    "        metrics=['accuracy']\n",
    "    )\n",
    "    \n",
    "    return model"
   ]
  },
  {
   "cell_type": "code",
   "execution_count": null,
   "id": "3a0534f3-ab05-42f0-90bf-86f33effd4ee",
   "metadata": {},
   "outputs": [],
   "source": [
    "learning_rate = 0.001\n",
    "size = 100\n",
    "\n",
    "scores = {}\n",
    "\n",
    "for droprate in [0.0, 0.2, 0.5, 0.8]:\n",
    "    print(droprate)\n",
    "\n",
    "    model = make_model(\n",
    "        learning_rate=learning_rate,\n",
    "        size_inner=size,\n",
    "        droprate=droprate\n",
    "    )\n",
    "\n",
    "    history = model.fit(train_ds, epochs=30, validation_data=val_ds)\n",
    "    scores[droprate] = history.history\n",
    "\n",
    "    print()\n",
    "    print()"
   ]
  },
  {
   "cell_type": "markdown",
   "id": "b860c8b9-3882-4bd2-9a2d-c82571e9d6f6",
   "metadata": {},
   "source": [
    "## **Data augmentation**"
   ]
  },
  {
   "cell_type": "code",
   "execution_count": 84,
   "id": "a8c6d13e-e6f3-4323-9948-9c3d54efd4df",
   "metadata": {},
   "outputs": [
    {
     "name": "stdout",
     "output_type": "stream",
     "text": [
      "Found 3068 images belonging to 10 classes.\n",
      "Found 341 images belonging to 10 classes.\n"
     ]
    }
   ],
   "source": [
    "train_gen = ImageDataGenerator(\n",
    "    preprocessing_function=preprocess_input,\n",
    "    rotation_range=30,\n",
    "    width_shift_range=0.0,\n",
    "    height_shift_range=0.0,\n",
    "    shear_range=0.0,\n",
    "    zoom_range=0.0,\n",
    "    cval=0.0,\n",
    "    horizontal_flip=False,\n",
    "    vertical_flip=False\n",
    ")\n",
    "\n",
    "train_ds = train_gen.flow_from_directory('./clothing-dataset-small/train', \n",
    "                              target_size=(150,150), \n",
    "                              batch_size=32)\n",
    "\n",
    "val_gen = ImageDataGenerator(preprocessing_function=preprocess_input)\n",
    "\n",
    "val_ds = val_gen.flow_from_directory('./clothing-dataset-small/validation/', \n",
    "                              target_size=(150,150), \n",
    "                              batch_size=32,\n",
    "                                    shuffle=False)"
   ]
  },
  {
   "cell_type": "code",
   "execution_count": 85,
   "id": "877b163b-f06c-4f46-9cd3-ccd33c9b2f1e",
   "metadata": {},
   "outputs": [
    {
     "name": "stdout",
     "output_type": "stream",
     "text": [
      "Found 3068 images belonging to 10 classes.\n",
      "Found 341 images belonging to 10 classes.\n"
     ]
    }
   ],
   "source": [
    "train_gen = ImageDataGenerator(\n",
    "    preprocessing_function=preprocess_input,\n",
    "    vertical_flip=True,\n",
    ")\n",
    "\n",
    "train_ds = train_gen.flow_from_directory(\n",
    "    './clothing-dataset-small/train',\n",
    "    target_size=(150, 150),\n",
    "    batch_size=32\n",
    ")\n",
    "\n",
    "val_gen = ImageDataGenerator(preprocessing_function=preprocess_input)\n",
    "\n",
    "val_ds = val_gen.flow_from_directory(\n",
    "    './clothing-dataset-small/validation',\n",
    "    target_size=(150, 150),\n",
    "    batch_size=32,\n",
    "    shuffle=False\n",
    ")"
   ]
  },
  {
   "cell_type": "code",
   "execution_count": 86,
   "id": "e6022080-7f1b-4b68-9d17-bbb4ab37293c",
   "metadata": {},
   "outputs": [
    {
     "name": "stdout",
     "output_type": "stream",
     "text": [
      "Epoch 1/50\n",
      "96/96 [==============================] - 92s 929ms/step - loss: 1.5195 - accuracy: 0.5091 - val_loss: 0.7570 - val_accuracy: 0.7566\n",
      "Epoch 2/50\n",
      "96/96 [==============================] - 83s 860ms/step - loss: 0.8827 - accuracy: 0.7066 - val_loss: 0.7251 - val_accuracy: 0.7507\n",
      "Epoch 3/50\n",
      "96/96 [==============================] - 79s 821ms/step - loss: 0.6794 - accuracy: 0.7820 - val_loss: 0.6500 - val_accuracy: 0.7977\n",
      "Epoch 4/50\n",
      "96/96 [==============================] - 78s 811ms/step - loss: 0.6049 - accuracy: 0.8021 - val_loss: 0.6261 - val_accuracy: 0.8094\n",
      "Epoch 5/50\n",
      "96/96 [==============================] - 78s 813ms/step - loss: 0.5034 - accuracy: 0.8324 - val_loss: 0.6016 - val_accuracy: 0.8035\n",
      "Epoch 6/50\n",
      "96/96 [==============================] - 78s 812ms/step - loss: 0.4534 - accuracy: 0.8522 - val_loss: 0.6091 - val_accuracy: 0.7977\n",
      "Epoch 7/50\n",
      "96/96 [==============================] - 77s 805ms/step - loss: 0.4088 - accuracy: 0.8609 - val_loss: 0.6380 - val_accuracy: 0.8035\n",
      "Epoch 8/50\n",
      "96/96 [==============================] - 78s 811ms/step - loss: 0.3696 - accuracy: 0.8734 - val_loss: 0.6135 - val_accuracy: 0.7859\n",
      "Epoch 9/50\n",
      "96/96 [==============================] - 78s 813ms/step - loss: 0.3333 - accuracy: 0.8913 - val_loss: 0.6124 - val_accuracy: 0.8211\n",
      "Epoch 10/50\n",
      "96/96 [==============================] - 79s 819ms/step - loss: 0.3011 - accuracy: 0.9078 - val_loss: 0.6146 - val_accuracy: 0.8065\n",
      "Epoch 11/50\n",
      "96/96 [==============================] - 79s 826ms/step - loss: 0.2742 - accuracy: 0.9115 - val_loss: 0.6312 - val_accuracy: 0.8065\n",
      "Epoch 12/50\n",
      "96/96 [==============================] - 79s 818ms/step - loss: 0.2687 - accuracy: 0.9085 - val_loss: 0.5941 - val_accuracy: 0.8123\n",
      "Epoch 13/50\n",
      "96/96 [==============================] - 79s 818ms/step - loss: 0.2100 - accuracy: 0.9349 - val_loss: 0.6737 - val_accuracy: 0.7830\n",
      "Epoch 14/50\n",
      "96/96 [==============================] - 78s 818ms/step - loss: 0.2010 - accuracy: 0.9382 - val_loss: 0.6150 - val_accuracy: 0.7977\n",
      "Epoch 15/50\n",
      "96/96 [==============================] - 79s 819ms/step - loss: 0.1668 - accuracy: 0.9503 - val_loss: 0.6102 - val_accuracy: 0.8094\n",
      "Epoch 16/50\n",
      "96/96 [==============================] - 78s 817ms/step - loss: 0.1613 - accuracy: 0.9500 - val_loss: 0.6369 - val_accuracy: 0.8065\n",
      "Epoch 17/50\n",
      "96/96 [==============================] - 78s 815ms/step - loss: 0.1560 - accuracy: 0.9549 - val_loss: 0.6370 - val_accuracy: 0.8182\n",
      "Epoch 18/50\n",
      "96/96 [==============================] - 81s 848ms/step - loss: 0.1366 - accuracy: 0.9605 - val_loss: 0.6513 - val_accuracy: 0.8035\n",
      "Epoch 19/50\n",
      "96/96 [==============================] - 79s 827ms/step - loss: 0.1406 - accuracy: 0.9578 - val_loss: 0.6362 - val_accuracy: 0.8182\n",
      "Epoch 20/50\n",
      "96/96 [==============================] - 79s 820ms/step - loss: 0.1379 - accuracy: 0.9611 - val_loss: 0.6477 - val_accuracy: 0.7947\n",
      "Epoch 21/50\n",
      "96/96 [==============================] - 82s 857ms/step - loss: 0.1057 - accuracy: 0.9733 - val_loss: 0.7286 - val_accuracy: 0.8182\n",
      "Epoch 22/50\n",
      "96/96 [==============================] - 78s 813ms/step - loss: 0.1041 - accuracy: 0.9722 - val_loss: 0.7117 - val_accuracy: 0.7947\n",
      "Epoch 23/50\n",
      "96/96 [==============================] - 78s 808ms/step - loss: 0.0926 - accuracy: 0.9738 - val_loss: 0.7068 - val_accuracy: 0.7889\n",
      "Epoch 24/50\n",
      "96/96 [==============================] - 78s 813ms/step - loss: 0.0955 - accuracy: 0.9738 - val_loss: 0.7256 - val_accuracy: 0.8152\n",
      "Epoch 25/50\n",
      "96/96 [==============================] - 78s 808ms/step - loss: 0.0830 - accuracy: 0.9744 - val_loss: 0.7017 - val_accuracy: 0.8152\n",
      "Epoch 26/50\n",
      "96/96 [==============================] - 77s 805ms/step - loss: 0.0718 - accuracy: 0.9814 - val_loss: 0.7011 - val_accuracy: 0.8094\n",
      "Epoch 27/50\n",
      "96/96 [==============================] - 77s 807ms/step - loss: 0.0672 - accuracy: 0.9829 - val_loss: 0.7264 - val_accuracy: 0.8094\n",
      "Epoch 28/50\n",
      "96/96 [==============================] - 78s 808ms/step - loss: 0.0663 - accuracy: 0.9821 - val_loss: 0.7894 - val_accuracy: 0.8123\n",
      "Epoch 29/50\n",
      "96/96 [==============================] - 78s 808ms/step - loss: 0.0575 - accuracy: 0.9849 - val_loss: 0.7521 - val_accuracy: 0.7947\n",
      "Epoch 30/50\n",
      "96/96 [==============================] - 81s 842ms/step - loss: 0.0600 - accuracy: 0.9807 - val_loss: 0.7691 - val_accuracy: 0.8123\n",
      "Epoch 31/50\n",
      "96/96 [==============================] - 78s 811ms/step - loss: 0.0689 - accuracy: 0.9814 - val_loss: 0.7526 - val_accuracy: 0.8094\n",
      "Epoch 32/50\n",
      "96/96 [==============================] - 78s 808ms/step - loss: 0.0607 - accuracy: 0.9823 - val_loss: 0.7682 - val_accuracy: 0.8211\n",
      "Epoch 33/50\n",
      "96/96 [==============================] - 78s 811ms/step - loss: 0.0660 - accuracy: 0.9799 - val_loss: 0.8306 - val_accuracy: 0.8182\n",
      "Epoch 34/50\n",
      "96/96 [==============================] - 78s 815ms/step - loss: 0.0499 - accuracy: 0.9875 - val_loss: 0.8032 - val_accuracy: 0.8094\n",
      "Epoch 35/50\n",
      "96/96 [==============================] - 79s 822ms/step - loss: 0.0470 - accuracy: 0.9894 - val_loss: 0.7890 - val_accuracy: 0.8299\n",
      "Epoch 36/50\n",
      "96/96 [==============================] - 78s 816ms/step - loss: 0.0536 - accuracy: 0.9837 - val_loss: 0.8190 - val_accuracy: 0.7918\n",
      "Epoch 37/50\n",
      "96/96 [==============================] - 78s 812ms/step - loss: 0.0557 - accuracy: 0.9831 - val_loss: 0.7799 - val_accuracy: 0.8123\n",
      "Epoch 38/50\n",
      "96/96 [==============================] - 81s 844ms/step - loss: 0.0490 - accuracy: 0.9869 - val_loss: 0.7938 - val_accuracy: 0.8152\n",
      "Epoch 39/50\n",
      "96/96 [==============================] - 79s 821ms/step - loss: 0.0593 - accuracy: 0.9831 - val_loss: 0.7770 - val_accuracy: 0.8152\n",
      "Epoch 40/50\n",
      "96/96 [==============================] - 79s 818ms/step - loss: 0.0420 - accuracy: 0.9866 - val_loss: 0.8450 - val_accuracy: 0.8152\n",
      "Epoch 41/50\n",
      "96/96 [==============================] - 81s 846ms/step - loss: 0.0450 - accuracy: 0.9868 - val_loss: 0.8648 - val_accuracy: 0.8006\n",
      "Epoch 42/50\n",
      "96/96 [==============================] - 94s 981ms/step - loss: 0.0528 - accuracy: 0.9862 - val_loss: 0.8718 - val_accuracy: 0.8065\n",
      "Epoch 43/50\n",
      "96/96 [==============================] - 93s 973ms/step - loss: 0.0453 - accuracy: 0.9879 - val_loss: 0.8719 - val_accuracy: 0.8065\n",
      "Epoch 44/50\n",
      "96/96 [==============================] - 94s 975ms/step - loss: 0.0403 - accuracy: 0.9872 - val_loss: 0.8816 - val_accuracy: 0.8152\n",
      "Epoch 45/50\n",
      "96/96 [==============================] - 88s 914ms/step - loss: 0.0472 - accuracy: 0.9854 - val_loss: 0.9212 - val_accuracy: 0.8182\n",
      "Epoch 46/50\n",
      "96/96 [==============================] - 78s 815ms/step - loss: 0.0499 - accuracy: 0.9840 - val_loss: 0.8526 - val_accuracy: 0.7859\n",
      "Epoch 47/50\n",
      "96/96 [==============================] - 79s 825ms/step - loss: 0.0360 - accuracy: 0.9879 - val_loss: 0.8210 - val_accuracy: 0.8152\n",
      "Epoch 48/50\n",
      "96/96 [==============================] - 79s 820ms/step - loss: 0.0338 - accuracy: 0.9888 - val_loss: 0.8737 - val_accuracy: 0.8182\n",
      "Epoch 49/50\n",
      "96/96 [==============================] - 79s 819ms/step - loss: 0.0396 - accuracy: 0.9877 - val_loss: 0.8851 - val_accuracy: 0.8094\n",
      "Epoch 50/50\n",
      "96/96 [==============================] - 79s 823ms/step - loss: 0.0472 - accuracy: 0.9870 - val_loss: 0.9165 - val_accuracy: 0.8065\n"
     ]
    }
   ],
   "source": [
    "learning_rate = 0.001\n",
    "size = 100\n",
    "droprate = 0.2\n",
    "\n",
    "model = make_model(\n",
    "    learning_rate=learning_rate,\n",
    "    size_inner=size,\n",
    "    droprate=droprate\n",
    ")\n",
    "\n",
    "history = model.fit(train_ds, epochs=50, validation_data=val_ds)"
   ]
  },
  {
   "cell_type": "code",
   "execution_count": 87,
   "id": "977f61d1-69b5-445c-b80f-73290e209c21",
   "metadata": {},
   "outputs": [
    {
     "data": {
      "text/plain": [
       "<matplotlib.legend.Legend at 0x1ec81b34be0>"
      ]
     },
     "execution_count": 87,
     "metadata": {},
     "output_type": "execute_result"
    },
    {
     "data": {
      "image/png": "[encoded data removed]",
      "text/plain": [
       "<Figure size 432x288 with 1 Axes>"
      ]
     },
     "metadata": {
      "needs_background": "light"
     },
     "output_type": "display_data"
    }
   ],
   "source": [
    "hist = history.history\n",
    "plt.plot(hist['val_accuracy'], label='val')\n",
    "plt.plot(hist['accuracy'], label='train')\n",
    "\n",
    "plt.legend()"
   ]
  },
  {
   "cell_type": "markdown",
   "id": "12c828f4-f907-4cab-b2cb-ca2b634e0878",
   "metadata": {},
   "source": [
    "## **Using the Model**"
   ]
  },
  {
   "cell_type": "code",
   "execution_count": null,
   "id": "7115a4e4-a072-4abe-9859-322a8bcf59b8",
   "metadata": {},
   "outputs": [],
   "source": [
    "test_gen = ImageDataGenerator(preprocessing_function=preprocess_input)\n",
    "\n",
    "test_ds = test_gen.flow_from_directory(\n",
    "    './clothing-dataset-small/test',\n",
    "    target_size=(299, 299),\n",
    "    batch_size=32,\n",
    "    shuffle=False\n",
    ")"
   ]
  },
  {
   "cell_type": "code",
   "execution_count": null,
   "id": "a773125a-9a70-4880-b001-744fc09fd7f5",
   "metadata": {},
   "outputs": [],
   "source": [
    "model = keras.models.load_model('xception_v4_1_13_0.903.h5')\n",
    "model.evaluate(test_ds)"
   ]
  },
  {
   "cell_type": "code",
   "execution_count": null,
   "id": "1adcf90d-0900-47cf-ba36-8c45484ced51",
   "metadata": {},
   "outputs": [],
   "source": [
    "path = 'clothing-dataset-small/test/pants/c8d21106-bbdb-4e8d-83e4-bf3d14e54c16.jpg'"
   ]
  },
  {
   "cell_type": "code",
   "execution_count": null,
   "id": "4915e07d-1d08-4472-9f0d-0d1454ade786",
   "metadata": {},
   "outputs": [],
   "source": [
    "img = load_img(path, target_size=(299, 299))"
   ]
  },
  {
   "cell_type": "code",
   "execution_count": null,
   "id": "f69e64bc-6bbe-45be-a15e-a4c5c8c4c9a4",
   "metadata": {},
   "outputs": [],
   "source": [
    "import numpy as np"
   ]
  },
  {
   "cell_type": "code",
   "execution_count": null,
   "id": "90a2040d-6bad-4910-9712-277b7a028777",
   "metadata": {},
   "outputs": [],
   "source": [
    "x = np.array(img)\n",
    "X = np.array([x])\n",
    "X.shape"
   ]
  },
  {
   "cell_type": "code",
   "execution_count": null,
   "id": "d9ad92c7-0e72-4291-b0f4-fe5b8362b18f",
   "metadata": {},
   "outputs": [],
   "source": [
    "(1, 299, 299, 3)"
   ]
  },
  {
   "cell_type": "code",
   "execution_count": null,
   "id": "f9767e7c-7ae3-4f06-9153-07c2142cb3cf",
   "metadata": {},
   "outputs": [],
   "source": [
    "X = preprocess_input(X)"
   ]
  },
  {
   "cell_type": "code",
   "execution_count": null,
   "id": "8e55a44b-1fa7-4e0c-a4b2-956437497435",
   "metadata": {},
   "outputs": [],
   "source": [
    "pred = model.predict(X)"
   ]
  },
  {
   "cell_type": "code",
   "execution_count": null,
   "id": "3045ef3a-2a63-451a-931e-09d4251254fb",
   "metadata": {},
   "outputs": [],
   "source": [
    "classes = [\n",
    "    'dress',\n",
    "    'hat',\n",
    "    'longsleeve',\n",
    "    'outwear',\n",
    "    'pants',\n",
    "    'shirt',\n",
    "    'shoes',\n",
    "    'shorts',\n",
    "    'skirt',\n",
    "    't-shirt'\n",
    "]"
   ]
  },
  {
   "cell_type": "code",
   "execution_count": null,
   "id": "980a3cbb-ad1d-4bad-8830-c23eca958ad0",
   "metadata": {},
   "outputs": [],
   "source": [
    "dict(zip(classes, pred[0]))"
   ]
  }
 ],
 "metadata": {
  "kernelspec": {
   "display_name": "Python 3",
   "language": "python",
   "name": "python3"
  },
  "language_info": {
   "codemirror_mode": {
    "name": "ipython",
    "version": 3
   },
   "file_extension": ".py",
   "mimetype": "text/x-python",
   "name": "python",
   "nbconvert_exporter": "python",
   "pygments_lexer": "ipython3",
   "version": "3.8.8"
  }
 },
 "nbformat": 4,
 "nbformat_minor": 5
}

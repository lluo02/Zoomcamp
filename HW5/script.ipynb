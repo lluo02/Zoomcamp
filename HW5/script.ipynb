{
 "cells": [
  {
   "cell_type": "code",
   "execution_count": 1,
   "id": "2f6d9b18-6038-4e2c-a132-c7e8ddfda75d",
   "metadata": {},
   "outputs": [],
   "source": [
    "from flask import Flask\n",
    "import numpy as np\n",
    "import pandas as pd\n",
    "import pickle\n",
    "from flask import request\n",
    "from flask import jsonify\n",
    "\n",
    "from sklearn.feature_extraction import DictVectorizer"
   ]
  },
  {
   "cell_type": "code",
   "execution_count": 9,
   "id": "b874145c-fe6c-499a-92d1-37ba11917a3c",
   "metadata": {},
   "outputs": [
    {
     "name": "stderr",
     "output_type": "stream",
     "text": [
      "  % Total    % Received % Xferd  Average Speed   Time    Time     Time  Current\n",
      "                                 Dload  Upload   Total   Spent    Left  Speed\n",
      "\n",
      "  0     0    0     0    0     0      0      0 --:--:-- --:--:-- --:--:--     0\n",
      "100   746  100   746    0     0    746      0  0:00:01 --:--:--  0:00:01  6844\n",
      "  % Total    % Received % Xferd  Average Speed   Time    Time     Time  Current\n",
      "                                 Dload  Upload   Total   Spent    Left  Speed\n",
      "\n",
      "  0     0    0     0    0     0      0      0 --:--:-- --:--:-- --:--:--     0\n",
      "  0     0    0     0    0     0      0      0 --:--:-- --:--:-- --:--:--     0\n",
      "100   323  100   323    0     0    323      0  0:00:01 --:--:--  0:00:01  2936\n"
     ]
    }
   ],
   "source": [
    "PREFIX= \"https://raw.githubusercontent.com/alexeygrigorev/mlbookcamp-code/master/course-zoomcamp/05-deployment/homework\"\n",
    "!curl $PREFIX/model1.bin --output model1.bin\n",
    "!curl $PREFIX/dv.bin --output dv.bin"
   ]
  },
  {
   "cell_type": "code",
   "execution_count": 12,
   "id": "df5a4b74-0f97-4fe7-a6c1-76b1c57d2133",
   "metadata": {},
   "outputs": [],
   "source": [
    "model_file = 'model1.bin'\n",
    "dv_file = 'dv.bin'"
   ]
  },
  {
   "cell_type": "code",
   "execution_count": 13,
   "id": "3140756b-3c87-4567-a46b-3ae310ac2f6f",
   "metadata": {},
   "outputs": [
    {
     "name": "stderr",
     "output_type": "stream",
     "text": [
      "C:\\Users\\Luke Luo\\anaconda3\\lib\\site-packages\\sklearn\\base.py:310: UserWarning: Trying to unpickle estimator DictVectorizer from version 1.0 when using version 0.24.1. This might lead to breaking code or invalid results. Use at your own risk.\n",
      "  warnings.warn(\n"
     ]
    }
   ],
   "source": [
    "with open(model_file, 'rb') as f_in:\n",
    "    model = pickle.load(f_in)\n",
    "with open(dv_file, 'rb') as f_in:\n",
    "    dv = pickle.load(f_in)"
   ]
  },
  {
   "cell_type": "code",
   "execution_count": 14,
   "id": "2c425db1-99b5-42ea-8ff4-79fe6039c1c5",
   "metadata": {},
   "outputs": [],
   "source": [
    "customer = {\"contract\": \"two_year\", \"tenure\": 12, \"monthlycharges\": 19.7}"
   ]
  },
  {
   "cell_type": "code",
   "execution_count": 16,
   "id": "b4cb781e-cb80-4a34-9a9b-4cb44d453094",
   "metadata": {},
   "outputs": [
    {
     "data": {
      "text/plain": [
       "0.11549580587832894"
      ]
     },
     "execution_count": 16,
     "metadata": {},
     "output_type": "execute_result"
    }
   ],
   "source": [
    "X = dv.transform([customer])\n",
    "y_pred = model.predict_proba(X)[0, 1]\n",
    "y_pred"
   ]
  },
  {
   "cell_type": "code",
   "execution_count": null,
   "id": "aac7894a-b5cf-4151-a234-ba2396c73deb",
   "metadata": {},
   "outputs": [],
   "source": []
  }
 ],
 "metadata": {
  "kernelspec": {
   "display_name": "Python 3",
   "language": "python",
   "name": "python3"
  },
  "language_info": {
   "codemirror_mode": {
    "name": "ipython",
    "version": 3
   },
   "file_extension": ".py",
   "mimetype": "text/x-python",
   "name": "python",
   "nbconvert_exporter": "python",
   "pygments_lexer": "ipython3",
   "version": "3.8.8"
  }
 },
 "nbformat": 4,
 "nbformat_minor": 5
}

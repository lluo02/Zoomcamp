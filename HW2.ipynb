{
 "cells": [
  {
   "cell_type": "code",
   "execution_count": 1,
   "id": "95fec44c-bfa4-4b96-ab5d-142637dbe1b8",
   "metadata": {},
   "outputs": [],
   "source": [
    "import numpy as np\n",
    "import pandas as pd\n",
    "\n",
    "from matplotlib import pyplot as plt\n",
    "import seaborn as sns\n",
    "\n",
    "%matplotlib inline"
   ]
  },
  {
   "cell_type": "code",
   "execution_count": 2,
   "id": "e2093c8d-c895-4cf3-8f59-9559abe196d4",
   "metadata": {},
   "outputs": [],
   "source": [
    "data = 'https://raw.githubusercontent.com/alexeygrigorev/datasets/master/AB_NYC_2019.csv'"
   ]
  },
  {
   "cell_type": "code",
   "execution_count": 12,
   "id": "c4d08775-697f-4398-9872-477c75ae951d",
   "metadata": {},
   "outputs": [],
   "source": [
    "df = pd.read_csv('AirBnB.csv')"
   ]
  },
  {
   "cell_type": "code",
   "execution_count": 11,
   "id": "fb0c166a-8042-4f8f-93c6-20a7ccd9d0e8",
   "metadata": {},
   "outputs": [
    {
     "data": {
      "text/plain": [
       "<AxesSubplot:xlabel='price', ylabel='Count'>"
      ]
     },
     "execution_count": 11,
     "metadata": {},
     "output_type": "execute_result"
    },
    {
     "data": {
      "image/png": "[encoded data removed]",
      "text/plain": [
       "<Figure size 432x288 with 1 Axes>"
      ]
     },
     "metadata": {
      "needs_background": "light"
     },
     "output_type": "display_data"
    }
   ],
   "source": [
    "# EDA\n",
    "sns.histplot(df['price'], bins=50)"
   ]
  },
  {
   "cell_type": "code",
   "execution_count": 14,
   "id": "0269d547-ba94-4ccd-a5ae-2b49f4d860fe",
   "metadata": {},
   "outputs": [
    {
     "data": {
      "text/html": [
       "<div>\n",
       "<style scoped>\n",
       "    .dataframe tbody tr th:only-of-type {\n",
       "        vertical-align: middle;\n",
       "    }\n",
       "\n",
       "    .dataframe tbody tr th {\n",
       "        vertical-align: top;\n",
       "    }\n",
       "\n",
       "    .dataframe thead th {\n",
       "        text-align: right;\n",
       "    }\n",
       "</style>\n",
       "<table border=\"1\" class=\"dataframe\">\n",
       "  <thead>\n",
       "    <tr style=\"text-align: right;\">\n",
       "      <th></th>\n",
       "      <th>latitude</th>\n",
       "      <th>longitude</th>\n",
       "      <th>price</th>\n",
       "      <th>minimum_nights</th>\n",
       "      <th>number_of_reviews</th>\n",
       "      <th>reviews_per_month</th>\n",
       "      <th>calculated_host_listings_count</th>\n",
       "      <th>availability_365</th>\n",
       "    </tr>\n",
       "  </thead>\n",
       "  <tbody>\n",
       "    <tr>\n",
       "      <th>0</th>\n",
       "      <td>40.64749</td>\n",
       "      <td>-73.97237</td>\n",
       "      <td>149</td>\n",
       "      <td>1</td>\n",
       "      <td>9</td>\n",
       "      <td>0.21</td>\n",
       "      <td>6</td>\n",
       "      <td>365</td>\n",
       "    </tr>\n",
       "    <tr>\n",
       "      <th>1</th>\n",
       "      <td>40.75362</td>\n",
       "      <td>-73.98377</td>\n",
       "      <td>225</td>\n",
       "      <td>1</td>\n",
       "      <td>45</td>\n",
       "      <td>0.38</td>\n",
       "      <td>2</td>\n",
       "      <td>355</td>\n",
       "    </tr>\n",
       "    <tr>\n",
       "      <th>2</th>\n",
       "      <td>40.80902</td>\n",
       "      <td>-73.94190</td>\n",
       "      <td>150</td>\n",
       "      <td>3</td>\n",
       "      <td>0</td>\n",
       "      <td>NaN</td>\n",
       "      <td>1</td>\n",
       "      <td>365</td>\n",
       "    </tr>\n",
       "    <tr>\n",
       "      <th>3</th>\n",
       "      <td>40.68514</td>\n",
       "      <td>-73.95976</td>\n",
       "      <td>89</td>\n",
       "      <td>1</td>\n",
       "      <td>270</td>\n",
       "      <td>4.64</td>\n",
       "      <td>1</td>\n",
       "      <td>194</td>\n",
       "    </tr>\n",
       "    <tr>\n",
       "      <th>4</th>\n",
       "      <td>40.79851</td>\n",
       "      <td>-73.94399</td>\n",
       "      <td>80</td>\n",
       "      <td>10</td>\n",
       "      <td>9</td>\n",
       "      <td>0.10</td>\n",
       "      <td>1</td>\n",
       "      <td>0</td>\n",
       "    </tr>\n",
       "  </tbody>\n",
       "</table>\n",
       "</div>"
      ],
      "text/plain": [
       "   latitude  longitude  price  minimum_nights  number_of_reviews  \\\n",
       "0  40.64749  -73.97237    149               1                  9   \n",
       "1  40.75362  -73.98377    225               1                 45   \n",
       "2  40.80902  -73.94190    150               3                  0   \n",
       "3  40.68514  -73.95976     89               1                270   \n",
       "4  40.79851  -73.94399     80              10                  9   \n",
       "\n",
       "   reviews_per_month  calculated_host_listings_count  availability_365  \n",
       "0               0.21                               6               365  \n",
       "1               0.38                               2               355  \n",
       "2                NaN                               1               365  \n",
       "3               4.64                               1               194  \n",
       "4               0.10                               1                 0  "
      ]
     },
     "execution_count": 14,
     "metadata": {},
     "output_type": "execute_result"
    }
   ],
   "source": [
    "columns = ['latitude', 'longitude', 'price', 'minimum_nights', 'number_of_reviews', 'reviews_per_month', 'calculated_host_listings_count', 'availability_365']\n",
    "\n",
    "df = df[columns]\n",
    "df.head()"
   ]
  },
  {
   "cell_type": "code",
   "execution_count": 16,
   "id": "13cfc755-41d8-421b-a4f7-26a236d0a829",
   "metadata": {},
   "outputs": [
    {
     "data": {
      "text/plain": [
       "latitude                              0\n",
       "longitude                             0\n",
       "price                                 0\n",
       "minimum_nights                        0\n",
       "number_of_reviews                     0\n",
       "reviews_per_month                 10052\n",
       "calculated_host_listings_count        0\n",
       "availability_365                      0\n",
       "dtype: int64"
      ]
     },
     "execution_count": 16,
     "metadata": {},
     "output_type": "execute_result"
    }
   ],
   "source": [
    "df.isnull().sum()"
   ]
  },
  {
   "cell_type": "code",
   "execution_count": 18,
   "id": "d1d59bcc-307c-4da0-a0b7-2f03ef60e0d8",
   "metadata": {},
   "outputs": [
    {
     "data": {
      "text/plain": [
       "3.0"
      ]
     },
     "execution_count": 18,
     "metadata": {},
     "output_type": "execute_result"
    }
   ],
   "source": [
    "df['minimum_nights'].median()"
   ]
  },
  {
   "cell_type": "markdown",
   "id": "61db8b20-f8e6-4d62-9841-c9bef97c2584",
   "metadata": {},
   "source": [
    "### Split the data\n",
    "### Shuffle the initial dataset, use seed 42.\n",
    "### Split your data in train/val/test sets, with 60%/20%/20% distribution.\n",
    "### Make sure that the target value ('price') is not in your dataframe.\n",
    "### Apply the log transformation to the price variable using the np.log1p() function."
   ]
  },
  {
   "cell_type": "code",
   "execution_count": 54,
   "id": "651afa73-551d-4d96-aaf1-9fa2e58b1b26",
   "metadata": {},
   "outputs": [],
   "source": [
    "n = len(df)\n",
    "n_val = int(n * 0.2)\n",
    "n_test = int(n * 0.2)\n",
    "n_train = n - n_val - n_test\n",
    "\n",
    "idx = np.arange(n)\n",
    "np.random.seed(42)\n",
    "np.random.shuffle(idx)\n",
    "\n",
    "df_train = df.iloc[idx[:n_train]]\n",
    "df_val = df.iloc[idx[n_train:n_train+n_val]]\n",
    "df_test = df.iloc[idx[n_train+n_val:]]\n",
    "\n",
    "df_train = df_train.reset_index(drop=True)\n",
    "df_val = df_val.reset_index(drop=True)\n",
    "df_test = df_test.reset_index(drop=True)\n",
    "\n",
    "y_train = np.log1p(df_train.price.values)\n",
    "y_val = np.log1p(df_val.price.values)\n",
    "y_test = np.log1p(df_test.price.values)\n",
    "\n",
    "del df_train['price']\n",
    "del df_val['price']\n",
    "del df_test['price']"
   ]
  },
  {
   "cell_type": "markdown",
   "id": "3cd0af93-6839-4974-bec8-5e746d53f6b4",
   "metadata": {},
   "source": [
    "### Question 3\n",
    "### We need to deal with missing values for the column from Q1.\n",
    "### We have two options: fill it with 0 or with the mean of this variable.\n",
    "### Try both options. For each, train a linear regression model without regularization using the code from the lessons.\n",
    "### For computing the mean, use the training only!\n",
    "### Use the validation dataset to evaluate the models and compare the RMSE of each option.\n",
    "### Round the RMSE scores to 2 decimal digits using round(score, 2)\n",
    "### Which option gives better RMSE?"
   ]
  },
  {
   "cell_type": "code",
   "execution_count": 55,
   "id": "cfea4080-37bf-4349-a57e-ec2d9d543e7a",
   "metadata": {},
   "outputs": [],
   "source": [
    "def train_lin_reg(X, y):\n",
    "    ones = np.ones(X.shape[0])\n",
    "    X = np.column_stack([ones, X])\n",
    "    \n",
    "    XTX = X.T.dot(X)\n",
    "    XTX_inv = np.linalg.inv(XTX)\n",
    "    w_full = XTX_inv.dot(X.T).dot(y)\n",
    "    \n",
    "    return w_full[0], w_full[1:]\n",
    "\n",
    "def rmse(y, y_pred):\n",
    "    se = (y-y_pred) ** 2\n",
    "    mse = se.mean()\n",
    "    return np.sqrt(mse)\n",
    "\n",
    "base = ['latitude', 'longitude', 'minimum_nights', 'number_of_reviews', 'reviews_per_month', 'calculated_host_listings_count', 'availability_365']\n"
   ]
  },
  {
   "cell_type": "code",
   "execution_count": 56,
   "id": "9a235bd7-ac9f-492b-aaa4-2d3165c418fd",
   "metadata": {},
   "outputs": [
    {
     "name": "stdout",
     "output_type": "stream",
     "text": [
      "0.64\n"
     ]
    }
   ],
   "source": [
    "# Replace with 0\n",
    "# Train\n",
    "X_train_0 = df_train[base].fillna(0).values\n",
    "w0, w = train_lin_reg(X_train_0, y_train)\n",
    "# Validate\n",
    "X_val_0 = df_val[base].fillna(0).values\n",
    "y_pred = w0 + X_val_0.dot(w)\n",
    "score = rmse(y_val, y_pred)\n",
    "print(round(score, 2))"
   ]
  },
  {
   "cell_type": "code",
   "execution_count": 57,
   "id": "6d5e49c5-f523-4455-9e21-6f7fb32a9704",
   "metadata": {},
   "outputs": [
    {
     "name": "stdout",
     "output_type": "stream",
     "text": [
      "0.64\n"
     ]
    }
   ],
   "source": [
    "# Replace with mean\n",
    "# Train\n",
    "X_train_mean = df_train[base].fillna(df_train['reviews_per_month'].mean()).values\n",
    "w0, w = train_lin_reg(X_train_mean, y_train)\n",
    "# Validate\n",
    "X_val_mean = df_val[base].fillna(df_train['reviews_per_month'].mean()).values\n",
    "y_pred = w0 + X_val_mean.dot(w)\n",
    "score = rmse(y_val, y_pred)\n",
    "print(round(score, 2))"
   ]
  },
  {
   "cell_type": "code",
   "execution_count": 58,
   "id": "51038695-f94f-428a-a1d2-fb237bcc653f",
   "metadata": {},
   "outputs": [
    {
     "data": {
      "text/plain": [
       "latitude                           40.729226\n",
       "longitude                         -73.951838\n",
       "minimum_nights                      6.989740\n",
       "number_of_reviews                  23.312336\n",
       "reviews_per_month                   1.368549\n",
       "calculated_host_listings_count      7.125166\n",
       "availability_365                  112.825988\n",
       "dtype: float64"
      ]
     },
     "execution_count": 58,
     "metadata": {},
     "output_type": "execute_result"
    }
   ],
   "source": [
    "df_train.mean()"
   ]
  },
  {
   "cell_type": "markdown",
   "id": "65ca476d-acb4-4687-89bc-75c1b0c05863",
   "metadata": {},
   "source": [
    "Question 4\n",
    "* Now let's train a regularized linear regression.\n",
    "* For this question, fill the NAs with 0.\n",
    "* Try different values of r from this list: [0, 0.000001, 0.0001, 0.001, 0.01, 0.1, 1, 5, 10].\n",
    "* Use RMSE to evaluate the model on the validation dataset.\n",
    "* Round the RMSE scores to 2 decimal digits.\n",
    "* Which r gives the best RMSE?\n",
    "* If there are multiple options, select the smallest r."
   ]
  },
  {
   "cell_type": "code",
   "execution_count": 59,
   "id": "e9cbbafd-731e-46b2-8d21-369c5bbfc412",
   "metadata": {},
   "outputs": [],
   "source": [
    "def train_lin_reg(X, y, r=0.001):\n",
    "    ones = np.ones(X.shape[0])\n",
    "    X = np.column_stack([ones, X])\n",
    "    \n",
    "    XTX = X.T.dot(X)\n",
    "    XTX = XTX + r * np.eye(XTX.shape[0])\n",
    "    \n",
    "    XTX_inv = np.linalg.inv(XTX)\n",
    "    w_full = XTX_inv.dot(X.T).dot(y)\n",
    "    \n",
    "    return w_full[0], w_full[1:]"
   ]
  },
  {
   "cell_type": "code",
   "execution_count": 60,
   "id": "8eb652bd-3776-4bdd-b7be-62e97f8d141b",
   "metadata": {},
   "outputs": [
    {
     "name": "stdout",
     "output_type": "stream",
     "text": [
      "0.0 -419.9126602782961 0.64\n",
      "1e-06 -419.8627175018098 0.64\n",
      "0.0001 -414.97649420185604 0.64\n",
      "0.001 -375.2736539367924 0.64\n",
      "0.01 -191.78384091255427 0.66\n",
      "0.1 -32.56256056402253 0.68\n",
      "1 -3.4992168400821244 0.68\n",
      "5 -0.7033623161458142 0.68\n",
      "10 -0.35127675971367145 0.68\n"
     ]
    }
   ],
   "source": [
    "for R in [0.0, 0.000001, 0.0001, 0.001, 0.01, 0.1, 1, 5, 10]:\n",
    "    # Training part\n",
    "    X_train = df_train[base].fillna(0).values\n",
    "    w0, w = train_lin_reg(X_train, y_train, r=R)\n",
    "\n",
    "    # Validation part\n",
    "    X_val = df_val[base].fillna(0).values\n",
    "    y_pred = w0 + X_val.dot(w)\n",
    "    score = rmse(y_val, y_pred)\n",
    "    print(R, w0, round(score, 2))"
   ]
  },
  {
   "cell_type": "markdown",
   "id": "c71d25c1-d30a-474e-b23b-b5c87257c70d",
   "metadata": {},
   "source": [
    "Question 5\n",
    "* We used seed 42 for splitting the data. Let's find out how selecting the seed influences our score.\n",
    "* Try different seed values: [0, 1, 2, 3, 4, 5, 6, 7, 8, 9].\n",
    "* For each seed, do the train/validation/test split with 60%/20%/20% distribution.\n",
    "* Fill the missing values with 0 and train a model without regularization.\n",
    "* For each seed, evaluate the model on the validation dataset and collect the RMSE scores.\n",
    "* What's the standard deviation of all the scores? To compute the standard deviation, use np.std.\n",
    "* Round the result to 3 decimal digits (round(std, 3))"
   ]
  },
  {
   "cell_type": "code",
   "execution_count": 61,
   "id": "ff7d96d9-d16f-4ffa-b180-5b77aa18e4f3",
   "metadata": {},
   "outputs": [
    {
     "name": "stdout",
     "output_type": "stream",
     "text": [
      "0 0.65\n",
      "1 0.65\n",
      "2 0.65\n",
      "3 0.64\n",
      "4 0.64\n",
      "5 0.63\n",
      "6 0.63\n",
      "7 0.65\n",
      "8 0.65\n",
      "9 0.64\n",
      "0.008\n"
     ]
    }
   ],
   "source": [
    "def train_lin_reg(X, y):\n",
    "    ones = np.ones(X.shape[0])\n",
    "    X = np.column_stack([ones, X])\n",
    "    \n",
    "    XTX = X.T.dot(X)\n",
    "    XTX_inv = np.linalg.inv(XTX)\n",
    "    w_full = XTX_inv.dot(X.T).dot(y)\n",
    "    \n",
    "    return w_full[0], w_full[1:]\n",
    "\n",
    "scores = []\n",
    "\n",
    "for seed in [0, 1, 2, 3, 4, 5, 6, 7, 8, 9]:\n",
    "    idx = np.arange(n)\n",
    "    np.random.seed(seed)\n",
    "    np.random.shuffle(idx)\n",
    "\n",
    "    df_train = df.iloc[idx[:n_train]]\n",
    "    df_val = df.iloc[idx[n_train:n_train+n_val]]\n",
    "    df_test = df.iloc[idx[n_train+n_val:]]\n",
    "\n",
    "    df_train = df_train.reset_index(drop=True)\n",
    "    df_val = df_val.reset_index(drop=True)\n",
    "    df_test = df_test.reset_index(drop=True)\n",
    "    \n",
    "    y_train = np.log1p(df_train.price.values)\n",
    "    y_val = np.log1p(df_val.price.values)\n",
    "    y_test = np.log1p(df_test.price.values)\n",
    "\n",
    "    del df_train['price']\n",
    "    del df_val['price']\n",
    "    del df_test['price']\n",
    "    \n",
    "    # Replace with 0\n",
    "    # Train\n",
    "    X_train_0 = df_train[base].fillna(0).values\n",
    "    w0, w = train_lin_reg(X_train_0, y_train)\n",
    "    # Validate\n",
    "    X_val_0 = df_val[base].fillna(0).values\n",
    "    y_pred = w0 + X_val_0.dot(w)\n",
    "    score = rmse(y_val, y_pred)\n",
    "    print(seed, round(score, 2))\n",
    "    scores.append(round(score, 2))\n",
    "    \n",
    "print(round(np.std(scores), 3))"
   ]
  },
  {
   "cell_type": "markdown",
   "id": "32480891-23e8-47ce-b678-7fbc0868f2ee",
   "metadata": {},
   "source": [
    "Question 6\n",
    "* Split the dataset like previously, use seed 9.\n",
    "* Combine train and validation datasets.\n",
    "* Fill the missing values with 0 and train a model with r=0.001.\n",
    "* What's the RMSE on the test dataset?"
   ]
  },
  {
   "cell_type": "code",
   "execution_count": 63,
   "id": "b0d0fac6-504b-43c4-b2e5-5eb0946c2ec8",
   "metadata": {},
   "outputs": [
    {
     "data": {
      "text/plain": [
       "0.6452771348323516"
      ]
     },
     "execution_count": 63,
     "metadata": {},
     "output_type": "execute_result"
    }
   ],
   "source": [
    "def train_lin_reg(X, y, r=0.001):\n",
    "    ones = np.ones(X.shape[0])\n",
    "    X = np.column_stack([ones, X])\n",
    "    \n",
    "    XTX = X.T.dot(X)\n",
    "    XTX = XTX + r * np.eye(XTX.shape[0])\n",
    "    \n",
    "    XTX_inv = np.linalg.inv(XTX)\n",
    "    w_full = XTX_inv.dot(X.T).dot(y)\n",
    "    \n",
    "    return w_full[0], w_full[1:]\n",
    "\n",
    "idx = np.arange(n)\n",
    "np.random.seed(9)\n",
    "np.random.shuffle(idx)\n",
    "\n",
    "df_train = df.iloc[idx[:n_train]]\n",
    "df_val = df.iloc[idx[n_train:n_train+n_val]]\n",
    "df_test = df.iloc[idx[n_train+n_val:]]\n",
    "\n",
    "df_train = df_train.reset_index(drop=True)\n",
    "df_val = df_val.reset_index(drop=True)\n",
    "df_test = df_test.reset_index(drop=True)\n",
    "\n",
    "y_train = np.log1p(df_train.price.values)\n",
    "y_val = np.log1p(df_val.price.values)\n",
    "y_test = np.log1p(df_test.price.values)\n",
    "\n",
    "del df_train['price']\n",
    "del df_val['price']\n",
    "del df_test['price']\n",
    "\n",
    "df_full_train = pd.concat([df_train, df_val])\n",
    "df_full_train = df_full_train.reset_index(drop=True)\n",
    "X_full_train = df_full_train[base].fillna(0).values\n",
    "y_full_train = np.concatenate([y_train, y_val])\n",
    "w0, w = train_lin_reg(X_full_train, y_full_train, r=0.001)\n",
    "\n",
    "X_test = df_test[base].fillna(0).values\n",
    "y_pred = w0 + X_test.dot(w)\n",
    "score = rmse(y_test, y_pred)\n",
    "score\n",
    "\n",
    "    \n"
   ]
  },
  {
   "cell_type": "code",
   "execution_count": null,
   "id": "60c23147-6a4f-4715-9749-10fb0d160920",
   "metadata": {},
   "outputs": [],
   "source": []
  }
 ],
 "metadata": {
  "kernelspec": {
   "display_name": "Python 3",
   "language": "python",
   "name": "python3"
  },
  "language_info": {
   "codemirror_mode": {
    "name": "ipython",
    "version": 3
   },
   "file_extension": ".py",
   "mimetype": "text/x-python",
   "name": "python",
   "nbconvert_exporter": "python",
   "pygments_lexer": "ipython3",
   "version": "3.8.8"
  }
 },
 "nbformat": 4,
 "nbformat_minor": 5
}

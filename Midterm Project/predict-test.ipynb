{
 "cells": [
  {
   "cell_type": "code",
   "execution_count": 1,
   "id": "10659a21-2a81-4f7d-ad58-5c4e47c20c0d",
   "metadata": {},
   "outputs": [
    {
     "data": {
      "application/javascript": [
       "IPython.notebook.set_autosave_interval(0)"
      ]
     },
     "metadata": {},
     "output_type": "display_data"
    },
    {
     "name": "stdout",
     "output_type": "stream",
     "text": [
      "Autosave disabled\n"
     ]
    }
   ],
   "source": [
    "%autosave 0"
   ]
  },
  {
   "cell_type": "code",
   "execution_count": 14,
   "id": "f6932ff7-e740-4dee-b889-fecef5dc0aab",
   "metadata": {},
   "outputs": [],
   "source": [
    "import requests\n",
    "import pandas as pd"
   ]
  },
  {
   "cell_type": "code",
   "execution_count": 3,
   "id": "221a1631-e83e-435c-a8e7-dd70d51f0087",
   "metadata": {},
   "outputs": [],
   "source": [
    "url = 'http://localhost:9696/predict'"
   ]
  },
  {
   "cell_type": "code",
   "execution_count": 5,
   "id": "db710df2-957a-413a-96eb-87024cd44d57",
   "metadata": {},
   "outputs": [],
   "source": [
    "enrollee = {\n",
    "    \"enrollee_id\": 11674,\n",
    "    \"city\": \"city_83\",\n",
    "    \"city_development_index\": 0.923,\n",
    "    \"gender\": \"male\",\n",
    "    \"relevent_experience\": \"has_relevent_experience\",\n",
    "    \"enrolled_university\": \"no_enrollment\",\n",
    "    \"education_level\": \"masters\",\n",
    "    \"major_discipline\": \"stem\",\n",
    "    \"experience\": \"12\",\n",
    "    \"company_size\": \"1000-4999\",\n",
    "    \"company_type\": \"pvt_ltd\",\n",
    "    \"last_new_job\": \"2\",\n",
    "    \"training_hours\": 18\n",
    "}"
   ]
  },
  {
   "cell_type": "code",
   "execution_count": 23,
   "id": "9b878c2d-4bfd-4ac0-b739-082ab7bd131e",
   "metadata": {},
   "outputs": [],
   "source": [
    "df = pd.read_csv('aug_test.csv')\n",
    "categorical_columns = [\n",
    "    'city',\n",
    "    'gender',\n",
    "    'relevent_experience',\n",
    "    'enrolled_university',\n",
    "    'education_level',\n",
    "    'major_discipline',\n",
    "    'experience',\n",
    "    'company_size',\n",
    "    'company_type',\n",
    "    'last_new_job',\n",
    "]\n",
    "\n",
    "numerical = [\n",
    "    'city_development_index',\n",
    "    'training_hours'\n",
    "]\n",
    "\n",
    "for c in categorical_columns:\n",
    "    df[c] = df[c].str.lower().str.replace(' ', '_')\n",
    "df['company_size'] = df['company_size'].str.replace('<10', '0')\n",
    "df['experience'] = df['experience'].str.replace('<1', '0')\n",
    "test = df.iloc[2].fillna(0).to_dict()"
   ]
  },
  {
   "cell_type": "code",
   "execution_count": 21,
   "id": "a95b2c29-7a47-4aae-a29c-5a08a2048b20",
   "metadata": {},
   "outputs": [
    {
     "data": {
      "text/plain": [
       "{'target': False, 'target_probability': 0.20765447616577148}"
      ]
     },
     "execution_count": 21,
     "metadata": {},
     "output_type": "execute_result"
    }
   ],
   "source": [
    "response = requests.post(url, json=enrollee).json()\n",
    "response"
   ]
  },
  {
   "cell_type": "code",
   "execution_count": 24,
   "id": "912b5bef-953e-428f-871a-2af77c01c0a1",
   "metadata": {},
   "outputs": [
    {
     "data": {
      "text/plain": [
       "{'enrollee_id': 31806,\n",
       " 'city': 'city_21',\n",
       " 'city_development_index': 0.624,\n",
       " 'gender': 'male',\n",
       " 'relevent_experience': 'no_relevent_experience',\n",
       " 'enrolled_university': 'no_enrollment',\n",
       " 'education_level': 'high_school',\n",
       " 'major_discipline': 0,\n",
       " 'experience': '0',\n",
       " 'company_size': 0,\n",
       " 'company_type': 'pvt_ltd',\n",
       " 'last_new_job': 'never',\n",
       " 'training_hours': 15}"
      ]
     },
     "execution_count": 24,
     "metadata": {},
     "output_type": "execute_result"
    }
   ],
   "source": [
    "test"
   ]
  },
  {
   "cell_type": "code",
   "execution_count": 26,
   "id": "de58e30e-7fb1-41d7-8ec3-87bc7cdcd192",
   "metadata": {},
   "outputs": [],
   "source": [
    "test = {'enrollee_id': 31806,\n",
    " 'city': 'city_21',\n",
    " 'city_development_index': 0.624,\n",
    " 'gender': 'male',\n",
    " 'relevent_experience': 'no_relevent_experience',\n",
    " 'enrolled_university': 'no_enrollment',\n",
    " 'education_level': 'high_school',\n",
    " 'major_discipline': 0,\n",
    " 'experience': '0',\n",
    " 'company_size': 0,\n",
    " 'company_type': 'pvt_ltd',\n",
    " 'last_new_job': 'never',\n",
    " 'training_hours': 15}"
   ]
  },
  {
   "cell_type": "code",
   "execution_count": 27,
   "id": "13eaaad8-0882-4e10-ae56-84bc1ac9fba3",
   "metadata": {},
   "outputs": [
    {
     "data": {
      "text/plain": [
       "{'target': True, 'target_probability': 0.7562177777290344}"
      ]
     },
     "execution_count": 27,
     "metadata": {},
     "output_type": "execute_result"
    }
   ],
   "source": [
    "response = requests.post(url, json=test).json()\n",
    "response"
   ]
  },
  {
   "cell_type": "code",
   "execution_count": null,
   "id": "c81708b5-3cbc-4f9b-96dd-2b299149316f",
   "metadata": {},
   "outputs": [],
   "source": []
  }
 ],
 "metadata": {
  "kernelspec": {
   "display_name": "Python 3",
   "language": "python",
   "name": "python3"
  },
  "language_info": {
   "codemirror_mode": {
    "name": "ipython",
    "version": 3
   },
   "file_extension": ".py",
   "mimetype": "text/x-python",
   "name": "python",
   "nbconvert_exporter": "python",
   "pygments_lexer": "ipython3",
   "version": "3.8.8"
  }
 },
 "nbformat": 4,
 "nbformat_minor": 5
}

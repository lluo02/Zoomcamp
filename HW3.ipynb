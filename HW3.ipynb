{
 "cells": [
  {
   "cell_type": "code",
   "execution_count": 1,
   "id": "df33ac7e-684e-4b30-902d-6a0df90b5438",
   "metadata": {},
   "outputs": [],
   "source": [
    "import numpy as np\n",
    "import pandas as pd"
   ]
  },
  {
   "cell_type": "code",
   "execution_count": 2,
   "id": "66987230-cebf-4657-9b89-94d5110f2bd0",
   "metadata": {},
   "outputs": [],
   "source": [
    "df = pd.read_csv('AirBnB.csv')"
   ]
  },
  {
   "cell_type": "code",
   "execution_count": 3,
   "id": "75dbc650-777a-4efe-ab3f-6b992f497084",
   "metadata": {},
   "outputs": [
    {
     "data": {
      "text/html": [
       "<div>\n",
       "<style scoped>\n",
       "    .dataframe tbody tr th:only-of-type {\n",
       "        vertical-align: middle;\n",
       "    }\n",
       "\n",
       "    .dataframe tbody tr th {\n",
       "        vertical-align: top;\n",
       "    }\n",
       "\n",
       "    .dataframe thead th {\n",
       "        text-align: right;\n",
       "    }\n",
       "</style>\n",
       "<table border=\"1\" class=\"dataframe\">\n",
       "  <thead>\n",
       "    <tr style=\"text-align: right;\">\n",
       "      <th></th>\n",
       "      <th>neighbourhood_group</th>\n",
       "      <th>room_type</th>\n",
       "      <th>latitude</th>\n",
       "      <th>longitude</th>\n",
       "      <th>price</th>\n",
       "      <th>minimum_nights</th>\n",
       "      <th>number_of_reviews</th>\n",
       "      <th>reviews_per_month</th>\n",
       "      <th>calculated_host_listings_count</th>\n",
       "      <th>availability_365</th>\n",
       "    </tr>\n",
       "  </thead>\n",
       "  <tbody>\n",
       "    <tr>\n",
       "      <th>0</th>\n",
       "      <td>Brooklyn</td>\n",
       "      <td>Private room</td>\n",
       "      <td>40.64749</td>\n",
       "      <td>-73.97237</td>\n",
       "      <td>149</td>\n",
       "      <td>1</td>\n",
       "      <td>9</td>\n",
       "      <td>0.21</td>\n",
       "      <td>6</td>\n",
       "      <td>365</td>\n",
       "    </tr>\n",
       "    <tr>\n",
       "      <th>1</th>\n",
       "      <td>Manhattan</td>\n",
       "      <td>Entire home/apt</td>\n",
       "      <td>40.75362</td>\n",
       "      <td>-73.98377</td>\n",
       "      <td>225</td>\n",
       "      <td>1</td>\n",
       "      <td>45</td>\n",
       "      <td>0.38</td>\n",
       "      <td>2</td>\n",
       "      <td>355</td>\n",
       "    </tr>\n",
       "    <tr>\n",
       "      <th>2</th>\n",
       "      <td>Manhattan</td>\n",
       "      <td>Private room</td>\n",
       "      <td>40.80902</td>\n",
       "      <td>-73.94190</td>\n",
       "      <td>150</td>\n",
       "      <td>3</td>\n",
       "      <td>0</td>\n",
       "      <td>0.00</td>\n",
       "      <td>1</td>\n",
       "      <td>365</td>\n",
       "    </tr>\n",
       "    <tr>\n",
       "      <th>3</th>\n",
       "      <td>Brooklyn</td>\n",
       "      <td>Entire home/apt</td>\n",
       "      <td>40.68514</td>\n",
       "      <td>-73.95976</td>\n",
       "      <td>89</td>\n",
       "      <td>1</td>\n",
       "      <td>270</td>\n",
       "      <td>4.64</td>\n",
       "      <td>1</td>\n",
       "      <td>194</td>\n",
       "    </tr>\n",
       "    <tr>\n",
       "      <th>4</th>\n",
       "      <td>Manhattan</td>\n",
       "      <td>Entire home/apt</td>\n",
       "      <td>40.79851</td>\n",
       "      <td>-73.94399</td>\n",
       "      <td>80</td>\n",
       "      <td>10</td>\n",
       "      <td>9</td>\n",
       "      <td>0.10</td>\n",
       "      <td>1</td>\n",
       "      <td>0</td>\n",
       "    </tr>\n",
       "  </tbody>\n",
       "</table>\n",
       "</div>"
      ],
      "text/plain": [
       "  neighbourhood_group        room_type  latitude  longitude  price  \\\n",
       "0            Brooklyn     Private room  40.64749  -73.97237    149   \n",
       "1           Manhattan  Entire home/apt  40.75362  -73.98377    225   \n",
       "2           Manhattan     Private room  40.80902  -73.94190    150   \n",
       "3            Brooklyn  Entire home/apt  40.68514  -73.95976     89   \n",
       "4           Manhattan  Entire home/apt  40.79851  -73.94399     80   \n",
       "\n",
       "   minimum_nights  number_of_reviews  reviews_per_month  \\\n",
       "0               1                  9               0.21   \n",
       "1               1                 45               0.38   \n",
       "2               3                  0               0.00   \n",
       "3               1                270               4.64   \n",
       "4              10                  9               0.10   \n",
       "\n",
       "   calculated_host_listings_count  availability_365  \n",
       "0                               6               365  \n",
       "1                               2               355  \n",
       "2                               1               365  \n",
       "3                               1               194  \n",
       "4                               1                 0  "
      ]
     },
     "execution_count": 3,
     "metadata": {},
     "output_type": "execute_result"
    }
   ],
   "source": [
    "columns = ['neighbourhood_group', 'room_type','latitude', 'longitude', 'price', 'minimum_nights', 'number_of_reviews', 'reviews_per_month', 'calculated_host_listings_count', 'availability_365']\n",
    "\n",
    "df = df[columns].fillna(0)\n",
    "df.head()"
   ]
  },
  {
   "cell_type": "code",
   "execution_count": 4,
   "id": "a5ecb503-6f49-4a15-8d12-96fbc25cf0e0",
   "metadata": {},
   "outputs": [
    {
     "data": {
      "text/plain": [
       "0    Manhattan\n",
       "dtype: object"
      ]
     },
     "execution_count": 4,
     "metadata": {},
     "output_type": "execute_result"
    }
   ],
   "source": [
    "df['neighbourhood_group'].mode()"
   ]
  },
  {
   "cell_type": "code",
   "execution_count": 5,
   "id": "2454c9cd-53a9-4352-801c-5ed273e0fd88",
   "metadata": {},
   "outputs": [],
   "source": [
    "categorical = ['neighbourhood_group', 'room_type']\n",
    "df.columns = df.columns.str.lower().str.replace(' ', '_')\n",
    "categorical_columns = list(df.dtypes[df.dtypes == 'object'].index)\n",
    "\n",
    "for c in categorical_columns:\n",
    "    df[c] = df[c].str.lower().str.replace(' ', '_')"
   ]
  },
  {
   "cell_type": "code",
   "execution_count": 6,
   "id": "32d4227a-e66c-4373-b071-0a587148a500",
   "metadata": {},
   "outputs": [],
   "source": [
    "from sklearn.model_selection import train_test_split"
   ]
  },
  {
   "cell_type": "code",
   "execution_count": 7,
   "id": "c9ad3fba-49d8-4ebd-9997-62c3b3abbce8",
   "metadata": {},
   "outputs": [],
   "source": [
    "# Split the data w/ seed 42\n",
    "np.random.seed(42)\n",
    "df_full_train, df_test = train_test_split(df, test_size = 0.2, random_state = 1)\n",
    "df_train, df_val = train_test_split(df_full_train, test_size = 0.25, random_state = 1)\n",
    "df_train, df_val = train_test_split(df_full_train, test_size = 0.25, random_state = 1)"
   ]
  },
  {
   "cell_type": "code",
   "execution_count": 8,
   "id": "1d3c9b81-11ff-4d80-85fa-9e92c768a38b",
   "metadata": {},
   "outputs": [
    {
     "data": {
      "text/html": [
       "<div>\n",
       "<style scoped>\n",
       "    .dataframe tbody tr th:only-of-type {\n",
       "        vertical-align: middle;\n",
       "    }\n",
       "\n",
       "    .dataframe tbody tr th {\n",
       "        vertical-align: top;\n",
       "    }\n",
       "\n",
       "    .dataframe thead th {\n",
       "        text-align: right;\n",
       "    }\n",
       "</style>\n",
       "<table border=\"1\" class=\"dataframe\">\n",
       "  <thead>\n",
       "    <tr style=\"text-align: right;\">\n",
       "      <th></th>\n",
       "      <th>neighbourhood_group</th>\n",
       "      <th>room_type</th>\n",
       "      <th>latitude</th>\n",
       "      <th>longitude</th>\n",
       "      <th>price</th>\n",
       "      <th>minimum_nights</th>\n",
       "      <th>number_of_reviews</th>\n",
       "      <th>reviews_per_month</th>\n",
       "      <th>calculated_host_listings_count</th>\n",
       "      <th>availability_365</th>\n",
       "    </tr>\n",
       "  </thead>\n",
       "  <tbody>\n",
       "    <tr>\n",
       "      <th>0</th>\n",
       "      <td>queens</td>\n",
       "      <td>private_room</td>\n",
       "      <td>40.74596</td>\n",
       "      <td>-73.87762</td>\n",
       "      <td>60</td>\n",
       "      <td>2</td>\n",
       "      <td>0</td>\n",
       "      <td>0.00</td>\n",
       "      <td>2</td>\n",
       "      <td>66</td>\n",
       "    </tr>\n",
       "    <tr>\n",
       "      <th>1</th>\n",
       "      <td>queens</td>\n",
       "      <td>entire_home/apt</td>\n",
       "      <td>40.75883</td>\n",
       "      <td>-73.92160</td>\n",
       "      <td>250</td>\n",
       "      <td>2</td>\n",
       "      <td>0</td>\n",
       "      <td>0.00</td>\n",
       "      <td>1</td>\n",
       "      <td>282</td>\n",
       "    </tr>\n",
       "    <tr>\n",
       "      <th>2</th>\n",
       "      <td>brooklyn</td>\n",
       "      <td>private_room</td>\n",
       "      <td>40.69670</td>\n",
       "      <td>-73.97477</td>\n",
       "      <td>80</td>\n",
       "      <td>1</td>\n",
       "      <td>53</td>\n",
       "      <td>2.15</td>\n",
       "      <td>1</td>\n",
       "      <td>0</td>\n",
       "    </tr>\n",
       "    <tr>\n",
       "      <th>3</th>\n",
       "      <td>brooklyn</td>\n",
       "      <td>private_room</td>\n",
       "      <td>40.72435</td>\n",
       "      <td>-73.95154</td>\n",
       "      <td>95</td>\n",
       "      <td>1</td>\n",
       "      <td>119</td>\n",
       "      <td>2.57</td>\n",
       "      <td>2</td>\n",
       "      <td>1</td>\n",
       "    </tr>\n",
       "    <tr>\n",
       "      <th>4</th>\n",
       "      <td>manhattan</td>\n",
       "      <td>entire_home/apt</td>\n",
       "      <td>40.72754</td>\n",
       "      <td>-73.98555</td>\n",
       "      <td>450</td>\n",
       "      <td>3</td>\n",
       "      <td>12</td>\n",
       "      <td>0.19</td>\n",
       "      <td>2</td>\n",
       "      <td>0</td>\n",
       "    </tr>\n",
       "    <tr>\n",
       "      <th>...</th>\n",
       "      <td>...</td>\n",
       "      <td>...</td>\n",
       "      <td>...</td>\n",
       "      <td>...</td>\n",
       "      <td>...</td>\n",
       "      <td>...</td>\n",
       "      <td>...</td>\n",
       "      <td>...</td>\n",
       "      <td>...</td>\n",
       "      <td>...</td>\n",
       "    </tr>\n",
       "    <tr>\n",
       "      <th>9774</th>\n",
       "      <td>bronx</td>\n",
       "      <td>private_room</td>\n",
       "      <td>40.85062</td>\n",
       "      <td>-73.90251</td>\n",
       "      <td>40</td>\n",
       "      <td>14</td>\n",
       "      <td>5</td>\n",
       "      <td>0.13</td>\n",
       "      <td>1</td>\n",
       "      <td>322</td>\n",
       "    </tr>\n",
       "    <tr>\n",
       "      <th>9775</th>\n",
       "      <td>brooklyn</td>\n",
       "      <td>entire_home/apt</td>\n",
       "      <td>40.70450</td>\n",
       "      <td>-73.94357</td>\n",
       "      <td>150</td>\n",
       "      <td>6</td>\n",
       "      <td>5</td>\n",
       "      <td>2.17</td>\n",
       "      <td>1</td>\n",
       "      <td>40</td>\n",
       "    </tr>\n",
       "    <tr>\n",
       "      <th>9776</th>\n",
       "      <td>brooklyn</td>\n",
       "      <td>private_room</td>\n",
       "      <td>40.65100</td>\n",
       "      <td>-73.94886</td>\n",
       "      <td>50</td>\n",
       "      <td>2</td>\n",
       "      <td>263</td>\n",
       "      <td>2.69</td>\n",
       "      <td>2</td>\n",
       "      <td>136</td>\n",
       "    </tr>\n",
       "    <tr>\n",
       "      <th>9777</th>\n",
       "      <td>brooklyn</td>\n",
       "      <td>entire_home/apt</td>\n",
       "      <td>40.68040</td>\n",
       "      <td>-73.93183</td>\n",
       "      <td>105</td>\n",
       "      <td>7</td>\n",
       "      <td>53</td>\n",
       "      <td>1.12</td>\n",
       "      <td>2</td>\n",
       "      <td>77</td>\n",
       "    </tr>\n",
       "    <tr>\n",
       "      <th>9778</th>\n",
       "      <td>queens</td>\n",
       "      <td>private_room</td>\n",
       "      <td>40.74301</td>\n",
       "      <td>-73.89458</td>\n",
       "      <td>50</td>\n",
       "      <td>30</td>\n",
       "      <td>2</td>\n",
       "      <td>0.50</td>\n",
       "      <td>103</td>\n",
       "      <td>269</td>\n",
       "    </tr>\n",
       "  </tbody>\n",
       "</table>\n",
       "<p>9779 rows × 10 columns</p>\n",
       "</div>"
      ],
      "text/plain": [
       "     neighbourhood_group        room_type  latitude  longitude  price  \\\n",
       "0                 queens     private_room  40.74596  -73.87762     60   \n",
       "1                 queens  entire_home/apt  40.75883  -73.92160    250   \n",
       "2               brooklyn     private_room  40.69670  -73.97477     80   \n",
       "3               brooklyn     private_room  40.72435  -73.95154     95   \n",
       "4              manhattan  entire_home/apt  40.72754  -73.98555    450   \n",
       "...                  ...              ...       ...        ...    ...   \n",
       "9774               bronx     private_room  40.85062  -73.90251     40   \n",
       "9775            brooklyn  entire_home/apt  40.70450  -73.94357    150   \n",
       "9776            brooklyn     private_room  40.65100  -73.94886     50   \n",
       "9777            brooklyn  entire_home/apt  40.68040  -73.93183    105   \n",
       "9778              queens     private_room  40.74301  -73.89458     50   \n",
       "\n",
       "      minimum_nights  number_of_reviews  reviews_per_month  \\\n",
       "0                  2                  0               0.00   \n",
       "1                  2                  0               0.00   \n",
       "2                  1                 53               2.15   \n",
       "3                  1                119               2.57   \n",
       "4                  3                 12               0.19   \n",
       "...              ...                ...                ...   \n",
       "9774              14                  5               0.13   \n",
       "9775               6                  5               2.17   \n",
       "9776               2                263               2.69   \n",
       "9777               7                 53               1.12   \n",
       "9778              30                  2               0.50   \n",
       "\n",
       "      calculated_host_listings_count  availability_365  \n",
       "0                                  2                66  \n",
       "1                                  1               282  \n",
       "2                                  1                 0  \n",
       "3                                  2                 1  \n",
       "4                                  2                 0  \n",
       "...                              ...               ...  \n",
       "9774                               1               322  \n",
       "9775                               1                40  \n",
       "9776                               2               136  \n",
       "9777                               2                77  \n",
       "9778                             103               269  \n",
       "\n",
       "[9779 rows x 10 columns]"
      ]
     },
     "execution_count": 8,
     "metadata": {},
     "output_type": "execute_result"
    }
   ],
   "source": [
    "df_train.reset_index(drop = True)\n",
    "df_val.reset_index(drop = True)\n",
    "df_test.reset_index(drop = True)"
   ]
  },
  {
   "cell_type": "code",
   "execution_count": 9,
   "id": "35c6da5e-1632-4cf9-81a7-cb5242ccb92b",
   "metadata": {},
   "outputs": [],
   "source": [
    "y_train = df_train.price.values\n",
    "y_val = df_val.price.values\n",
    "y_test = df_test.price.values"
   ]
  },
  {
   "cell_type": "code",
   "execution_count": 10,
   "id": "834f9099-cef5-4d0f-a019-58bac047f465",
   "metadata": {},
   "outputs": [],
   "source": [
    "del df_train['price']\n",
    "del df_val['price']\n",
    "del df_test['price']"
   ]
  },
  {
   "cell_type": "code",
   "execution_count": 11,
   "id": "2899b691-5df5-4c78-99a3-e6f9b29564e1",
   "metadata": {},
   "outputs": [
    {
     "data": {
      "text/plain": [
       "neighbourhood_group                object\n",
       "room_type                          object\n",
       "latitude                          float64\n",
       "longitude                         float64\n",
       "minimum_nights                      int64\n",
       "number_of_reviews                   int64\n",
       "reviews_per_month                 float64\n",
       "calculated_host_listings_count      int64\n",
       "availability_365                    int64\n",
       "dtype: object"
      ]
     },
     "execution_count": 11,
     "metadata": {},
     "output_type": "execute_result"
    }
   ],
   "source": [
    "# Create the correlation matrix\n",
    "df_train.dtypes"
   ]
  },
  {
   "cell_type": "code",
   "execution_count": 12,
   "id": "5dcb86bd-d8e9-4b13-8d5d-1fb140cc4d24",
   "metadata": {},
   "outputs": [],
   "source": [
    "numerical = ['latitude', 'longitude', 'minimum_nights', 'number_of_reviews', 'reviews_per_month', 'calculated_host_listings_count', 'availability_365']\n",
    "df_corr = df[numerical].corr()"
   ]
  },
  {
   "cell_type": "code",
   "execution_count": 13,
   "id": "9b3eb427-00c6-4df1-8ff4-8b5189fbf01e",
   "metadata": {},
   "outputs": [
    {
     "data": {
      "text/html": [
       "<div>\n",
       "<style scoped>\n",
       "    .dataframe tbody tr th:only-of-type {\n",
       "        vertical-align: middle;\n",
       "    }\n",
       "\n",
       "    .dataframe tbody tr th {\n",
       "        vertical-align: top;\n",
       "    }\n",
       "\n",
       "    .dataframe thead th {\n",
       "        text-align: right;\n",
       "    }\n",
       "</style>\n",
       "<table border=\"1\" class=\"dataframe\">\n",
       "  <thead>\n",
       "    <tr style=\"text-align: right;\">\n",
       "      <th></th>\n",
       "      <th>latitude</th>\n",
       "      <th>longitude</th>\n",
       "      <th>minimum_nights</th>\n",
       "      <th>number_of_reviews</th>\n",
       "      <th>reviews_per_month</th>\n",
       "      <th>calculated_host_listings_count</th>\n",
       "      <th>availability_365</th>\n",
       "    </tr>\n",
       "  </thead>\n",
       "  <tbody>\n",
       "    <tr>\n",
       "      <th>latitude</th>\n",
       "      <td>1.000000</td>\n",
       "      <td>0.084788</td>\n",
       "      <td>0.024869</td>\n",
       "      <td>-0.015389</td>\n",
       "      <td>-0.018758</td>\n",
       "      <td>0.019517</td>\n",
       "      <td>-0.010983</td>\n",
       "    </tr>\n",
       "    <tr>\n",
       "      <th>longitude</th>\n",
       "      <td>0.084788</td>\n",
       "      <td>1.000000</td>\n",
       "      <td>-0.062747</td>\n",
       "      <td>0.059094</td>\n",
       "      <td>0.138516</td>\n",
       "      <td>-0.114713</td>\n",
       "      <td>0.082731</td>\n",
       "    </tr>\n",
       "    <tr>\n",
       "      <th>minimum_nights</th>\n",
       "      <td>0.024869</td>\n",
       "      <td>-0.062747</td>\n",
       "      <td>1.000000</td>\n",
       "      <td>-0.080116</td>\n",
       "      <td>-0.124905</td>\n",
       "      <td>0.127960</td>\n",
       "      <td>0.144303</td>\n",
       "    </tr>\n",
       "    <tr>\n",
       "      <th>number_of_reviews</th>\n",
       "      <td>-0.015389</td>\n",
       "      <td>0.059094</td>\n",
       "      <td>-0.080116</td>\n",
       "      <td>1.000000</td>\n",
       "      <td>0.589407</td>\n",
       "      <td>-0.072376</td>\n",
       "      <td>0.172028</td>\n",
       "    </tr>\n",
       "    <tr>\n",
       "      <th>reviews_per_month</th>\n",
       "      <td>-0.018758</td>\n",
       "      <td>0.138516</td>\n",
       "      <td>-0.124905</td>\n",
       "      <td>0.589407</td>\n",
       "      <td>1.000000</td>\n",
       "      <td>-0.047312</td>\n",
       "      <td>0.163732</td>\n",
       "    </tr>\n",
       "    <tr>\n",
       "      <th>calculated_host_listings_count</th>\n",
       "      <td>0.019517</td>\n",
       "      <td>-0.114713</td>\n",
       "      <td>0.127960</td>\n",
       "      <td>-0.072376</td>\n",
       "      <td>-0.047312</td>\n",
       "      <td>1.000000</td>\n",
       "      <td>0.225701</td>\n",
       "    </tr>\n",
       "    <tr>\n",
       "      <th>availability_365</th>\n",
       "      <td>-0.010983</td>\n",
       "      <td>0.082731</td>\n",
       "      <td>0.144303</td>\n",
       "      <td>0.172028</td>\n",
       "      <td>0.163732</td>\n",
       "      <td>0.225701</td>\n",
       "      <td>1.000000</td>\n",
       "    </tr>\n",
       "  </tbody>\n",
       "</table>\n",
       "</div>"
      ],
      "text/plain": [
       "                                latitude  longitude  minimum_nights  \\\n",
       "latitude                        1.000000   0.084788        0.024869   \n",
       "longitude                       0.084788   1.000000       -0.062747   \n",
       "minimum_nights                  0.024869  -0.062747        1.000000   \n",
       "number_of_reviews              -0.015389   0.059094       -0.080116   \n",
       "reviews_per_month              -0.018758   0.138516       -0.124905   \n",
       "calculated_host_listings_count  0.019517  -0.114713        0.127960   \n",
       "availability_365               -0.010983   0.082731        0.144303   \n",
       "\n",
       "                                number_of_reviews  reviews_per_month  \\\n",
       "latitude                                -0.015389          -0.018758   \n",
       "longitude                                0.059094           0.138516   \n",
       "minimum_nights                          -0.080116          -0.124905   \n",
       "number_of_reviews                        1.000000           0.589407   \n",
       "reviews_per_month                        0.589407           1.000000   \n",
       "calculated_host_listings_count          -0.072376          -0.047312   \n",
       "availability_365                         0.172028           0.163732   \n",
       "\n",
       "                                calculated_host_listings_count  \\\n",
       "latitude                                              0.019517   \n",
       "longitude                                            -0.114713   \n",
       "minimum_nights                                        0.127960   \n",
       "number_of_reviews                                    -0.072376   \n",
       "reviews_per_month                                    -0.047312   \n",
       "calculated_host_listings_count                        1.000000   \n",
       "availability_365                                      0.225701   \n",
       "\n",
       "                                availability_365  \n",
       "latitude                               -0.010983  \n",
       "longitude                               0.082731  \n",
       "minimum_nights                          0.144303  \n",
       "number_of_reviews                       0.172028  \n",
       "reviews_per_month                       0.163732  \n",
       "calculated_host_listings_count          0.225701  \n",
       "availability_365                        1.000000  "
      ]
     },
     "execution_count": 13,
     "metadata": {},
     "output_type": "execute_result"
    }
   ],
   "source": [
    "df_corr"
   ]
  },
  {
   "cell_type": "code",
   "execution_count": 44,
   "id": "eb943f51-4e18-42b8-8814-36e95c335ec0",
   "metadata": {},
   "outputs": [
    {
     "data": {
      "text/plain": [
       "array([0, 0, 1, ..., 0, 1, 1])"
      ]
     },
     "execution_count": 44,
     "metadata": {},
     "output_type": "execute_result"
    }
   ],
   "source": [
    "# Create a variable above_average which is 1 if the price is above (or equal to) 152.\n",
    "above_average = (y_train >= 152).astype(int)\n",
    "above_average"
   ]
  },
  {
   "cell_type": "code",
   "execution_count": 15,
   "id": "f74e3a72-4289-4900-aade-9b63957fcf47",
   "metadata": {},
   "outputs": [],
   "source": [
    "from sklearn.metrics import mutual_info_score"
   ]
  },
  {
   "cell_type": "code",
   "execution_count": 45,
   "id": "2b9aca26-5103-4db0-8e4e-63c7f9d6bbc6",
   "metadata": {},
   "outputs": [
    {
     "data": {
      "text/plain": [
       "0.05"
      ]
     },
     "execution_count": 45,
     "metadata": {},
     "output_type": "execute_result"
    }
   ],
   "source": [
    "# Calculate the mutual information score with the (binarized) price for the two categorical variables that we have. Use the training set only.\n",
    "# Which of these two variables has bigger score?\n",
    "score = mutual_info_score(above_average, df_train['neighbourhood_group'])\n",
    "round(score, 2)"
   ]
  },
  {
   "cell_type": "code",
   "execution_count": 46,
   "id": "22051be6-8677-4896-9b6f-e4c7f80b066e",
   "metadata": {},
   "outputs": [
    {
     "data": {
      "text/plain": [
       "0.14"
      ]
     },
     "execution_count": 46,
     "metadata": {},
     "output_type": "execute_result"
    }
   ],
   "source": [
    "score = mutual_info_score(above_average, df_train['room_type'])\n",
    "round(score, 2)"
   ]
  },
  {
   "cell_type": "code",
   "execution_count": 18,
   "id": "9073f091-133d-48b6-b502-69e588f0fa52",
   "metadata": {},
   "outputs": [],
   "source": [
    "from sklearn.feature_extraction import DictVectorizer"
   ]
  },
  {
   "cell_type": "code",
   "execution_count": 47,
   "id": "d64606d1-9c4e-41e5-805c-092600f28d9d",
   "metadata": {},
   "outputs": [],
   "source": [
    "# One-hot encoding\n",
    "train_dicts = df_train[categorical + numerical].to_dict(orient='records')"
   ]
  },
  {
   "cell_type": "code",
   "execution_count": 33,
   "id": "4bde52f8-1575-4a31-88fe-c8ffe2bba347",
   "metadata": {},
   "outputs": [],
   "source": [
    "dv = DictVectorizer(sparse=False)"
   ]
  },
  {
   "cell_type": "code",
   "execution_count": 34,
   "id": "44c02c29-6441-4c90-a0a1-c10c2ca9d6bf",
   "metadata": {},
   "outputs": [],
   "source": [
    "X_train = dv.fit_transform(train_dicts)\n"
   ]
  },
  {
   "cell_type": "code",
   "execution_count": 35,
   "id": "9217475b-2253-4fb5-848a-20e16340c3c1",
   "metadata": {},
   "outputs": [],
   "source": [
    "val_dicts = df_val[categorical + numerical].to_dict(orient='records')\n",
    "X_val = dv.transform(val_dicts)"
   ]
  },
  {
   "cell_type": "code",
   "execution_count": 23,
   "id": "3cff4321-e661-4e54-ab3a-6ec2fa4657dc",
   "metadata": {},
   "outputs": [],
   "source": [
    "from sklearn.linear_model import LogisticRegression"
   ]
  },
  {
   "cell_type": "code",
   "execution_count": 36,
   "id": "2bf1d70d-d58d-4310-b8f5-7129764c22be",
   "metadata": {},
   "outputs": [],
   "source": [
    "model = LogisticRegression(solver='lbfgs', C=1.0, random_state=42)"
   ]
  },
  {
   "cell_type": "code",
   "execution_count": 48,
   "id": "36085f96-d488-41f5-bd71-1ae223926a3c",
   "metadata": {},
   "outputs": [
    {
     "name": "stderr",
     "output_type": "stream",
     "text": [
      "C:\\Users\\Luke Luo\\anaconda3\\lib\\site-packages\\sklearn\\linear_model\\_logistic.py:763: ConvergenceWarning: lbfgs failed to converge (status=1):\n",
      "STOP: TOTAL NO. of ITERATIONS REACHED LIMIT.\n",
      "\n",
      "Increase the number of iterations (max_iter) or scale the data as shown in:\n",
      "    https://scikit-learn.org/stable/modules/preprocessing.html\n",
      "Please also refer to the documentation for alternative solver options:\n",
      "    https://scikit-learn.org/stable/modules/linear_model.html#logistic-regression\n",
      "  n_iter_i = _check_optimize_result(\n"
     ]
    },
    {
     "data": {
      "text/plain": [
       "LogisticRegression(random_state=42)"
      ]
     },
     "execution_count": 48,
     "metadata": {},
     "output_type": "execute_result"
    }
   ],
   "source": [
    "model.fit(X_train, (y_train >= 152).astype(int))"
   ]
  },
  {
   "cell_type": "code",
   "execution_count": 49,
   "id": "c3653b7b-84dc-4bdf-8f10-18f593cce536",
   "metadata": {},
   "outputs": [
    {
     "data": {
      "text/plain": [
       "array([ 0.003,  0.004, -0.218, -0.089, -0.01 , -0.366,  0.098,  1.197,\n",
       "       -0.798, -0.134, -0.003, -0.047,  1.655, -1.216, -0.442])"
      ]
     },
     "execution_count": 49,
     "metadata": {},
     "output_type": "execute_result"
    }
   ],
   "source": [
    "model.coef_[0].round(3)"
   ]
  },
  {
   "cell_type": "code",
   "execution_count": 50,
   "id": "da732504-d7c7-4ff7-be73-694e5610a069",
   "metadata": {},
   "outputs": [
    {
     "data": {
      "text/plain": [
       "array([0.08999742, 0.36203746, 0.61808978, ..., 0.61900055, 0.62550043,\n",
       "       0.47035374])"
      ]
     },
     "execution_count": 50,
     "metadata": {},
     "output_type": "execute_result"
    }
   ],
   "source": [
    "y_pred = model.predict_proba(X_val)[:, 1]\n",
    "y_pred"
   ]
  },
  {
   "cell_type": "code",
   "execution_count": 51,
   "id": "1144369c-79d6-4d26-9229-c08b33f1950a",
   "metadata": {},
   "outputs": [
    {
     "data": {
      "text/plain": [
       "array([0, 0, 1, ..., 1, 1, 0])"
      ]
     },
     "execution_count": 51,
     "metadata": {},
     "output_type": "execute_result"
    }
   ],
   "source": [
    "result = y_pred >= .5\n",
    "result.astype(int)"
   ]
  },
  {
   "cell_type": "code",
   "execution_count": 55,
   "id": "2b127322-e26e-4947-8766-52952353ebbf",
   "metadata": {},
   "outputs": [
    {
     "data": {
      "text/plain": [
       "0.7905716330913182"
      ]
     },
     "execution_count": 55,
     "metadata": {},
     "output_type": "execute_result"
    }
   ],
   "source": [
    "full_mean = ((y_val >= 152).astype(int) == result).mean()\n",
    "full_mean"
   ]
  },
  {
   "cell_type": "markdown",
   "id": "2d5af295-f873-4277-9df2-4747493b2d41",
   "metadata": {},
   "source": [
    "Question 5\n",
    "\n",
    "We have 9 features: 7 numerical features and 2 categorical.\n",
    "\n",
    "Let's find the least useful one using the feature elimination technique.\n",
    "\n",
    "Train a model with all these features (using the same parameters as in Q4).\n",
    "\n",
    "Now exclude each feature from this set and train a model without it. Record the accuracy for each model.\n",
    "\n",
    "For each feature, calculate the difference between the original accuracy and the accuracy without the feature.\n",
    "\n",
    "Which of following feature has the smallest difference?\n",
    "\n",
    "neighbourhood_group\n",
    "\n",
    "room_type\n",
    "\n",
    "number_of_reviews\n",
    "\n",
    "reviews_per_month\n",
    "\n",
    "note: the difference doesn't have to be positive"
   ]
  },
  {
   "cell_type": "code",
   "execution_count": 57,
   "id": "d408b13f-28ca-4450-93bf-c991741b5b9c",
   "metadata": {},
   "outputs": [],
   "source": [
    "def find_mean_diff(columns):\n",
    "\n",
    "    train_dicts = df_train[columns].to_dict(orient='records')\n",
    "    dv = DictVectorizer(sparse=False)\n",
    "    X_train = dv.fit_transform(train_dicts)\n",
    "    val_dicts = df_val[columns].to_dict(orient='records')\n",
    "    X_val = dv.transform(val_dicts)\n",
    "    model = LogisticRegression(solver='lbfgs', C=1.0, random_state=42)\n",
    "    model.fit(X_train, (y_train >= 152).astype(int))\n",
    "\n",
    "    y_pred = model.predict_proba(X_val)[:, 1]\n",
    "    result = y_pred >= .5\n",
    "    result.astype(int)\n",
    "    mean = ((y_val >= 152).astype(int) == result).mean()\n",
    "    return(full_mean - mean)"
   ]
  },
  {
   "cell_type": "code",
   "execution_count": 58,
   "id": "29c7a1d9-e27f-4f8a-b56c-e3317d3371ba",
   "metadata": {},
   "outputs": [
    {
     "name": "stdout",
     "output_type": "stream",
     "text": [
      "0.04202883730442786\n"
     ]
    }
   ],
   "source": [
    "# Exclude neighbourhood_group\n",
    "no_neighbourhood = ['room_type','latitude', 'longitude', 'minimum_nights', 'number_of_reviews', 'reviews_per_month', 'calculated_host_listings_count', 'availability_365']\n",
    "print(find_mean_diff(no_neighbourhood))"
   ]
  },
  {
   "cell_type": "code",
   "execution_count": 59,
   "id": "49f84fc0-62ac-4a24-bb1c-0b3adc9d47b1",
   "metadata": {},
   "outputs": [
    {
     "name": "stdout",
     "output_type": "stream",
     "text": [
      "0.06452602515594641\n"
     ]
    },
    {
     "name": "stderr",
     "output_type": "stream",
     "text": [
      "C:\\Users\\Luke Luo\\anaconda3\\lib\\site-packages\\sklearn\\linear_model\\_logistic.py:763: ConvergenceWarning: lbfgs failed to converge (status=1):\n",
      "STOP: TOTAL NO. of ITERATIONS REACHED LIMIT.\n",
      "\n",
      "Increase the number of iterations (max_iter) or scale the data as shown in:\n",
      "    https://scikit-learn.org/stable/modules/preprocessing.html\n",
      "Please also refer to the documentation for alternative solver options:\n",
      "    https://scikit-learn.org/stable/modules/linear_model.html#logistic-regression\n",
      "  n_iter_i = _check_optimize_result(\n"
     ]
    }
   ],
   "source": [
    "# Exclude room_type\n",
    "no_room_type = ['neighbourhood_group','latitude', 'longitude', 'minimum_nights', 'number_of_reviews', 'reviews_per_month', 'calculated_host_listings_count', 'availability_365']\n",
    "print(find_mean_diff(no_room_type))"
   ]
  },
  {
   "cell_type": "code",
   "execution_count": 60,
   "id": "4326ddea-2a0e-43c1-946e-bf99f28340e4",
   "metadata": {},
   "outputs": [
    {
     "name": "stdout",
     "output_type": "stream",
     "text": [
      "-0.0006135596686777101\n"
     ]
    },
    {
     "name": "stderr",
     "output_type": "stream",
     "text": [
      "C:\\Users\\Luke Luo\\anaconda3\\lib\\site-packages\\sklearn\\linear_model\\_logistic.py:763: ConvergenceWarning: lbfgs failed to converge (status=1):\n",
      "STOP: TOTAL NO. of ITERATIONS REACHED LIMIT.\n",
      "\n",
      "Increase the number of iterations (max_iter) or scale the data as shown in:\n",
      "    https://scikit-learn.org/stable/modules/preprocessing.html\n",
      "Please also refer to the documentation for alternative solver options:\n",
      "    https://scikit-learn.org/stable/modules/linear_model.html#logistic-regression\n",
      "  n_iter_i = _check_optimize_result(\n"
     ]
    }
   ],
   "source": [
    "# Exclude number_of_reviews\n",
    "no_no_reviews = ['neighbourhood_group', 'room_type', 'latitude', 'longitude', 'minimum_nights', 'reviews_per_month', 'calculated_host_listings_count', 'availability_365']\n",
    "print(find_mean_diff(no_no_reviews))"
   ]
  },
  {
   "cell_type": "code",
   "execution_count": 61,
   "id": "e37cd052-6dc4-4c80-ba75-5d64c9ff46a0",
   "metadata": {},
   "outputs": [
    {
     "name": "stdout",
     "output_type": "stream",
     "text": [
      "0.0004090397791185474\n"
     ]
    },
    {
     "name": "stderr",
     "output_type": "stream",
     "text": [
      "C:\\Users\\Luke Luo\\anaconda3\\lib\\site-packages\\sklearn\\linear_model\\_logistic.py:763: ConvergenceWarning: lbfgs failed to converge (status=1):\n",
      "STOP: TOTAL NO. of ITERATIONS REACHED LIMIT.\n",
      "\n",
      "Increase the number of iterations (max_iter) or scale the data as shown in:\n",
      "    https://scikit-learn.org/stable/modules/preprocessing.html\n",
      "Please also refer to the documentation for alternative solver options:\n",
      "    https://scikit-learn.org/stable/modules/linear_model.html#logistic-regression\n",
      "  n_iter_i = _check_optimize_result(\n"
     ]
    }
   ],
   "source": [
    "# Exclude room_type\n",
    "no_month_reviews = ['neighbourhood_group', 'room_type', 'latitude', 'longitude', 'minimum_nights', 'number_of_reviews', 'calculated_host_listings_count', 'availability_365']\n",
    "print(find_mean_diff(no_month_reviews))"
   ]
  },
  {
   "cell_type": "markdown",
   "id": "017a3d5c-364b-4c1b-afd6-1b5f96886f2f",
   "metadata": {},
   "source": [
    "For this question, we'll see how to use a linear regression model from Scikit-Learn\n",
    "\n",
    "We'll need to use the original column 'price'. Apply the logarithmic transformation to this column.\n",
    "\n",
    "Fit the Ridge regression model on the training data.\n",
    "\n",
    "This model has a parameter alpha. Let's try the following values: [0, 0.01, 0.1, 1, 10]\n",
    "\n",
    "Which of these alphas leads to the best RMSE on the validation set? Round your RMSE scores to 3 decimal digits.\n",
    "\n",
    "If there are multiple options, select the smallest alpha."
   ]
  },
  {
   "cell_type": "code",
   "execution_count": 64,
   "id": "f3d55e20-5b09-4b92-8497-c52f11339d67",
   "metadata": {},
   "outputs": [],
   "source": [
    "y_train_log = np.log1p(y_train)\n",
    "y_val_log = np.log1p(y_val)\n",
    "y_test_log = np.log1p(y_test)"
   ]
  },
  {
   "cell_type": "code",
   "execution_count": 65,
   "id": "ac6f62e1-8018-469b-bf32-139825cda4cf",
   "metadata": {},
   "outputs": [],
   "source": [
    "from sklearn.linear_model import Ridge"
   ]
  },
  {
   "cell_type": "code",
   "execution_count": 67,
   "id": "3fae7fb9-e2ea-4073-a141-5138165c12ae",
   "metadata": {},
   "outputs": [],
   "source": [
    "def rmse(y, y_pred):\n",
    "    se = (y-y_pred) ** 2\n",
    "    mse = se.mean()\n",
    "    return np.sqrt(mse)"
   ]
  },
  {
   "cell_type": "code",
   "execution_count": 73,
   "id": "83c880b8-35a2-4b7c-b429-21408931c629",
   "metadata": {},
   "outputs": [
    {
     "name": "stdout",
     "output_type": "stream",
     "text": [
      "0\n",
      "0.494\n",
      "0.01\n",
      "0.494\n",
      "0.1\n",
      "0.494\n",
      "1\n",
      "0.494\n",
      "10\n",
      "0.495\n"
     ]
    }
   ],
   "source": [
    "for a in [0, 0.01, 0.1, 1, 10]:\n",
    "    train_dicts = df_train[categorical + numerical].to_dict(orient='records')\n",
    "    dv = DictVectorizer(sparse=False)\n",
    "    X_train = dv.fit_transform(train_dicts)\n",
    "    val_dicts = df_val[categorical + numerical].to_dict(orient='records')\n",
    "    X_val = dv.transform(val_dicts)\n",
    "    model = Ridge(alpha=a, random_state=42)\n",
    "    model.fit(X_train, y_train_log)\n",
    "\n",
    "    y_pred = model.predict(X_val)\n",
    "    score = rmse(y_val_log, y_pred)\n",
    "    print(a)\n",
    "    print(round(score, 3))"
   ]
  },
  {
   "cell_type": "code",
   "execution_count": null,
   "id": "3dbe663d-9448-4017-89d2-5b5a1ad207a2",
   "metadata": {},
   "outputs": [],
   "source": []
  }
 ],
 "metadata": {
  "kernelspec": {
   "display_name": "Python 3",
   "language": "python",
   "name": "python3"
  },
  "language_info": {
   "codemirror_mode": {
    "name": "ipython",
    "version": 3
   },
   "file_extension": ".py",
   "mimetype": "text/x-python",
   "name": "python",
   "nbconvert_exporter": "python",
   "pygments_lexer": "ipython3",
   "version": "3.8.8"
  }
 },
 "nbformat": 4,
 "nbformat_minor": 5
}
